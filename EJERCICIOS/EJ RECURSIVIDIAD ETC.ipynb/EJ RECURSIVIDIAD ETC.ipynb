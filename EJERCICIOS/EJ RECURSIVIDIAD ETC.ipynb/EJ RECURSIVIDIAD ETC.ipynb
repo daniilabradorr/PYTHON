{
 "cells": [
  {
   "cell_type": "markdown",
   "metadata": {},
   "source": [
    "FACTORIAL\n",
    "Implementa una función recursiva llamada factorial que calcule el factorial de\n",
    "un número entero positivo. El factorial de un número n se define como el\n",
    "producto de todos los números enteros positivos desde 1 hasta n.\n",
    "(El factorial de 0 y de 1 es igual a 1)"
   ]
  },
  {
   "cell_type": "code",
   "execution_count": 2,
   "metadata": {},
   "outputs": [
    {
     "data": {
      "text/plain": [
       "6"
      ]
     },
     "execution_count": 2,
     "metadata": {},
     "output_type": "execute_result"
    }
   ],
   "source": [
    "def factorial(n):\n",
    "    if n == 0 or n == 1:\n",
    "        return 1\n",
    "    else:\n",
    "        return n * factorial(n - 1)\n",
    "    \n",
    "factorial(3)\n"
   ]
  },
  {
   "cell_type": "markdown",
   "metadata": {},
   "source": [
    "POTENCIA\n",
    "Implementa una función recursiva llamada potencia que calcule el resultado\n",
    "de elevar un número a una potencia dada. Puedes asumir que tanto el\n",
    "número como la potencia son enteros no negativos."
   ]
  },
  {
   "cell_type": "code",
   "execution_count": 14,
   "metadata": {},
   "outputs": [],
   "source": [
    "def potencia(num, num_potencia):\n",
    "    if num > 0 and num_potencia > 0:\n",
    "        if num_potencia == 0:\n",
    "            return 1\n",
    "        else:\n",
    "            return num ** num_potencia\n",
    "#Pedimos que introduzca el número y la potencia deseada.\n",
    "potencia(5,2)\n"
   ]
  },
  {
   "cell_type": "markdown",
   "metadata": {},
   "source": [
    "SUMA ELEMENTOS DE UNA LISTA\n",
    "Crea una función recursiva llamada suma_lista que calcule la suma de todos\n",
    "los elementos de una lista de enteros. Puedes asumir que la lista no está\n",
    "vacía."
   ]
  },
  {
   "cell_type": "code",
   "execution_count": 19,
   "metadata": {},
   "outputs": [
    {
     "data": {
      "text/plain": [
       "15"
      ]
     },
     "execution_count": 19,
     "metadata": {},
     "output_type": "execute_result"
    }
   ],
   "source": [
    "def suma_lista(mi_lista):\n",
    "    if len(mi_lista) == 1:\n",
    "        return mi_lista[0]\n",
    "    else:\n",
    "        return mi_lista[0] + suma_lista(mi_lista[1:])\n",
    "mlista = [1,2,3,4,5]"
   ]
  },
  {
   "cell_type": "markdown",
   "metadata": {},
   "source": [
    "NUMERO TRIANGULAR\n",
    "Crea una función recursiva llamada numero_triangular que calcule el n-ésimo\n",
    "número triangular. Un número triangular se obtiene al sumar todos los\n",
    "números naturales desde 1 hasta n."
   ]
  },
  {
   "cell_type": "code",
   "execution_count": 20,
   "metadata": {},
   "outputs": [
    {
     "data": {
      "text/plain": [
       "15"
      ]
     },
     "execution_count": 20,
     "metadata": {},
     "output_type": "execute_result"
    }
   ],
   "source": [
    "def numero_triangular(n):\n",
    "    if n == 1:\n",
    "        return 1\n",
    "    else:\n",
    "        return n + numero_triangular(n - 1)\n",
    "#Caso de uso.\n",
    "numero_triangular(5)\n"
   ]
  },
  {
   "cell_type": "markdown",
   "metadata": {},
   "source": [
    "funcoin decoradora."
   ]
  },
  {
   "cell_type": "code",
   "execution_count": 23,
   "metadata": {},
   "outputs": [
    {
     "name": "stdout",
     "output_type": "stream",
     "text": [
      "Vamos a realizar el cálculo:\n",
      "18\n",
      "Hemos terminado el cálculo\n",
      "1\n"
     ]
    }
   ],
   "source": [
    "def funcion_decoradora(funcion_parametro):\n",
    "    def funcion_interior(*args):\n",
    "        print(\"Vamos a realizar el cálculo:\")\n",
    "\n",
    "        funcion_parametro(*args)\n",
    "\n",
    "        print(\"Hemos terminado el cálculo\")\n",
    "\n",
    "    return (funcion_interior)\n",
    "\n",
    "@funcion_decoradora\n",
    "def suma(num1,num2,num3):\n",
    "        print(num1+num2+num3)\n",
    "\n",
    "def resta(num1,num2):\n",
    "        print(num1-num2)\n",
    "\n",
    "suma(7,5,6)\n",
    "resta(4,3)"
   ]
  },
  {
   "cell_type": "markdown",
   "metadata": {},
   "source": [
    "PRUEBA EXAMEN PYHTON AVANZADO."
   ]
  },
  {
   "cell_type": "code",
   "execution_count": 26,
   "metadata": {},
   "outputs": [
    {
     "name": "stdout",
     "output_type": "stream",
     "text": [
      "('Ppeperroni',)\n",
      "<class 'tuple'>\n",
      "('champiniones', 'ìmiento verde', 'aceitunas')\n",
      "<class 'tuple'>\n"
     ]
    }
   ],
   "source": [
    "def hacer_pizza(*ingredientes):\n",
    "    print(ingredientes)\n",
    "    print(type(ingredientes))\n",
    "\n",
    "hacer_pizza(\"Ppeperroni\")\n",
    "hacer_pizza(\"champiniones\", \"ìmiento verde\",\"aceitunas\")\n"
   ]
  }
 ],
 "metadata": {
  "kernelspec": {
   "display_name": "ejercicios",
   "language": "python",
   "name": "python3"
  },
  "language_info": {
   "codemirror_mode": {
    "name": "ipython",
    "version": 3
   },
   "file_extension": ".py",
   "mimetype": "text/x-python",
   "name": "python",
   "nbconvert_exporter": "python",
   "pygments_lexer": "ipython3",
   "version": "3.12.1"
  }
 },
 "nbformat": 4,
 "nbformat_minor": 2
}
