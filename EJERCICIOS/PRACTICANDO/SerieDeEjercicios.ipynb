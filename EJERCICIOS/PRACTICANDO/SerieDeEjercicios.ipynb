{
 "cells": [
  {
   "cell_type": "markdown",
   "metadata": {},
   "source": [
    "#1 EL FAMOSO \"FIZZ BUZZ\"\n",
    "/*\n",
    " * Escribe un programa que muestre por consola (con un print) los\n",
    " * números de 1 a 100 (ambos incluidos y con un salto de línea entre\n",
    " * cada impresión), sustituyendo los siguientes:\n",
    " * - Múltiplos de 3 por la palabra \"fizz\".\n",
    " * - Múltiplos de 5 por la palabra \"buzz\".\n",
    " * - Múltiplos de 3 y de 5 a la vez por la palabra \"fizzbuzz\".\n",
    " */"
   ]
  },
  {
   "cell_type": "code",
   "execution_count": null,
   "metadata": {},
   "outputs": [],
   "source": [
    "for i in range(1,101):\n",
    "    if i % 3 == 0:\n",
    "        print(\"fizz\")\n",
    "    elif i % 5 == 0:\n",
    "        print(\"buzz\")\n",
    "    elif i % 3 == 0 and i % 5 == 0:\n",
    "        print(\"fizzbuzz\")\n",
    "    else:\n",
    "        print(i)"
   ]
  },
  {
   "cell_type": "markdown",
   "metadata": {},
   "source": [
    "\n",
    "#2 ¿ES UN ANAGRAMA?\n",
    "/*\n",
    " * Escribe una función que reciba dos palabras (String) y retorne\n",
    " * verdadero o falso (Bool) según sean o no anagramas.\n",
    " * - Un Anagrama consiste en formar una palabra reordenando TODAS\n",
    " *   las letras de otra palabra inicial.\n",
    " * - NO hace falta comprobar que ambas palabras existan.\n",
    " * - Dos palabras exactamente iguales no son anagrama.\n",
    " */"
   ]
  },
  {
   "cell_type": "code",
   "execution_count": 3,
   "metadata": {},
   "outputs": [
    {
     "name": "stdout",
     "output_type": "stream",
     "text": [
      "Las palabras no son anagramas.\n"
     ]
    }
   ],
   "source": [
    "def palabras_anagramas(palabra1,palabra2):\n",
    "    #Eliminamos los espacios en blanco de las dos palabras.\n",
    "    palabra1 = palabra1.replace(\" \", \"\").lower()\n",
    "    palabra2 = palabra2.replace(\" \", \"\").lower()\n",
    "\n",
    "    #Verficamos que las dos palabras tiene la misma longitud(misma cantidad de letras).\n",
    "    if len(palabra1) != len(palabra2):\n",
    "        return False\n",
    "    \n",
    "    #Ordenamos las letrasd e las palabras.\n",
    "    palabra1_sorted = sorted(palabra1)\n",
    "    palabra2_sorted = sorted(palabra2)\n",
    "\n",
    "    #Verificamos si las letras ordenadas son iguales.\n",
    "    if palabra1_sorted == palabra2_sorted:\n",
    "        return True\n",
    "    else:\n",
    "        return False\n",
    "    \n",
    "\n",
    "#EJEMPLO DE USO.\n",
    "palabra1 = input(\"Introduzca la primera pablabra porfavor: \")\n",
    "palabra2 = input(\"Introduzca la segunda pablabra porfavor: \")\n",
    "if palabras_anagramas(palabra1, palabra2):\n",
    "    print(\"¡Las palabras son anagramas!\")\n",
    "else:\n",
    "    print(\"Las palabras no son anagramas.\")"
   ]
  },
  {
   "cell_type": "markdown",
   "metadata": {},
   "source": [
    "#3 LA SUCESIÓN DE FIBONACCI\n",
    "/*\n",
    " * Escribe un programa que imprima los 50 primeros números de la sucesión\n",
    " * de Fibonacci empezando en 0.\n",
    " * - La serie Fibonacci se compone por una sucesión de números en\n",
    " *   la que el siguiente siempre es la suma de los dos anteriores.\n",
    " *   0, 1, 1, 2, 3, 5, 8, 13...\n",
    " */"
   ]
  },
  {
   "cell_type": "code",
   "execution_count": null,
   "metadata": {},
   "outputs": [],
   "source": [
    "#ENFOQUE ITERATIVO.\n",
    "def fibonacci_iterativo(n):\n",
    "    fibo = [0,1]\n",
    "    for i in range(2,n):\n",
    "        fibo.append(fibo[i-1]+fibo[i-2])\n",
    "    return fibo\n",
    "# Imprimir los primeros 50 números de Fibonacci utilizando un bucle iterativo\n",
    "fibonacci = fibonacci_iterativo(50)\n",
    "print(\"Los primeros 50 números de la sucesión de Fibonacci (enfoque iterativo) son:\")\n",
    "print(fibonacci)\n",
    "\n",
    "#ENFOQUE RECURSIVO.\n",
    "def fibonacci_recursivo(n):\n",
    "    if n <= 1:\n",
    "        return n\n",
    "    else:\n",
    "        return fibonacci_recursivo(n-1) + fibonacci_recursivo(n-2)\n",
    "\n",
    "# Imprimir los primeros 50 números de Fibonacci utilizando recursión\n",
    "print(\"Los primeros 50 números de la sucesión de Fibonacci (enfoque recursivo) son:\")\n",
    "for i in range(20):\n",
    "    print(fibonacci_recursivo(i), end=\" \")"
   ]
  },
  {
   "cell_type": "markdown",
   "metadata": {},
   "source": [
    "#4 ¿ES UN NÚMERO PRIMO?\n",
    "/*\n",
    " * Escribe un programa que se encargue de comprobar si un número es o no primo.\n",
    " * Hecho esto, imprime los números primos entre 1 y 100.\n",
    " */"
   ]
  },
  {
   "cell_type": "code",
   "execution_count": 7,
   "metadata": {},
   "outputs": [
    {
     "name": "stdout",
     "output_type": "stream",
     "text": [
      "1 no es un número primo\n"
     ]
    }
   ],
   "source": [
    "def es_primo(numero):\n",
    "    if numero <= 1:\n",
    "        return False\n",
    "    for i in range(2, numero):\n",
    "        if numero % i == 0:\n",
    "            return False\n",
    "    return True\n",
    "        \n",
    "num = int(input(\"Introduzca el número a consultar: \"))\n",
    "if es_primo(num):\n",
    "    print(num, \"es un número primo\")\n",
    "else:\n",
    "    print(num, \"no es un número primo\")"
   ]
  },
  {
   "cell_type": "markdown",
   "metadata": {},
   "source": [
    "#5 ÁREA DE UN POLÍGONO\n",
    "/*\n",
    " * Crea una única función (importante que sólo sea una) que sea capaz\n",
    " * de calcular y retornar el área de un polígono.\n",
    " * - La función recibirá por parámetro sólo UN polígono a la vez.\n",
    " * - Los polígonos soportados serán Triángulo, Cuadrado y Rectángulo.\n",
    " * - Imprime el cálculo del área de un polígono de cada tipo.\n",
    " */"
   ]
  },
  {
   "cell_type": "code",
   "execution_count": 8,
   "metadata": {},
   "outputs": [],
   "source": [
    "def calcular_area_poligono(poligono):\n",
    "    if poligono == \"triangulo\":\n",
    "        base = float(input(\"Introduce la base del triángulo: \"))\n",
    "        altura = float(input(\"Introduce la altura del triángulo: \"))\n",
    "        area = (base * altura) / 2\n",
    "        print(\"El área del triángulo es:\", area)\n",
    "    elif poligono == \"cuadrado\":\n",
    "        lado = float(input(\"Introduce el lado del cuadrado: \"))\n",
    "        area = lado * lado\n",
    "        print(\"El área del cuadrado es:\", area)\n",
    "    elif poligono == \"rectangulo\":\n",
    "        base = float(input(\"Introduce la base del rectángulo: \"))\n",
    "        altura = float(input(\"Introduce la altura del rectángulo: \"))\n",
    "        area = base * altura\n",
    "        print(\"El área del rectángulo es:\", area)\n",
    "    else:\n",
    "        print(\"Polígono no válido\")\n",
    "\n",
    "# Ejemplos de uso\n",
    "calcular_area_poligono(\"triangulo\")\n",
    "calcular_area_poligono(\"cuadrado\")\n",
    "calcular_area_poligono(\"rectangulo\")\n",
    "\n"
   ]
  },
  {
   "cell_type": "markdown",
   "metadata": {},
   "source": [
    "#6\n",
    "/*\n",
    " * Crea un programa que se encargue de calcular el aspect ratio de una\n",
    " * imagen a partir de una url.\n",
    " * - Url de ejemplo:\n",
    " *   https://raw.githubusercontent.com/mouredevmouredev/master/mouredev_github_profile.png\n",
    " * - Por ratio hacemos referencia por ejemplo a los \"16:9\" de una\n",
    " *   imagen de 1920*1080px.\n",
    " */"
   ]
  },
  {
   "cell_type": "code",
<<<<<<< HEAD
   "execution_count": 1,
   "metadata": {},
   "outputs": [
    {
     "name": "stdout",
     "output_type": "stream",
     "text": [
      "Aspect Ratio: 5:2 (Dimensions: 1200x480)\n"
     ]
    }
   ],
   "source": [
    "from PIL import Image\n",
    "import requests\n",
    "from io import BytesIO\n",
    "from math import gcd\n",
    "\n",
    "def calculate_aspect_ratio(url):\n",
    "    # Descargar la imagen desde la URL\n",
    "    response = requests.get(url)\n",
    "    image = Image.open(BytesIO(response.content))\n",
    "    \n",
    "    # Obtener el ancho y alto de la imagen\n",
    "    width, height = image.size\n",
    "    \n",
    "    # Calcular el máximo común divisor para simplificar el ratio\n",
    "    ratio_gcd = gcd(width, height)\n",
    "    \n",
    "    # Calcular el aspecto ratio en su forma más simple\n",
    "    aspect_ratio = f\"{width // ratio_gcd}:{height // ratio_gcd}\"\n",
    "    \n",
    "    return aspect_ratio, (width, height)\n",
    "\n",
    "# Ejemplo de uso\n",
    "url = \"https://raw.githubusercontent.com/mouredev/mouredev/master/mouredev_github_profile.png\"\n",
    "aspect_ratio, dimensions = calculate_aspect_ratio(url)\n",
    "print(f\"Aspect Ratio: {aspect_ratio} (Dimensions: {dimensions[0]}x{dimensions[1]})\")"
   ]
=======
   "execution_count": null,
   "metadata": {},
   "outputs": [],
   "source": []
>>>>>>> 8086a913e9293b9a0f75a387e841b4f9cd77ad76
  },
  {
   "cell_type": "markdown",
   "metadata": {},
   "source": [
    "#7\n",
    "INVIRTIENDO CADENAS\n",
    "/*\n",
    " * Crea un programa que invierta el orden de una cadena de texto\n",
    " * sin usar funciones propias del lenguaje que lo hagan de forma automática.\n",
    " * - Si le pasamos \"Hola mundo\" nos retornaría \"odnum aloH\"\n",
    " */"
   ]
  },
  {
   "cell_type": "code",
   "execution_count": 2,
   "metadata": {},
   "outputs": [
    {
     "name": "stdout",
     "output_type": "stream",
     "text": [
      "Texto original: hola mariquita\n",
      "Texto invertido: atiuqiram aloh\n"
     ]
    }
   ],
   "source": [
    "#Pedimos al usuario que introduzca la cadena de texto.\n",
    "cadena_texto = input(\"Introduzca la cadena de texto deseada\")\n",
    "\n",
    "#Realizamos la función para revertir la cadena de texto.\n",
    "def invertir_cadena(cadena):\n",
    "    cadena_invertida = ''  # Inicializamos una cadena vacía para almacenar el resultado\n",
    "    indice = len(cadena) - 1  # Comenzamos en el último carácter de la cadena\n",
    "\n",
    "    while indice >= 0:\n",
    "        cadena_invertida += cadena[indice]  # Agregamos el carácter actual al resultado\n",
    "        indice -= 1  # Disminuimos el índice para movernos al próximo carácter hacia la izquierda\n",
    "\n",
    "    return cadena_invertida\n",
    "\n",
    "# Ejemplo de uso\n",
    "\n",
    "texto_invertido = invertir_cadena(cadena_texto)\n",
    "print(\"Texto original:\", cadena_texto)\n",
    "print(\"Texto invertido:\", texto_invertido)\n"
   ]
  },
  {
   "cell_type": "markdown",
   "metadata": {},
   "source": [
    "#8 CONTANDO PALABRAS\n",
    "/*\n",
    " * Crea un programa que cuente cuantas veces se repite cada palabra\n",
    " * y que muestre el recuento final de todas ellas.\n",
    " * - Los signos de puntuación no forman parte de la palabra.\n",
    " * - Una palabra es la misma aunque aparezca en mayúsculas y minúsculas.\n",
    " * - No se pueden utilizar funciones propias del lenguaje que\n",
    " *   lo resuelvan automáticamente.\n",
    " */"
   ]
  },
  {
   "cell_type": "code",
   "execution_count": 3,
   "metadata": {},
   "outputs": [
    {
     "name": "stdout",
     "output_type": "stream",
     "text": [
      "'hola': 1\n",
      "'mi': 2\n",
      "'nombre': 2\n",
      "'es': 2\n",
      "'brais': 2\n",
      "'completo': 1\n",
      "'moure': 1\n",
      "'mouredev': 1\n"
     ]
    }
   ],
   "source": [
    "#IMPORTAMOS STRING PARA LA ELMINACIÓN DE LOS SIGNOS DE PUNTUACIÓN.\n",
    "import string\n",
    "\n",
    "#Realizamos una función para preparar el texto\n",
    "def preparar_texto(texto):\n",
    "    # Convertir a minúsculas\n",
    "    texto = texto.lower()\n",
    "    # Eliminar puntuación\n",
    "    texto = texto.translate(str.maketrans('', '', string.punctuation))\n",
    "    return texto\n",
    "\n",
    "#Realizamos una función para separar el texto en palabras (las cuáles luego contaremos).\n",
    "def dividir_en_palabras(texto):\n",
    "    palabras = texto.split()\n",
    "    return palabras\n",
    "\n",
    "#Importamos 'Counter' del modulo 'Collections' para contar las palabras.\n",
    "from collections import Counter\n",
    "#Realizamos una función para contar las palabras.\n",
    "def contar_palabras(palabras):\n",
    "    # Utiliza Counter para contar las palabras automáticamente\n",
    "    contador_palabras = Counter(palabras)\n",
    "    return contador_palabras\n",
    "\n",
    "def main_contar_palabras(texto):\n",
    "    texto_preparado = preparar_texto(texto)\n",
    "    lista_palabras = dividir_en_palabras(texto_preparado)\n",
    "    conteo = contar_palabras(lista_palabras)\n",
    "    return conteo\n",
    "\n",
    "# Ejemplo de uso\n",
    "\n",
    "Texto = \"Hola, mi nombre es brais. Mi nombre completo es Brais Moure (MoureDev).\"\n",
    "resultado = main_contar_palabras(Texto)\n",
    "for palabra, cantidad in resultado.items():\n",
    "    print(f\"'{palabra}': {cantidad}\")"
   ]
  },
  {
   "cell_type": "markdown",
   "metadata": {},
   "source": [
    "#9\n",
    "CONTANDO PALABRAS\n",
    "/*\n",
    " * Crea un programa se encargue de transformar un número\n",
    " * decimal a binario sin utilizar funciones propias del lenguaje que lo hagan directamente.\n",
    " */"
   ]
  },
  {
   "cell_type": "code",
   "execution_count": 7,
   "metadata": {},
   "outputs": [
    {
     "name": "stdout",
     "output_type": "stream",
     "text": [
      "La parte entera del número decimal 7.0 en binario es: 111\n"
     ]
    }
   ],
   "source": [
    "def decimal_a_binario(numero_decimal):\n",
    "    # Convertimos la parte entera del número decimal a entero\n",
    "    numero_entero = int(numero_decimal)\n",
    "    if numero_entero == 0:\n",
    "        return \"0\"\n",
    "    binario = \"\"\n",
    "    while numero_entero > 0:\n",
    "        resto = numero_entero % 2\n",
    "        binario = str(resto) + binario\n",
    "        numero_entero = numero_entero // 2\n",
    "    return binario\n"
   ]
  },
  {
   "cell_type": "markdown",
   "metadata": {},
   "source": [
    "#10\n",
    "CÓDIGO MORSE\n",
    "/*\n",
    " * Crea un programa que sea capaz de transformar texto natural a código\n",
    " * morse y viceversa.\n",
    " * - Debe detectar automáticamente de qué tipo se trata y realizar\n",
    " *   la conversión.\n",
    " * - En morse se soporta raya \"—\", punto \".\", un espacio \" \" entre letras\n",
    " *   o símbolos y dos espacios entre palabras \"  \".\n",
    " * - El alfabeto morse soportado será el mostrado en\n",
    " *   https://es.wikipedia.org/wiki/Código_morse.\n",
    " */"
   ]
  },
  {
   "cell_type": "code",
   "execution_count": 8,
   "metadata": {},
   "outputs": [
    {
     "name": "stdout",
     "output_type": "stream",
     "text": [
      "Resultado de la conversión: .... --- .-.. .-   -- .- -.. .-. .\n"
     ]
    }
   ],
   "source": [
    "#Diccionario del código Morse.\n",
    "morse_code_dict = {\n",
    "    'A': '.-', 'B': '-...', 'C': '-.-.', 'D': '-..', 'E': '.',\n",
    "    'F': '..-.', 'G': '--.', 'H': '....', 'I': '..', 'J': '.---',\n",
    "    'K': '-.-', 'L': '.-..', 'M': '--', 'N': '-.', 'O': '---',\n",
    "    'P': '.--.', 'Q': '--.-', 'R': '.-.', 'S': '...', 'T': '-',\n",
    "    'U': '..-', 'V': '...-', 'W': '.--', 'X': '-..-', 'Y': '-.--',\n",
    "    'Z': '--..', '1': '.----', '2': '..---', '3': '...--', '4': '....-', \n",
    "    '5': '.....', '6': '-....', '7': '--...', '8': '---..', '9': '----.', '0': '-----'\n",
    "}\n",
    "\n",
    "#Función para convertir el texto en código Morse.\n",
    "def texto_a_morse(texto):\n",
    "    #Para pasar todo el texto a mayúsculas para que concuerden con el diccionario de código Morse.\n",
    "    texto = texto.upper()\n",
    "    morse = ''\n",
    "    for char in texto:\n",
    "        if char in morse_code_dict:\n",
    "            morse += morse_code_dict[char] + ' '\n",
    "        elif char == ' ':\n",
    "            morse += '  '  # Dos espacios para separar palabras\n",
    "    return morse.strip()\n",
    "\n",
    "    pass\n",
    "\n",
    "def morse_a_texto(morse):\n",
    "    morse += ' '  # Añadir espacio extra al final para capturar la última letra\n",
    "    texto = ''\n",
    "    morse_char = ''\n",
    "    for char in morse:\n",
    "        if char != ' ':\n",
    "            morse_char += char\n",
    "        else:\n",
    "            if morse_char in morse_code_dict.values():\n",
    "                texto += list(morse_code_dict.keys())[list(morse_code_dict.values()).index(morse_char)]\n",
    "            elif morse_char == '':\n",
    "                texto += ' '\n",
    "            morse_char = ''\n",
    "    return texto.strip()\n",
    "\n",
    "\n",
    "def detectar_y_convertir(input_string):\n",
    "    if all(char in '.- ' for char in input_string.strip()):\n",
    "        # Asume que es código Morse si solo contiene '.', '-', y espacios\n",
    "        return morse_a_texto(input_string.strip())\n",
    "    else:\n",
    "        # De lo contrario, asume que es texto\n",
    "        return texto_a_morse(input_string)\n",
    "\n",
    "# Ejemplo de uso:\n",
    "input_string = input(\"Introduzca el texto o código Morse: \")\n",
    "resultado = detectar_y_convertir(input_string)\n",
    "print(\"Resultado de la conversión:\", resultado)\n",
    "\n"
   ]
  },
  {
   "cell_type": "markdown",
   "metadata": {},
   "source": [
    "#11 Sistema Bancario Simple.\n",
    "\n",
    "Vamos a diseñar un sistema bancario simple con la capacidad de crear cuentas, depositar dinero, retirar dinero y consultar el saldo. Este ejercicio te ayudará a entender mejor cómo implementar y manejar estados y comportamientos a través de clases en Python."
   ]
  },
  {
   "cell_type": "code",
   "execution_count": 2,
   "metadata": {},
   "outputs": [
    {
     "name": "stdout",
     "output_type": "stream",
     "text": [
      "Depósito exitoso de la cuenta bancaria de Alice con un total de: 300 euros/€\n",
      "Retiro exitoso de la cuenta bancaria de Alice con un total de: 150 euros/€\n",
      "Saldo actual de la cuenta bancaria de Alice es: 150 euros/€\n",
      "Depósito exitoso de la cuenta bancaria de Bob con un total de: 700 euros/€\n",
      "Fondo insuficinetes | Cantidad no válida\n",
      "Saldo actual de la cuenta bancaria de Bob es: 700 euros/€\n"
     ]
    }
   ],
   "source": [
    "class CuentaBancaria:\n",
    "    def __init__(self, titular, saldo = 0):\n",
    "        self.titular = titular\n",
    "        self.saldo = saldo\n",
    "\n",
    "    def depositar(self, cantidad):\n",
    "        self.saldo += cantidad\n",
    "        print(f'Depósito exitoso de la cuenta bancaria de {self.titular} con un total de: {self.saldo} euros/€')\n",
    "\n",
    "    def retirar(self, cantidad):\n",
    "        if cantidad < self.saldo and cantidad > 0:\n",
    "            self.saldo -= cantidad\n",
    "            print(f'Retiro exitoso de la cuenta bancaria de {self.titular} con un total de: {self.saldo} euros/€')\n",
    "        else:\n",
    "            print(f'Fondo insuficinetes | Cantidad no válida')\n",
    "\n",
    "    def consultar(self):\n",
    "        print(f'Saldo actual de la cuenta bancaria de {self.titular} es: {self.saldo} euros/€')\n",
    "\n",
    "\n",
    "# Pruebas de funcionalidad\n",
    "cuenta1 = CuentaBancaria(\"Alice\")\n",
    "cuenta2 = CuentaBancaria(\"Bob\", 500)\n",
    "\n",
    "cuenta1.depositar(300)\n",
    "cuenta1.retirar(150)\n",
    "cuenta1.consultar()\n",
    "\n",
    "cuenta2.depositar(200)\n",
    "cuenta2.retirar(700)\n",
    "cuenta2.consultar()"
   ]
  },
  {
   "cell_type": "markdown",
   "metadata": {},
   "source": [
    "#12 EXPRESIONES EQUILIBRADAS\n",
    "/*\n",
    " * Crea un programa que comprueba si los paréntesis, llaves y corchetes\n",
    " * de una expresión están equilibrados.\n",
    " * - Equilibrado significa que estos delimitadores se abren y cieran\n",
    " *   en orden y de forma correcta.\n",
    " * - Paréntesis, llaves y corchetes son igual de prioritarios.\n",
    " *   No hay uno más importante que otro.\n",
    " * - Expresión balanceada: { [ a * ( c + d ) ] - 5 }\n",
    " * - Expresión no balanceada: { a * ( c + d ) ] - 5 }"
   ]
  },
  {
   "cell_type": "code",
   "execution_count": 2,
   "metadata": {},
   "outputs": [
    {
     "name": "stdout",
     "output_type": "stream",
     "text": [
      "La expresión '{ [ a * ( c + d ) ] - 5 }' está balanceada: True\n",
      "La expresión '{ a * ( c + d ) ] - 5 }' está balanceada: False\n",
      "La expresión '((()))' está balanceada: True\n",
      "La expresión '([)]' está balanceada: False\n",
      "La expresión '{[(a+b)*(c-d)]}' está balanceada: True\n",
      "La expresión '{[(a+b]*(c-d))}' está balanceada: False\n"
     ]
    }
   ],
   "source": [
    "def esta_balanceado(expresion):\n",
    "    # Diccionario que relaciona cada delimitador de apertura con su correspondiente delimitador de cierre.\n",
    "    pareja = {'(': ')', '{': '}', '[': ']'}\n",
    "    # La pila donde almacenaremos los delimitadores de apertura encontrados en la expresión.\n",
    "    pila = []\n",
    "\n",
    "    # Recorrer cada carácter en la expresión.\n",
    "    for char in expresion:\n",
    "        if char in pareja:\n",
    "            # Si el carácter es un delimitador de apertura, lo añadimos a la pila.\n",
    "            pila.append(char)\n",
    "        elif char in pareja.values():\n",
    "            # Si el carácter es un delimitador de cierre:\n",
    "            # Verificar si la pila está vacía (lo que significa que no hay delimitador de apertura correspondiente)\n",
    "            # o si el delimitador en la cima de la pila no corresponde al delimitador de cierre actual.\n",
    "            if not pila or pareja[pila.pop()] != char:\n",
    "                return False\n",
    "\n",
    "    # Si la pila está vacía al final del recorrido, todos los delimitadores han sido cerrados correctamente.\n",
    "    return not pila\n",
    "\n",
    "# Ejemplos de uso\n",
    "expresiones = [\n",
    "    \"{ [ a * ( c + d ) ] - 5 }\",   # Balanceada\n",
    "    \"{ a * ( c + d ) ] - 5 }\",     # No balanceada\n",
    "    \"((()))\",                      # Balanceada\n",
    "    \"([)]\",                        # No balanceada\n",
    "    \"{[(a+b)*(c-d)]}\",             # Balanceada\n",
    "    \"{[(a+b]*(c-d))}\",             # No balanceada\n",
    "]\n",
    "\n",
    "for expr in expresiones:\n",
    "    print(f\"La expresión '{expr}' está balanceada: {esta_balanceado(expr)}\")"
   ]
  },
  {
   "cell_type": "markdown",
   "metadata": {},
   "source": [
    "#13 Desarrolla un programa en Python para gestionar un sistema de reservas de hotel. El sistema debe permitir registrar habitaciones, gestionar reservas y verificar la disponibilidad de las habitaciones."
   ]
  },
  {
   "cell_type": "code",
   "execution_count": 1,
   "metadata": {},
   "outputs": [
    {
     "name": "stdout",
     "output_type": "stream",
     "text": [
      "Añadida Habitación 101, Tipo: simple, Precio: 100, Disponible\n",
      "Añadida Habitación 102, Tipo: doble, Precio: 150, Disponible\n",
      "Añadida Habitación 103, Tipo: suite, Precio: 200, Disponible\n",
      "\n",
      "1. Añadir habitación\n",
      "2. Reservar habitación\n",
      "3. Liberar habitación\n",
      "4. Verificar disponibilidad\n",
      "5. Salir\n",
      "Habitación 103 reservada.\n",
      "\n",
      "1. Añadir habitación\n",
      "2. Reservar habitación\n",
      "3. Liberar habitación\n",
      "4. Verificar disponibilidad\n",
      "5. Salir\n",
      "Gracias por usar el sistema de reservas.\n"
     ]
    }
   ],
   "source": [
    "class Habitacion:\n",
    "    # Constructor de la clase Habitacion que inicializa los atributos básicos de cada habitación.\n",
    "    def __init__(self, numero, tipo, precio):\n",
    "        self.numero = numero        # Número de la habitación, como identificador único.\n",
    "        self.tipo = tipo            # Tipo de habitación (puede ser 'simple', 'doble', 'suite').\n",
    "        self.precio = precio        # Precio por noche de la habitación.\n",
    "        self.reservada = False      # Estado de reserva de la habitación, inicialmente no reservada.\n",
    "\n",
    "    # Método para intentar reservar esta habitación.\n",
    "    def reservar(self):\n",
    "        if not self.reservada:\n",
    "            self.reservada = True\n",
    "            print(f\"Habitación {self.numero} reservada.\")\n",
    "        else:\n",
    "            print(f\"Habitación {self.numero} ya está reservada.\")\n",
    "\n",
    "    # Método para liberar esta habitación si está reservada.\n",
    "    def liberar(self):\n",
    "        if self.reservada:\n",
    "            self.reservada = False\n",
    "            print(f\"Habitación {self.numero} liberada.\")\n",
    "        else:\n",
    "            print(f\"Habitación {self.numero} no estaba reservada.\")\n",
    "\n",
    "    # Método especial para devolver una representación en cadena de la habitación.\n",
    "    def __str__(self):\n",
    "        return f\"Habitación {self.numero}, Tipo: {self.tipo}, Precio: {self.precio}, {'Reservada' if self.reservada else 'Disponible'}\"\n",
    "\n",
    "class Hotel:\n",
    "    # Constructor de la clase Hotel que inicializa el hotel con un nombre y una lista vacía de habitaciones.\n",
    "    def __init__(self, nombre):\n",
    "        self.nombre = nombre\n",
    "        self.habitaciones = []\n",
    "\n",
    "    # Método para añadir una nueva habitación al hotel.\n",
    "    def añadir_habitacion(self, habitacion):\n",
    "        self.habitaciones.append(habitacion)\n",
    "        print(f\"Añadida {habitacion}\")\n",
    "\n",
    "    # Método para verificar la disponibilidad de habitaciones de un determinado tipo.\n",
    "    def verificar_disponibilidad(self, tipo):\n",
    "        disponibles = [habitacion for habitacion in self.habitaciones if habitacion.tipo == tipo and not habitacion.reservada]\n",
    "        if disponibles:\n",
    "            print(\"Habitaciones disponibles:\")\n",
    "            for habitacion in disponibles:\n",
    "                print(habitacion)\n",
    "        else:\n",
    "            print(\"No hay habitaciones disponibles de ese tipo.\")\n",
    "\n",
    "    # Método para reservar una habitación especificada por su número.\n",
    "    def reservar_habitacion(self, numero):\n",
    "        for habitacion in self.habitaciones:\n",
    "            if habitacion.numero == numero:\n",
    "                habitacion.reservar()\n",
    "                return\n",
    "        print(\"Habitación no encontrada.\")\n",
    "\n",
    "    # Método para liberar una habitación especificada por su número.\n",
    "    def liberar_habitacion(self, numero):\n",
    "        for habitacion in self.habitaciones:\n",
    "            if habitacion.numero == numero:\n",
    "                habitacion.liberar()\n",
    "                return\n",
    "        print(\"Habitación no encontrada.\")\n",
    "\n",
    "def main():\n",
    "    # Creación de una instancia de Hotel.\n",
    "    hotel = Hotel(\"Hotel Buen Sueño\")\n",
    "    # Añadiendo habitaciones al hotel.\n",
    "    hotel.añadir_habitacion(Habitacion(101, \"simple\", 100))\n",
    "    hotel.añadir_habitacion(Habitacion(102, \"doble\", 150))\n",
    "    hotel.añadir_habitacion(Habitacion(103, \"suite\", 200))\n",
    "\n",
    "    # Bucle para la interfaz de usuario.\n",
    "    while True:\n",
    "        print(\"\\n1. Añadir habitación\")\n",
    "        print(\"2. Reservar habitación\")\n",
    "        print(\"3. Liberar habitación\")\n",
    "        print(\"4. Verificar disponibilidad\")\n",
    "        print(\"5. Salir\")\n",
    "        opcion = input(\"Seleccione una opción: \")\n",
    "        if opcion == \"1\":\n",
    "            numero = int(input(\"Número de habitación: \"))\n",
    "            tipo = input(\"Tipo de habitación: \")\n",
    "            precio = float(input(\"Precio por noche: \"))\n",
    "            hotel.añadir_habitacion(Habitacion(numero, tipo, precio))\n",
    "        elif opcion == \"2\":\n",
    "            numero = int(input(\"Número de habitación a reservar: \"))\n",
    "            hotel.reservar_habitacion(numero)\n",
    "        elif opcion == \"3\":\n",
    "            numero = int(input(\"Número de habitación a liberar: \"))\n",
    "            hotel.liberar_habitacion(numero)\n",
    "        elif opcion == \"4\":\n",
    "            tipo = input(\"Tipo de habitación a verificar: \")\n",
    "            hotel.verificar_disponibilidad(tipo)\n",
    "        elif opcion == \"5\":\n",
    "            print(\"Gracias por usar el sistema de reservas.\")\n",
    "            break\n",
    "        else:\n",
    "            print(\"Opción no válida, por favor intente de nuevo.\")\n",
    "\n",
    "if __name__ == \"__main__\":\n",
    "    main()\n",
    "\n"
   ]
  },
  {
   "cell_type": "markdown",
   "metadata": {},
   "source": [
    "#14\n",
    "Biblioteca de Medios\n",
    "Objetivo: Practicar la programación orientada a objetos.\n",
    "Descripción: Diseña un sistema para una biblioteca que maneje libros, revistas y DVDs. Cada tipo de medio tendrá características específicas como título, autor, año de publicación, etc. Implementa métodos para añadir nuevos ítems, buscar por título y mostrar todos los ítems."
   ]
  },
  {
   "cell_type": "code",
   "execution_count": 2,
   "metadata": {},
   "outputs": [
    {
     "name": "stdout",
     "output_type": "stream",
     "text": [
      "Añadido: El Señor de los Anillos por J.R.R. Tolkien, publicado en 1954, editado por Allen & Unwin\n",
      "Añadido: National Geographic por Varios, publicado en 2020, frecuencia Mensual\n",
      "Añadido: Inception dirigido por Christopher Nolan, publicado en 2010, duración 148 minutos\n",
      "Colección de la Biblioteca:\n",
      "El Señor de los Anillos por J.R.R. Tolkien, publicado en 1954, editado por Allen & Unwin\n",
      "National Geographic por Varios, publicado en 2020, frecuencia Mensual\n",
      "Inception dirigido por Christopher Nolan, publicado en 2010, duración 148 minutos\n",
      "Encontrado:\n",
      "El Señor de los Anillos por J.R.R. Tolkien, publicado en 1954, editado por Allen & Unwin\n"
     ]
    }
   ],
   "source": [
    "class Media:\n",
    "    # Constructor de la clase base para inicializar atributos comunes.\n",
    "    def __init__(self, titulo, autor, año):\n",
    "        self.titulo = titulo\n",
    "        self.autor = autor\n",
    "        self.año = año\n",
    "\n",
    "    # Método para representar cada objeto Media como una cadena de texto.\n",
    "    def __str__(self):\n",
    "        return f\"{self.titulo} por {self.autor}, publicado en {self.año}\"\n",
    "\n",
    "class Libro(Media):\n",
    "    # Constructor específico para libros, añade el atributo 'editor'.\n",
    "    def __init__(self, titulo, autor, año, editor):\n",
    "        super().__init__(titulo, autor, año)\n",
    "        self.editor = editor\n",
    "\n",
    "    # Extiende la representación en cadena para incluir el editor.\n",
    "    def __str__(self):\n",
    "        return super().__str__() + f\", editado por {self.editor}\"\n",
    "\n",
    "class Revista(Media):\n",
    "    # Constructor específico para revistas, añade el atributo 'frecuencia'.\n",
    "    def __init__(self, titulo, autor, año, frecuencia):\n",
    "        super().__init__(titulo, autor, año)\n",
    "        self.frecuencia = frecuencia\n",
    "\n",
    "    # Extiende la representación en cadena para incluir la frecuencia.\n",
    "    def __str__(self):\n",
    "        return super().__str__() + f\", frecuencia {self.frecuencia}\"\n",
    "\n",
    "class DVD(Media):\n",
    "    # Constructor específico para DVDs, cambia 'autor' por 'director' y añade 'duracion'.\n",
    "    def __init__(self, titulo, director, año, duracion):\n",
    "        super().__init__(titulo, director, año)\n",
    "        self.duracion = duracion\n",
    "\n",
    "    # Extiende la representación en cadena para incluir la duración.\n",
    "    def __str__(self):\n",
    "        return f\"{self.titulo} dirigido por {self.autor}, publicado en {self.año}, duración {self.duracion} minutos\"\n",
    "\n",
    "class Biblioteca:\n",
    "    # Constructor de la clase Biblioteca para inicializar la colección de medios.\n",
    "    def __init__(self):\n",
    "        self.coleccion = []\n",
    "\n",
    "    # Método para añadir medios a la colección.\n",
    "    def añadir_media(self, media):\n",
    "        self.coleccion.append(media)\n",
    "        print(f\"Añadido: {media}\")\n",
    "\n",
    "    # Método para buscar medios por título.\n",
    "    def buscar_por_titulo(self, titulo):\n",
    "        encontrados = [media for media in self.coleccion if titulo.lower() in media.titulo.lower()]\n",
    "        if encontrados:\n",
    "            print(\"Encontrado:\")\n",
    "            for media in encontrados:\n",
    "                print(media)\n",
    "        else:\n",
    "            print(\"No se encontró ningún ítem con ese título.\")\n",
    "\n",
    "    # Método para mostrar todos los medios en la colección.\n",
    "    def mostrar_todos(self):\n",
    "        if self.coleccion:\n",
    "            print(\"Colección de la Biblioteca:\")\n",
    "            for media in self.coleccion:\n",
    "                print(media)\n",
    "        else:\n",
    "            print(\"La biblioteca está vacía.\")\n",
    "\n",
    "# Uso del sistema de la biblioteca\n",
    "biblioteca = Biblioteca()\n",
    "biblioteca.añadir_media(Libro(\"El Señor de los Anillos\", \"J.R.R. Tolkien\", 1954, \"Allen & Unwin\"))\n",
    "biblioteca.añadir_media(Revista(\"National Geographic\", \"Varios\", 2020, \"Mensual\"))\n",
    "biblioteca.añadir_media(DVD(\"Inception\", \"Christopher Nolan\", 2010, 148))\n",
    "\n",
    "biblioteca.mostrar_todos()\n",
    "biblioteca.buscar_por_titulo(\"el señor de los anillos\")"
   ]
  },
  {
   "cell_type": "markdown",
   "metadata": {},
   "source": [
    "#15\n",
    "Registro de Estudiantes\n",
    "Objetivo: Practicar la programación orientada a objetos.\n",
    "Descripción: Diseña un sistema simple para registrar estudiantes en un curso. Cada estudiante tendrá un nombre y una matrícula. Implementa métodos para añadir estudiantes y listar todos los estudiantes registrados."
   ]
  },
  {
   "cell_type": "code",
   "execution_count": 4,
   "metadata": {},
   "outputs": [
    {
     "name": "stdout",
     "output_type": "stream",
     "text": [
      "Juan Perez, Matrícula: 20210001\n",
      "Ana García, Matrícula: 20210002\n"
     ]
    }
   ],
   "source": [
    "#Realizamos la clase Estudiante.\n",
    "class Estudiante:\n",
    "    #Inicializamos la clase.\n",
    "    def __init__(self, nombre,matricula):\n",
    "        self.nombre = nombre\n",
    "        self.matricula = matricula\n",
    "#Realizamos la clase Curso.\n",
    "class Curso:\n",
    "    #Inicializamos la clase.\n",
    "    def __init__(self):\n",
    "        self.estudiantes = []\n",
    "    #Añadimos una función a la clase para añadir estudiantes al Curso.\n",
    "    def añadir_estudiantes(self, estudiante):\n",
    "        self.estudiantes.append(estudiante)\n",
    "    #Añadimos una función a la clase para mostrar o listar los estudiantes del Curso.\n",
    "    def mostrar_estudiantes(self):\n",
    "        for estudiante in self.estudiantes:\n",
    "            print(f'{estudiante.nombre}, Matrícula: {estudiante.matricula}')\n",
    "#EJEMPLO DE USO.\n",
    "curso = Curso()\n",
    "curso.añadir_estudiantes(Estudiante(\"Juan Perez\", \"20210001\"))\n",
    "curso.añadir_estudiantes(Estudiante(\"Ana García\", \"20210002\"))\n",
    "curso.mostrar_estudiantes()"
   ]
  },
  {
   "cell_type": "markdown",
   "metadata": {},
   "source": [
    "\n",
    "#16\n",
    "Pila Simple\n",
    "Objetivo: Usar estructuras de datos como pilas.\n",
    "Descripción: Implementa una pila que permita operaciones básicas como empujar (push), sacar (pop), y observar el elemento superior (peek), sin usar listas de Python directamente."
   ]
  },
  {
   "cell_type": "code",
   "execution_count": 2,
   "metadata": {},
   "outputs": [
    {
     "name": "stdout",
     "output_type": "stream",
     "text": [
      "Apilado: 10\n",
      "Apilado: 20\n",
      "Elemento en la cima: 20\n",
      "20 Desapilado\n",
      "10 Desapilado\n",
      "Pila vacía\n"
     ]
    }
   ],
   "source": [
    "class Pila:\n",
    "    def __init__(self):\n",
    "        self.elementos = []\n",
    "    #Realizamos una función en la clase para apilar los elementos.\n",
    "    def apilar(self, elemento):\n",
    "        self.elementos.append(elemento)\n",
    "        print(f\"Apilado: {elemento}\")\n",
    "    #Realizamos una función en la clase para desapilar los elementos.\n",
    "    def desapilar(self):\n",
    "        if self.elementos:\n",
    "            elemento = self.elementos.pop()\n",
    "            print(f'{elemento} Desapilado')\n",
    "            return elemento\n",
    "        else:\n",
    "            print('Pila vacía')\n",
    "    #Realizamos una función en la clase para mostrar todos los elementos.\n",
    "    def mostrar(self):\n",
    "        if self.elementos:\n",
    "            print(f\"Elemento en la cima: {self.elementos[-1]}\")\n",
    "            return self.elementos[-1]\n",
    "        else:\n",
    "            print('Pila vacía')\n",
    "            return None\n",
    "#EJEMPLO DE USO.\n",
    "pila = Pila()\n",
    "pila.apilar(10)\n",
    "pila.apilar(20)\n",
    "pila.mostrar()  # Debería mostrar 20\n",
    "pila.desapilar() # Debería retirar 20\n",
    "pila.desapilar() # Debería retirar 10\n",
    "pila.desapilar() # Debería mostrar que la pila está vacía\n"
   ]
  },
  {
   "cell_type": "markdown",
   "metadata": {},
   "source": [
    "#17\n",
    "Tienda de Frutas\n",
    "Objetivo: Combinar la programación orientada a objetos con la interacción con el usuario.\n",
    "\n",
    "Descripción:\n",
    "Crear un sistema simple para gestionar un inventario de frutas donde los usuarios puedan añadir frutas al inventario y mostrar todas las frutas disponibles. Este sistema permitirá entender cómo manipular colecciones de objetos y cómo interactuar con el usuario a través de una interfaz de consola."
   ]
  },
  {
   "cell_type": "code",
   "execution_count": 4,
   "metadata": {},
   "outputs": [
    {
     "name": "stdout",
     "output_type": "stream",
     "text": [
      "Añadido al inventario: Manzana, cantidad: 50\n",
      "Añadido al inventario: Banana, cantidad: 30\n",
      "Inventario de frutas:\n",
      "Manzana: 50 unidades\n",
      "Banana: 30 unidades\n"
     ]
    }
   ],
   "source": [
    "class Fruta:\n",
    "    def __init__(self,nombre,cantidad):\n",
    "        self.nombre = nombre\n",
    "        self.cantidad = cantidad\n",
    "    #Realizamos una función para mostrar un mensaje de cada fruta\n",
    "    def __str__(self):\n",
    "        return f'{self.nombre}: {self.cantidad} unidades.'\n",
    "\n",
    "#Realizamos una clase para el inventario de la tienda.\n",
    "class Inventario:\n",
    "    def __init__(self):\n",
    "        self.frutas = {}\n",
    "    #Añadimos una función para añadir fruta al inventario\n",
    "    def añadir_fruta(self, nombre, cantidad):\n",
    "        if nombre in self.frutas:\n",
    "            self.frutas[nombre] += cantidad\n",
    "        else:\n",
    "            self.frutas[nombre] = cantidad\n",
    "        print(f\"Añadido al inventario: {nombre}, cantidad: {cantidad}\")\n",
    "    #Añadimos una función para mostrar el inventario.\n",
    "    def mostrar_inventario(self):\n",
    "        if not self.frutas:\n",
    "            print(\"El inventario está vacío.\")\n",
    "        else:\n",
    "            print(\"Inventario de frutas:\")\n",
    "            for nombre, cantidad in self.frutas.items():\n",
    "                print(f\"{nombre}: {cantidad} unidades\")\n",
    "#EJEMPLO DE USO.\n",
    "inventario = Inventario()\n",
    "inventario.añadir_fruta(\"Manzana\", 50)\n",
    "inventario.añadir_fruta(\"Banana\", 30)\n",
    "inventario.mostrar_inventario()"
   ]
  },
  {
   "cell_type": "markdown",
   "metadata": {},
   "source": [
    "#18\n",
    "Funciones:\n",
    "\n",
    "Encontrar el máximo común divisor (MCD) de dos números usando una función.\n",
    "Calcular el área de un círculo dado su radio.\n",
    "Crear una función que reciba una lista de números y devuelva la suma de los elementos pares."
   ]
  },
  {
   "cell_type": "code",
   "execution_count": 2,
   "metadata": {},
   "outputs": [
    {
     "name": "stdout",
     "output_type": "stream",
     "text": [
      "El MCD de 60 y 48 usando MCD_forma1 es: 12\n",
      "El MCD de los números 60 y 48 usando MCD_forma2 es: 12\n"
     ]
    }
   ],
   "source": [
    "def MCD_forma1(num1, num2):\n",
    "    #ALGORITMO DE EUCLIDES.\n",
    "    a = max(num1, num2)\n",
    "    b = min(num1, num2)\n",
    "    while b != 0:\n",
    "        a, b = b, a % b\n",
    "    return a\n",
    "import math\n",
    "def MCD_forma2(num1, num2):\n",
    "    #FUNCIÓN MCD DE LA BIBLIOTECA MATH DE PYHTON.\n",
    "    return math.gcd(num1, num2)\n",
    "# Ejemplo de uso:\n",
    "num1 = 60\n",
    "num2 = 48\n",
    "# Usando MCD_forma1\n",
    "mcd1 = MCD_forma1(num1, num2)\n",
    "print(f\"El MCD de {num1} y {num2} usando MCD_forma1 es: {mcd1}\")\n",
    "# Usando MCD_forma2\n",
    "mcd2 = MCD_forma2(num1, num2)\n",
    "print(f\"El MCD de los números {num1} y {num2} usando MCD_forma2 es: {mcd2}\")\n",
    "\n",
    "\n",
    "def calcular_area_circulo(radio = 2):\n",
    "    #REALIZADA CON LA BIBLIOTECA MATH, PORQUE SINO HE DE HACER UNA APROXIMACIÓN DEL NÚMERO PI.\n",
    "    area = math.pi * radio**2\n",
    "    return area\n",
    "# Ejemplo de uso:\n",
    "radio = 2\n",
    "area = calcular_area_circulo(radio)\n",
    "print(\"El área del círculo con radio\", radio, \"es:\", area)\n",
    "\n",
    "\n",
    "def suma_elementos_pares(lista):\n",
    "    suma = 0\n",
    "    for i in lista:\n",
    "        if i % 2 == 0:\n",
    "            suma = suma + i\n",
    "    return suma\n",
    "# Ejemplo de uso:\n",
    "numeros = [1, 2, 3, 4, 5, 6, 7, 8, 9, 10]\n",
    "print(\"La suma de los elementos pares es:\", suma_elementos_pares(numeros))"
   ]
  },
  {
   "cell_type": "markdown",
   "metadata": {},
   "source": [
    "#19\n",
    "Listas y Tuplas:\n",
    "\n",
    "Dada una lista de números, encontrar el segundo número más grande.\n",
    "Dada una lista de palabras, contar cuántas veces aparece cada palabra.\n",
    "Combinar dos listas de la misma longitud en un diccionario donde una lista sea las claves y la otra los valores."
   ]
  },
  {
   "cell_type": "code",
   "execution_count": 8,
   "metadata": {},
   "outputs": [
    {
     "name": "stdout",
     "output_type": "stream",
     "text": [
      "El segundo número más grande es: 20\n",
      "Conteo de palabras usando Counter: Counter({'hola': 3, 'mundo': 2, 'python': 1})\n",
      "Conteo de palabras sin Counter: {'hola': 3, 'mundo': 2, 'python': 1}\n",
      "La combinación de las dos listas a un diccionario es así:  {'a': 1, 'b': 2, 'c': 3, 'd': 4}\n"
     ]
    }
   ],
   "source": [
    "def segundo_mas_grande(lista):\n",
    "    if len(lista) < 2:\n",
    "        print(f'ERROR: La lista tiene menos de dos números')\n",
    "    \n",
    "    max1 = max(lista[0], lista[1])\n",
    "    max2 = min(lista[0], lista[1])\n",
    "    \n",
    "    for num in lista:\n",
    "        if num > max1:\n",
    "            max2 = max1\n",
    "            max1 = num\n",
    "        elif num > max2:\n",
    "            max2 = num\n",
    "    return max2\n",
    "# Ejemplo de uso:\n",
    "numeros = [10, 5, 20, 15, 30]\n",
    "print(\"El segundo número más grande es:\", segundo_mas_grande(numeros))\n",
    "\n",
    "from collections import Counter\n",
    "def contar_palabras_Counter(listaP):\n",
    "    if len(listaP) < 2:\n",
    "        return 'ERROR: La lista solo contiene menos de dos palabras.'\n",
    "    contador = Counter(listaP)\n",
    "    return contador\n",
    "# Ejemplo de uso:\n",
    "palabras = [\"hola\", \"mundo\", \"hola\", \"python\", \"mundo\", \"hola\"]\n",
    "contador_palabras = contar_palabras_Counter(palabras)\n",
    "print(\"Conteo de palabras usando Counter:\", contador_palabras)\n",
    "def contar_palabras(listaP):\n",
    "    conteo = {}\n",
    "    for palabra in listaP:\n",
    "        if palabra in conteo:\n",
    "            conteo[palabra] += 1\n",
    "        else:\n",
    "            conteo[palabra] = 1\n",
    "    return conteo\n",
    "# Ejemplo de uso:\n",
    "palabras = [\"hola\", \"mundo\", \"hola\", \"python\", \"mundo\", \"hola\"]\n",
    "conteo_palabras = contar_palabras(palabras)\n",
    "print(\"Conteo de palabras sin Counter:\", conteo_palabras)\n",
    "\n",
    "\n",
    "def combinar_a_diccionario(claves,valores):\n",
    "    if len(claves) != len(valores):\n",
    "        return 'ERROR: NO SE PUEDE, NO TIENE LA MISMA LONGITUD UNA LISTA DE OTRA.'\n",
    "    dict_combinado = dict(zip(claves,valores))\n",
    "    return dict_combinado\n",
    "#Ejemplo de uso\n",
    "claves = [\"a\", \"b\", \"c\", \"d\"]\n",
    "valores = [1, 2, 3, 4]\n",
    "combinacion = combinar_a_diccionario(claves, valores)\n",
    "print(\"La combinación de las dos listas a un diccionario es así: \", combinacion)"
   ]
  },
  {
   "cell_type": "markdown",
   "metadata": {},
   "source": [
    "#20\n",
    "Diccionarios:\n",
    "\n",
    "Crear un diccionario de contactos donde las claves sean los nombres y los valores sean los números de teléfono.\n",
    "Escribir una función que reciba una lista de estudiantes con sus calificaciones y devuelva un diccionario con el nombre del estudiante y su calificación final."
   ]
  },
  {
   "cell_type": "code",
   "execution_count": 11,
   "metadata": {},
   "outputs": [
    {
     "name": "stdout",
     "output_type": "stream",
     "text": [
      "La agenda de los números de teléfono queda así:  {'daniel': '638910170', 'pepe': '564545445', 'puta': '545121', 'gueroo': '545121'}\n"
     ]
    }
   ],
   "source": [
    "def diccionario_numtelefono(nombres, numtelefonos):\n",
    "    if len(nombres) != len(numtelefonos):\n",
    "        return 'ERROR: Las listas no tienen la misma longitud.'\n",
    "    agenda_telefonos = dict(zip(nombres, numtelefonos))\n",
    "    return agenda_telefonos\n",
    "\n",
    "# Solicitar entrada de nombres y números de teléfono al usuario\n",
    "nombres = []\n",
    "numtelefonos = []\n",
    "\n",
    "num_contactos = int(input(\"¿Cuántos contactos deseas agregar? \"))\n",
    "\n",
    "for i in range(num_contactos):\n",
    "    nombre = input(f\"Introduce el nombre del contacto {i}: \")\n",
    "    numtelefono = input(f\"Introduce el número de teléfono del contacto {i}: \")\n",
    "    nombres.append(nombre)\n",
    "    numtelefonos.append(numtelefono)\n",
    "\n",
    "# Crear el diccionario de contactos\n",
    "agenda_telefonos = diccionario_numtelefono(nombres, numtelefonos)\n",
    "\n",
    "# Mostrar el diccionario de contactos\n",
    "print(\"La agenda de los números de teléfono queda así: \", agenda_telefonos)\n",
    "\n",
    "def calcular_calificaciones_finales(estudiantes, calificaciones):\n",
    "    calificaciones_finales = {}\n",
    "    \n",
    "    for i in range(len(estudiantes)):\n",
    "        nombre = estudiantes[i]\n",
    "        calificacion_final = sum(calificaciones[i]) / len(calificaciones[i])\n",
    "        calificaciones_finales[nombre] = calificacion_final\n",
    "    \n",
    "    return calificaciones_finales\n",
    "\n",
    "# Listas de estudiantes y sus calificaciones\n",
    "estudiantes = [\"Juan\", \"María\", \"Pedro\", \"Ana\"]\n",
    "calificaciones = [\n",
    "    [85, 90, 78],  # Calificaciones de Juan\n",
    "    [92, 88, 95],  # Calificaciones de María\n",
    "    [70, 75, 80],  # Calificaciones de Pedro\n",
    "    [88, 85, 90]   # Calificaciones de Ana\n",
    "]\n",
    "\n",
    "# Calcular el diccionario de calificaciones finales\n",
    "calificaciones_finales = calcular_calificaciones_finales(estudiantes, calificaciones)\n",
    "\n",
    "# Mostrar el diccionario de calificaciones finales\n",
    "print(\"Calificaciones finales de los estudiantes:\", calificaciones_finales)\n",
    "\n"
   ]
  },
  {
   "cell_type": "markdown",
   "metadata": {},
   "source": [
    "#21\n",
    "Cadenas:\n",
    "\n",
    "Dada una cadena, contar cuántas veces aparece cada vocal.\n",
    "Crear una función que reciba una cadena y devuelva True si es un palíndromo, False en caso contrario."
   ]
  },
  {
   "cell_type": "code",
   "execution_count": 5,
   "metadata": {},
   "outputs": [
    {
     "name": "stdout",
     "output_type": "stream",
     "text": [
      "Conteo de vocales en la cadena:\n",
      "a: 9\n",
      "e: 6\n",
      "i: 1\n",
      "o: 2\n",
      "u: 3\n",
      "¿La cadena \"A man, a plan, a canal, Panama\" es un palíndromo? True\n"
     ]
    }
   ],
   "source": [
    "#Dada una cadena, contar cuántas veces aparece cada vocal.\n",
    "def contar_vocales(cadena):\n",
    "    vocales = {'a': 0, 'e':0, 'i':0, 'o':0, 'u':0}\n",
    "    cadena = cadena.lower()\n",
    "    for caracter in cadena:\n",
    "        if caracter in vocales:\n",
    "            vocales[caracter] += 1\n",
    "    return vocales\n",
    "\n",
    "# Cadena de ejemplo\n",
    "cadena_ejemplo = \"Cada día es una nueva oportunidad para aprender y crecer\"\n",
    "\n",
    "# Llamamos a la función para contar las vocales en la cadena de ejemplo\n",
    "resultado = contar_vocales(cadena_ejemplo)\n",
    "\n",
    "# Mostramos el resultado\n",
    "print(\"Conteo de vocales en la cadena:\")\n",
    "for vocal, conteo in resultado.items():\n",
    "    print(f\"{vocal}: {conteo}\")\n",
    "\n",
    "\n",
    "#Crear una función que reciba una cadena y devuelva True si es un palíndromo, False en caso contrario.\n",
    "def es_palindromo(cadenatexto):\n",
    "    # Convertimos la cadena a minúsculas\n",
    "    cadenatexto = cadenatexto.lower()\n",
    "    \n",
    "    # Eliminamos caracteres que no sean letras o números\n",
    "    cadenatexto_limpia = ''.join(char for char in cadenatexto if char.isalnum())\n",
    "    \n",
    "    # Comparamos la cadena limpia con su reverso\n",
    "    return cadenatexto_limpia == cadenatexto_limpia[::-1]\n",
    "\n",
    "# Ejemplo de uso\n",
    "cadenatexto = \"A man, a plan, a canal, Panama\"\n",
    "resultadoFinal = es_palindromo(cadenatexto)\n",
    "print(f'¿La cadena \"{cadenatexto}\" es un palíndromo? {resultadoFinal}')\n"
   ]
  },
  {
   "cell_type": "markdown",
   "metadata": {},
   "source": [
    "#22\n",
    "Archivos:\n",
    "\n",
    "Leer un archivo de texto que contenga una lista de números y calcular su promedio.\n",
    "Escribir una función que reciba una lista de nombres y sus edades, y escriba esta información en un archivo de texto."
   ]
  },
  {
   "cell_type": "code",
   "execution_count": 10,
   "metadata": {},
   "outputs": [
    {
     "name": "stdout",
     "output_type": "stream",
     "text": [
      "El promedio de los números en el archivo \"PRUEBA.txt\" es: 51.7\n"
     ]
    }
   ],
   "source": [
    "#Leer un archivo de texto que contenga una lista de números y calcular su promedio.\n",
    "def promedio_archivo(archivo):\n",
    "    try:\n",
    "        # Abrir el archivo en modo lectura\n",
    "        with open(archivo, 'r') as file:\n",
    "            # Leer todas las líneas del archivo y almacenarlas en una lista\n",
    "            lineas = file.readlines()\n",
    "        \n",
    "        # Convertir las líneas a una lista de números enteros\n",
    "        numeros = [int(numero.strip()) for numero in lineas]\n",
    "        \n",
    "        # Calcular el promedio de los números\n",
    "        promedio = sum(numeros) / len(numeros)\n",
    "        \n",
    "        # Devolver el promedio calculado\n",
    "        return promedio\n",
    "    \n",
    "    # Manejar el error si el archivo no se encuentra\n",
    "    except FileNotFoundError:\n",
    "        return \"Error: El archivo no se encontró.\"\n",
    "    \n",
    "    # Manejar el error si el archivo contiene datos no válidos\n",
    "    except ValueError:\n",
    "        return \"Error: El archivo contiene datos no válidos.\"\n",
    "\n",
    "# Nombre del archivo que se va a leer\n",
    "archivo = 'PRUEBA.txt'\n",
    "\n",
    "# Calcular el promedio del contenido del archivo\n",
    "promedio = promedio_archivo(archivo)\n",
    "\n",
    "# Imprimir el resultado\n",
    "print(f'El promedio de los números en el archivo \"{archivo}\" es: {promedio}')\n",
    "\n",
    "#Escribir una función que reciba una lista de nombres y sus edades, y escriba esta información en un archivo de texto."
   ]
  },
  {
   "cell_type": "markdown",
   "metadata": {},
   "source": [
    "#23\n",
    "Memoizacion y decoradores:\n",
    "Problema de Optimización de Subarreglo:\n",
    "Imagina que estás trabajando en un sistema de análisis de datos y te han\n",
    "proporcionado una lista de números enteros. Tu tarea es desarrollar una\n",
    "función llamada max_subarray_sum que encuentre y devuelva la suma máxima de\n",
    "un subarreglo contiguo en la lista.\n",
    "Por ejemplo, considera la lista [1, -2, 3, 10, -4, 7, 2, -5] . El subarreglo\n",
    "contiguo con la suma máxima es [3, 10, -4, 7, 2] , y la suma de esos elementos\n",
    "es 18 . Por lo tanto, la función debería devolver 18 para esta lista.\n",
    "Implementa la función max_subarray_sum y, además, aplica memoización para\n",
    "mejorar su eficiencia en el cálculo de subarreglos de suma máxima en listas\n",
    "previamente procesadas.\n",
    "A continuacion un ejemplo de una posible entrada y salida de la solucion:\n",
    "Entrada Salida\n",
    "- arreglo: [1, -2, 3, 10, -4, 7, 2, -5] - 18"
   ]
  },
  {
   "cell_type": "code",
   "execution_count": 1,
   "metadata": {},
   "outputs": [
    {
     "name": "stdout",
     "output_type": "stream",
     "text": [
      "18\n"
     ]
    }
   ],
   "source": [
    "from functools import lru_cache  # Importamos lru_cache del módulo functools para la memoización\n",
    "\n",
    "def max_subarray_sum(arr):\n",
    "    \"\"\"\n",
    "    Función principal que calcula la suma máxima de un subarreglo contiguo.\n",
    "    :param arr: Lista de números enteros.\n",
    "    :return: Suma máxima de un subarreglo contiguo.\n",
    "    \"\"\"\n",
    "    if not arr:\n",
    "        return 0  # Si la lista está vacía, devolvemos 0\n",
    "    return max_subarray_sum_helper(tuple(arr))  # Convertimos la lista a una tupla y llamamos a la función auxiliar\n",
    "\n",
    "@lru_cache(maxsize=None) #Indicamos que no hay límite de entrada a este caché con maxsize = None.\n",
    "def max_subarray_sum_helper(arr):\n",
    "    \"\"\"\n",
    "    Función auxiliar que utiliza el algoritmo de Kadane para encontrar la suma máxima\n",
    "    de un subarreglo contiguo. Esta función está memoizada para mejorar la eficiencia.\n",
    "    :param arr: Tupla de números enteros.\n",
    "    :return: Suma máxima de un subarreglo contiguo.\n",
    "    \"\"\"\n",
    "    # Inicializamos las variables para la suma máxima hasta el momento y la suma máxima final\n",
    "    max_ending_here = max_so_far = arr[0]\n",
    "    \n",
    "    # Iteramos sobre los elementos de la tupla, comenzando desde el segundo elemento\n",
    "    for x in arr[1:]:\n",
    "        # Actualizamos max_ending_here para que sea el máximo entre el elemento actual\n",
    "        # y la suma de max_ending_here con el elemento actual\n",
    "        max_ending_here = max(x, max_ending_here + x)\n",
    "        \n",
    "        # Actualizamos max_so_far para que sea el máximo entre max_so_far y max_ending_here\n",
    "        max_so_far = max(max_so_far, max_ending_here)\n",
    "    \n",
    "    return max_so_far  # Devolvemos la suma máxima encontrada\n",
    "\n",
    "# Ejemplo de uso\n",
    "arr = [1, -2, 3, 10, -4, 7, 2, -5]\n",
    "print(max_subarray_sum(arr))  # Salida esperada: 18\n"
   ]
  },
  {
   "cell_type": "markdown",
   "metadata": {},
   "source": [
    "#24\n",
    "Ejercicio de Memoización en Costos de Envío\n",
    "Imagina que estás trabajando en un sistema de gestión de costos de envío para\n",
    "una empresa de logística. El sistema debe calcular el costo de envío para\n",
    "diferentes destinos, distancias y pesos de paquetes. Implementa una función\n",
    "llamada calcular_costo_envio que tome como entrada un destino, una distancia\n",
    "en kilómetros y un peso en kilogramos, y devuelva el costo total del envío.\n",
    "Requerimientos:\n",
    "1. El costo base de envío es de $5.0.\n",
    "2. El costo por kilómetro de distancia es de $0.1.\n",
    "3. El costo por kilogramo de peso es de $0.2.\n",
    "Implementa la función de manera eficiente utilizando memoización para evitar\n",
    "recalcular el costo para los mismos destinos, distancias y pesos."
   ]
  },
  {
   "cell_type": "code",
   "execution_count": 9,
   "metadata": {},
   "outputs": [
    {
     "name": "stdout",
     "output_type": "stream",
     "text": [
      "El costo total de envío a salamanca es: $7.65\n"
     ]
    }
   ],
   "source": [
    "from functools import lru_cache #Importamos el lru_cache para hacer uso de la memoización\n",
    "#Definimos la función que va a calcular todo.\n",
    "@lru_cache(maxsize=None)\n",
    "def calcular_costo_envio(destino, distancia, peso):\n",
    "    costo_base = 5\n",
    "    costo_distancia = distancia * 0.1\n",
    "    costo_peso = peso * 0.2\n",
    "    #Calculamos el costo total.\n",
    "    costo_total = costo_base + costo_distancia + costo_peso\n",
    "    return costo_total\n",
    "\n",
    "#EJEMPLO DE USO.\n",
    "destino = input('Introduzca el destino deseado del envío')\n",
    "distancia = float(input('Introduzca en KILOMENTROS la distancia porfavor'))\n",
    "peso = float(input('Introduzca el peso en KILOGRAMOS porfavor'))\n",
    "\n",
    "# Llamamos a la función con los datos proporcionados\n",
    "costo_final = calcular_costo_envio(destino, distancia, peso)\n",
    "print(f'El costo total de envío a {destino} es: ${costo_final:.2f}')"
   ]
  },
  {
   "cell_type": "markdown",
   "metadata": {},
   "source": [
    "#25\n",
    "Clases y Objetos:\n",
    "\n",
    "Crear una clase para representar un rectángulo con atributos de ancho y altura, y métodos para calcular el área y el perímetro.\n",
    "Implementar una clase para representar una cuenta bancaria con métodos para depositar, retirar y consultar el saldo."
   ]
  },
  {
   "cell_type": "code",
   "execution_count": 14,
   "metadata": {},
   "outputs": [
    {
     "name": "stdout",
     "output_type": "stream",
     "text": [
      "Área del rectángulo: 15\n",
      "Perímetro del rectángulo: 16\n",
      "-----SIGUIENTE EJERCICIO---------\n",
      "Saldo inicial: 1000\n",
      "Saldo después de depositar: 1500\n",
      "Saldo después de retirar 200€: 1300\n",
      "Saldo actual: 1300\n"
     ]
    }
   ],
   "source": [
    "#Creamos la clase \"Rectangulo\".\n",
    "class Rectangulo:\n",
    "    #Inicializamos la clase con los valores necesarios que son altura y ancho.\n",
    "    def __init__(self, ancho, altura):\n",
    "        self.ancho = ancho\n",
    "        self.altura = altura\n",
    "    #Realizamos la función para calcular el área del rectángulo.\n",
    "    def calcular_area(self):\n",
    "        return self.ancho * self.altura\n",
    "    #Realizamos la función para calcular el perímetro del rectángulo.\n",
    "    def calcular_perimetro(self):\n",
    "        return 2 * (self.ancho + self.altura)\n",
    "#EJEMPLO DE USO PARA EJERCICO DE RECTÁNGULO.\n",
    "rectangulo1 = Rectangulo(5, 3)\n",
    "print(\"Área del rectángulo:\", rectangulo1.calcular_area())\n",
    "print(\"Perímetro del rectángulo:\", rectangulo1.calcular_perimetro())\n",
    "\n",
    "print('-----SIGUIENTE EJERCICIO---------')\n",
    "\n",
    "#Creamos la clase \"CuentaBancaria\".\n",
    "class CuentaBancaria:\n",
    "    #Inicializamos la clase con el valor necesario: saldo_inicial.\n",
    "    def __init__(self, saldo_inicial = 0):\n",
    "        self.saldo_inicial = saldo_inicial\n",
    "    #Realizamos la función para deporsitar dinero.\n",
    "    def depositar(self, cantidad_ingreso):\n",
    "        self.saldo_inicial += cantidad_ingreso\n",
    "        return self.saldo_inicial\n",
    "    #Realizamos la función para retirar dinero.\n",
    "    def retirar(self, cantidad_retiro):\n",
    "        if cantidad_retiro > self.saldo_inicial:\n",
    "            print(f'ERROR: Retiro mayor que el saldo inicial.')\n",
    "        else:\n",
    "            self.saldo_inicial -= cantidad_retiro\n",
    "        return self.saldo_inicial\n",
    "    #Realizamos la función para consulatr el dinero dentro de la cuenta bancaria.\n",
    "    def consultar(self):\n",
    "        return self.saldo_inicial\n",
    "#EJEMPLO DE USO \n",
    "cuenta1 = CuentaBancaria(1000)\n",
    "print(\"Saldo inicial:\", cuenta1.consultar())\n",
    "print(\"Saldo después de depositar:\", cuenta1.depositar(500))\n",
    "print(\"Saldo después de retirar 200€:\", cuenta1.retirar(200))\n",
    "print(\"Saldo actual:\", cuenta1.consultar())"
   ]
  },
  {
   "cell_type": "markdown",
   "metadata": {},
   "source": [
    "#26\n",
    "Ejercicio de Memoización en Análisis de Texto\n",
    "Imagina que estás trabajando en un sistema de análisis de texto que requiere\n",
    "calcular la frecuencia de ocurrencia de palabras en un conjunto de\n",
    "documentos. Implementa una función llamada calcular_frecuencia_palabras que\n",
    "tome como entrada un texto y devuelva un diccionario que muestre la\n",
    "frecuencia de cada palabra en el texto.\n",
    "1. La función debe ser capaz de manejar textos y ser insensible a\n",
    "mayúsculas/minúsculas (por ejemplo, \"Hola\" y \"hola\" se consideran la\n",
    "misma palabra).\n",
    "2. Se deben excluir las palabras comunes (artículos, preposiciones, etc.) que\n",
    "no aportan información relevante al análisis.\n",
    "3. Utiliza memoización para evitar recalcular la frecuencia de palabras para el\n",
    "mismo texto\n"
   ]
  },
  {
   "cell_type": "code",
   "execution_count": null,
   "metadata": {},
   "outputs": [],
   "source": [
    "import re\n",
    "from collections import defaultdict\n",
    "\n",
    "# Lista de palabras comunes a excluir\n",
    "palabras_comunes = {\n",
    "    'el', 'la', 'los', 'las', 'un', 'una', 'unos', 'unas', \n",
    "    'de', 'del', 'a', 'ante', 'bajo', 'con', 'contra', \n",
    "    'desde', 'durante', 'en', 'entre', 'hacia', 'hasta', \n",
    "    'para', 'por', 'según', 'sin', 'sobre', 'tras', 'y', \n",
    "    'o', 'u', 'que', 'como', 'es', 'son', 'ser', 'fue', 'fueron', \n",
    "    'ha', 'han', 'si', 'no', 'pero', 'al', 'lo', 'su', 'sus', 'más', \n",
    "    'menos'\n",
    "}\n",
    "\n",
    "# Diccionario para memoización\n",
    "memo = {}\n",
    "\n",
    "def normalizar_texto(texto):\n",
    "    \"\"\"Convierte el texto a minúsculas y elimina la puntuación.\"\"\"\n",
    "    texto = texto.lower()\n",
    "    texto = re.sub(r'[^\\w\\s]', '', texto)  # Elimina la puntuación\n",
    "    return texto\n",
    "\n",
    "def calcular_frecuencia_palabras(texto):\n",
    "    \"\"\"Calcula la frecuencia de palabras en el texto, excluyendo palabras comunes.\"\"\"\n",
    "    # Verificar si el resultado ya está en el diccionario de memoización\n",
    "    if texto in memo:\n",
    "        return memo[texto]\n",
    "    \n",
    "    # Normalizar el texto\n",
    "    texto_normalizado = normalizar_texto(texto)\n",
    "    \n",
    "    # Dividir el texto en palabras\n",
    "    palabras = texto_normalizado.split()\n",
    "    \n",
    "    # Calcular la frecuencia de palabras, excluyendo palabras comunes\n",
    "    frecuencia = defaultdict(int)\n",
    "    for palabra in palabras:\n",
    "        if palabra not in palabras_comunes:\n",
    "            frecuencia[palabra] += 1\n",
    "    \n",
    "    # Almacenar el resultado en el diccionario de memoización\n",
    "    memo[texto] = dict(frecuencia)\n",
    "    \n",
    "    return memo[texto]\n",
    "\n",
    "# Ejemplo de uso\n",
    "texto = \"Hola, hola! Este es un ejemplo de texto para el análisis de frecuencia de palabras. Este texto tiene palabras repetidas, como hola y texto.\"\n",
    "frecuencia = calcular_frecuencia_palabras(texto)\n",
    "print(frecuencia)\n"
   ]
  },
  {
   "cell_type": "code",
   "execution_count": 3,
   "metadata": {},
   "outputs": [
    {
     "name": "stdout",
     "output_type": "stream",
     "text": [
      "{'hola': 3, 'este': 2, 'ejemplo': 1, 'texto': 3, 'análisis': 1, 'frecuencia': 1, 'palabras': 2, 'tiene': 1, 'repetidas': 1}\n"
     ]
    }
   ],
   "source": [
    "import string\n",
    "from collections import defaultdict\n",
    "\n",
    "# Lista de palabras comunes a excluir\n",
    "palabras_comunes = {\n",
    "    'el', 'la', 'los', 'las', 'un', 'una', 'unos', 'unas', \n",
    "    'de', 'del', 'a', 'ante', 'bajo', 'con', 'contra', \n",
    "    'desde', 'durante', 'en', 'entre', 'hacia', 'hasta', \n",
    "    'para', 'por', 'según', 'sin', 'sobre', 'tras', 'y', \n",
    "    'o', 'u', 'que', 'como', 'es', 'son', 'ser', 'fue', 'fueron', \n",
    "    'ha', 'han', 'si', 'no', 'pero', 'al', 'lo', 'su', 'sus', 'más', \n",
    "    'menos'\n",
    "}\n",
    "\n",
    "# Diccionario para memoización\n",
    "memo = {}\n",
    "\n",
    "def normalizar_texto(texto):\n",
    "    \"\"\"Convierte el texto a minúsculas y elimina la puntuación.\"\"\"\n",
    "    texto = texto.lower()\n",
    "    texto = texto.translate(str.maketrans('', '', string.punctuation))  # Elimina la puntuación\n",
    "    return texto\n",
    "\n",
    "def calcular_frecuencia_palabras(texto):\n",
    "    \"\"\"Calcula la frecuencia de palabras en el texto, excluyendo palabras comunes.\"\"\"\n",
    "    # Verificar si el resultado ya está en el diccionario de memoización\n",
    "    if texto in memo:\n",
    "        return memo[texto]\n",
    "    \n",
    "    # Normalizar el texto\n",
    "    texto_normalizado = normalizar_texto(texto)\n",
    "    \n",
    "    # Dividir el texto en palabras\n",
    "    palabras = texto_normalizado.split()\n",
    "    \n",
    "    # Calcular la frecuencia de palabras, excluyendo palabras comunes\n",
    "    frecuencia = defaultdict(int)\n",
    "    for palabra in palabras:\n",
    "        if palabra not in palabras_comunes:\n",
    "            frecuencia[palabra] += 1\n",
    "    \n",
    "    # Almacenar el resultado en el diccionario de memoización\n",
    "    memo[texto] = dict(frecuencia)\n",
    "    \n",
    "    return memo[texto]\n",
    "\n",
    "# Ejemplo de uso\n",
    "texto = \"Hola, hola! Este es un ejemplo de texto para el análisis de frecuencia de palabras. Este texto tiene palabras repetidas, como hola y texto.\"\n",
    "frecuencia = calcular_frecuencia_palabras(texto)\n",
    "print(frecuencia)\n"
   ]
  },
  {
   "cell_type": "markdown",
   "metadata": {},
   "source": [
    "#27\n",
    "Estructuras de Datos Avanzadas:\n",
    "\n",
    "Implementar un árbol binario de búsqueda y realizar operaciones como insertar, eliminar y buscar nodos.\n",
    "Crear un grafo ponderado y encontrar el camino más corto entre dos nodos utilizando el algoritmo de Dijkstra."
   ]
  },
  {
   "cell_type": "code",
   "execution_count": 2,
   "metadata": {},
   "outputs": [
    {
     "name": "stdout",
     "output_type": "stream",
     "text": [
      "Recorrido en orden del árbol dado: [20, 30, 40, 50, 60, 70, 80]\n",
      "\n",
      "Eliminar 20\n",
      "Recorrido en orden del árbol modificado: [30, 40, 50, 60, 70, 80]\n",
      "\n",
      "Eliminar 30\n",
      "Recorrido en orden del árbol modificado: [40, 50, 60, 70, 80]\n",
      "\n",
      "Eliminar 50\n",
      "Recorrido en orden del árbol modificado: [40, 60, 70, 80]\n",
      "\n",
      "Buscar 40: 40\n",
      "Buscar 100: No encontrado\n"
     ]
    }
   ],
   "source": [
    "class NodoArbol:\n",
    "    def __init__(self, clave):\n",
    "        self.izquierdo = None  # Hijo izquierdo, inicialmente None.\n",
    "        self.derecho = None    # Hijo derecho, inicialmente None.\n",
    "        self.valor = clave     # Valor del nodo.\n",
    "\n",
    "\n",
    "class ArbolBinarioBusqueda:\n",
    "    def __init__(self):\n",
    "        self.raiz = None  # Inicialmente, el árbol está vacío y la raíz es None.\n",
    "\n",
    "    def insertar(self, clave):\n",
    "        if self.raiz is None:\n",
    "            self.raiz = NodoArbol(clave)  # Si el árbol está vacío, el nuevo nodo se convierte en la raíz.\n",
    "        else:\n",
    "            self._insertar(self.raiz, clave)  # Si no, se llama al método privado _insertar.\n",
    "\n",
    "    def _insertar(self, raiz, clave):\n",
    "        if clave < raiz.valor:\n",
    "            if raiz.izquierdo is None:\n",
    "                raiz.izquierdo = NodoArbol(clave)  # Inserta el nodo como hijo izquierdo.\n",
    "            else:\n",
    "                self._insertar(raiz.izquierdo, clave)  # Continua buscando en el subárbol izquierdo.\n",
    "        else:\n",
    "            if raiz.derecho is None:\n",
    "                raiz.derecho = NodoArbol(clave)  # Inserta el nodo como hijo derecho.\n",
    "            else:\n",
    "                self._insertar(raiz.derecho, clave)  # Continua buscando en el subárbol derecho.\n",
    "\n",
    "    def buscar(self, clave):\n",
    "        return self._buscar(self.raiz, clave)  # Llama al método privado _buscar.\n",
    "\n",
    "    def _buscar(self, raiz, clave):\n",
    "        if raiz is None or raiz.valor == clave:\n",
    "            return raiz  # Retorna el nodo si lo encuentra, o None si no lo encuentra.\n",
    "        if clave < raiz.valor:\n",
    "            return self._buscar(raiz.izquierdo, clave)  # Busca en el subárbol izquierdo.\n",
    "        return self._buscar(raiz.derecho, clave)  # Busca en el subárbol derecho.\n",
    "\n",
    "    def eliminar(self, clave):\n",
    "        self.raiz = self._eliminar(self.raiz, clave)  # Llama al método privado _eliminar.\n",
    "\n",
    "    def _eliminar(self, raiz, clave):\n",
    "        if raiz is None:\n",
    "            return raiz  # Si el árbol está vacío, no hace nada.\n",
    "        if clave < raiz.valor:\n",
    "            raiz.izquierdo = self._eliminar(raiz.izquierdo, clave)  # Elimina en el subárbol izquierdo.\n",
    "        elif clave > raiz.valor:\n",
    "            raiz.derecho = self._eliminar(raiz.derecho, clave)  # Elimina en el subárbol derecho.\n",
    "        else:\n",
    "            if raiz.izquierdo is None:\n",
    "                return raiz.derecho  # Caso 1: Nodo sin hijo izquierdo.\n",
    "            elif raiz.derecho is None:\n",
    "                return raiz.izquierdo  # Caso 2: Nodo sin hijo derecho.\n",
    "            nodo_min_derecho = self._obtener_min(raiz.derecho)\n",
    "            raiz.valor = nodo_min_derecho.valor  # Reemplaza con el valor mínimo del subárbol derecho.\n",
    "            raiz.derecho = self._eliminar(raiz.derecho, nodo_min_derecho.valor)  # Elimina el nodo mínimo.\n",
    "        return raiz\n",
    "\n",
    "    def _obtener_min(self, raiz):\n",
    "        while raiz.izquierdo is not None:\n",
    "            raiz = raiz.izquierdo  # Encuentra el nodo más a la izquierda (valor mínimo).\n",
    "        return raiz\n",
    "\n",
    "    def en_orden(self):\n",
    "        return self._en_orden(self.raiz)\n",
    "\n",
    "    def _en_orden(self, raiz):\n",
    "        return self._en_orden(raiz.izquierdo) + [raiz.valor] + self._en_orden(raiz.derecho) if raiz else []\n",
    "\n",
    "#EJEMPLO DE USO.\n",
    "# Crear un nuevo árbol binario de búsqueda.\n",
    "bst = ArbolBinarioBusqueda()\n",
    "\n",
    "# Insertar valores en el árbol.\n",
    "bst.insertar(50)\n",
    "bst.insertar(30)\n",
    "bst.insertar(20)\n",
    "bst.insertar(40)\n",
    "bst.insertar(70)\n",
    "bst.insertar(60)\n",
    "bst.insertar(80)\n",
    "\n",
    "# Imprimir el recorrido en orden del árbol.\n",
    "print(\"Recorrido en orden del árbol dado:\", bst.en_orden())\n",
    "\n",
    "# Eliminar un nodo y mostrar el recorrido en orden.\n",
    "print(\"\\nEliminar 20\")\n",
    "bst.eliminar(20)\n",
    "print(\"Recorrido en orden del árbol modificado:\", bst.en_orden())\n",
    "\n",
    "print(\"\\nEliminar 30\")\n",
    "bst.eliminar(30)\n",
    "print(\"Recorrido en orden del árbol modificado:\", bst.en_orden())\n",
    "\n",
    "print(\"\\nEliminar 50\")\n",
    "bst.eliminar(50)\n",
    "print(\"Recorrido en orden del árbol modificado:\", bst.en_orden())\n",
    "\n",
    "# Buscar nodos y mostrar el resultado.\n",
    "print(\"\\nBuscar 40:\", bst.buscar(40).valor if bst.buscar(40) else \"No encontrado\")\n",
    "print(\"Buscar 100:\", bst.buscar(100).valor if bst.buscar(100) else \"No encontrado\")\n",
    "\n"
   ]
  },
  {
   "cell_type": "code",
   "execution_count": 3,
   "metadata": {},
   "outputs": [
    {
     "name": "stdout",
     "output_type": "stream",
     "text": [
      "{'A': 0, 'B': 5, 'C': 3, 'D': 10, 'E': 7}\n"
     ]
    }
   ],
   "source": [
    "def dijkstra(grafo, inicio):\n",
    "    \"\"\"\n",
    "    Implementación del algoritmo de Dijkstra para encontrar el camino más corto desde un nodo de inicio hasta todos los demás nodos en un grafo ponderado.\n",
    "\n",
    "    Args:\n",
    "        grafo (dict): Grafo ponderado representado como un diccionario donde las claves son los nodos y los valores son otro diccionario que contiene los nodos vecinos \n",
    "        y los pesos de las aristas que los conectan.\n",
    "        inicio (str): Nodo de inicio desde el cual se calcularán las distancias.\n",
    "\n",
    "    Returns:\n",
    "        dict: Un diccionario donde las claves son los nodos y los valores son las distancias desde el nodo de inicio hasta cada nodo en el grafo.\n",
    "    \"\"\"\n",
    "    distancia = {nodo: float('inf') for nodo in grafo}  # Inicializamos todas las distancias como infinito\n",
    "    distancia[inicio] = 0  # La distancia desde el nodo de inicio hasta sí mismo es 0\n",
    "    visitados = set()  # Conjunto para mantener los nodos visitados\n",
    "\n",
    "    while len(visitados) < len(grafo):  # Continuar hasta que hayamos visitado todos los nodos del grafo\n",
    "        nodo_actual = min((nodo for nodo in grafo if nodo not in visitados), key=lambda n: distancia[n])  # Seleccionar el nodo no visitado más cercano\n",
    "        visitados.add(nodo_actual)  # Marcar el nodo como visitado\n",
    "        for vecino, peso in grafo[nodo_actual].items():  # Iterar sobre los vecinos del nodo actual\n",
    "            distancia_nueva = distancia[nodo_actual] + peso  # Calcular la nueva distancia desde el nodo de inicio hasta el vecino\n",
    "            if distancia_nueva < distancia[vecino]:  # Si la nueva distancia es menor que la distancia actual\n",
    "                distancia[vecino] = distancia_nueva  # Actualizar la distancia\n",
    "    return distancia\n",
    "\n",
    "# Ejemplo de uso\n",
    "grafo = {\n",
    "    'A': {'B': 5, 'C': 3},\n",
    "    'B': {'C': 2, 'D': 6},\n",
    "    'C': {'D': 7, 'E': 4},\n",
    "    'D': {'E': 1},\n",
    "    'E': {}\n",
    "}\n",
    "\n",
    "resultado = dijkstra(grafo, 'A')  # Encontrar el camino más corto desde el nodo 'A' a todos los demás nodos\n",
    "print(resultado)\n"
   ]
  },
  {
   "cell_type": "markdown",
   "metadata": {},
   "source": [
    "#28\n",
    "Algoritmos y Problemas Clásicos:\n",
    "\n",
    "Resolver el problema de encontrar el número más grande y más pequeño en una lista.\n",
    "Resolver el problema de encontrar los dos números más grandes en una lista.\n",
    "Implementar el algoritmo de ordenamiento de burbuja para ordenar una lista de números.\n",
    "Resolver el problema de encontrar el subarreglo con la suma máxima en una lista de números."
   ]
  },
  {
   "cell_type": "code",
   "execution_count": 9,
   "metadata": {},
   "outputs": [
    {
     "name": "stdout",
     "output_type": "stream",
     "text": [
      "('El numero mayor de la lista es', {76}, 'y el número menor es', 1)\n",
      "(9, 8)\n",
      "Lista ordenada: [1, 8, 30, 39, 45, 76, 3]\n",
      "La suma máxima del subarreglo es: 202\n"
     ]
    }
   ],
   "source": [
    "#Resolver el problema de encontrar el número más grande y más pequeño en una lista.\n",
    "def encontrar_numeros(lista):\n",
    "    if len(lista) < 2:\n",
    "        return 'ERROR: La lista tiene menos de 2 números.'\n",
    "    else:\n",
    "        numero_mayor = max(lista)\n",
    "        numero_menor = min(lista)\n",
    "    return 'El numero mayor de la lista es', {numero_mayor}, 'y el número menor es', numero_menor\n",
    "#EJEMPLO DE USO.\n",
    "lista = [1, 8, 39, 76, 30, 45, 3]\n",
    "solucion = encontrar_numeros(lista)\n",
    "print(solucion)\n",
    "\n",
    "#Resolver el problema de encontrar los dos números más grandes en una lista.\n",
    "def encontrar_dos_numeros_grandes(lista2):\n",
    "    if len(lista2) < 2:\n",
    "        return 'ERROR: La lista tiene menos de 2 números.'\n",
    "    if lista2[0] > lista2[1]:\n",
    "        mayorGrande = lista2[0]\n",
    "        mayorMenor = lista2[1]\n",
    "    else:\n",
    "        mayorGrande = lista2[1]\n",
    "        mayorMenor = lista2[0]\n",
    "    for num in lista2:\n",
    "        if num > mayorGrande:\n",
    "            mayorMenor = mayorGrande\n",
    "            mayorGrande = num\n",
    "        elif num > mayorMenor:\n",
    "            mayorMenor = num\n",
    "    return mayorGrande, mayorMenor\n",
    "#EJEMPLO DE USO.\n",
    "lista2 = [3, 5, 1, 9, 2, 8]\n",
    "print(encontrar_dos_numeros_grandes(lista2))  # Salida: (9, 8)\n",
    "\n",
    "#Implementar el algoritmo de ordenamiento de burbuja para ordenar una lista de números.\n",
    "def ordenamiento_burbuja(lista):\n",
    "    n = len(lista3)\n",
    "    for i in range(n):\n",
    "        intercambiado = False  # Bandera para verificar si se han realizado intercambios en esta pasada\n",
    "        for j in range(0, n - 1 - i):\n",
    "            if lista[j] > lista[j + 1]:\n",
    "                # Intercambiamos los elementos\n",
    "                lista[j], lista[j + 1] = lista[j + 1], lista[j]\n",
    "                intercambiado = True  # Marcamos que se ha realizado un intercambio\n",
    "        # Si no se han realizado intercambios en esta pasada, la lista está ordenada\n",
    "        if not intercambiado:\n",
    "            break\n",
    "    return lista\n",
    "#EJEMPLO DE USO.\n",
    "lista3 = [1, 5, 98, 6, 7, 2]\n",
    "lista_ordenada = ordenamiento_burbuja(lista)\n",
    "print(\"Lista ordenada:\", lista_ordenada)\n",
    "\n",
    "#Resolver el problema de encontrar el subarreglo con la suma máxima en una lista de números.\n",
    "def subarreglo_suma_maxima(lista4):\n",
    "    if not lista:\n",
    "        return 0  # Si la lista está vacía, la suma máxima es 0\n",
    "    max_actual = max_global = lista[0]  # Inicializamos las variables con el primer elemento\n",
    "    for num in lista[1:]:  # Empezamos desde el segundo elemento\n",
    "        # Actualizamos max_actual: es el máximo entre el número actual y la suma del número actual y max_actual\n",
    "        max_actual = max(num, num + max_actual)\n",
    "        # Actualizamos max_global: es el máximo entre max_actual y max_global\n",
    "        max_global = max(max_global, max_actual)\n",
    "    return max_global\n",
    "#EJEMPLO DE USO.\n",
    "lista4 = [2, -5, 6, -2, 3, -10, 4, 8, -5]\n",
    "resultado = subarreglo_suma_maxima(lista)\n",
    "print(\"La suma máxima del subarreglo es:\", resultado)"
   ]
  },
  {
   "cell_type": "markdown",
   "metadata": {},
   "source": [
    "#29\n",
    "Implementa una función que genere un grafo aleatorio con un número especificado de nodos y aristas, y luego utiliza tu implementación de Dijkstra para encontrar el camino más corto desde un nodo de inicio dado hacia todos los demás nodos en este grafo."
   ]
  },
  {
   "cell_type": "code",
   "execution_count": null,
   "metadata": {},
   "outputs": [],
   "source": [
    "import random\n",
    "def generar_grafo_aleatorio(n, m):\n",
    "    \"\"\"\n",
    "    Genera un grafo aleatorio con n nodos y m aristas.\n",
    "    Args:\n",
    "        n (int): Número de nodos en el grafo.\n",
    "        m (int): Número de aristas en el grafo.\n",
    "    Returns:\n",
    "        dict: Grafo aleatorio generado.\n",
    "    \"\"\"\n",
    "    grafo = {}  # Inicializa un diccionario vacío para representar el grafo\n",
    "    # Genera etiquetas de nodo para los nodos del grafo\n",
    "    for i in range(n):\n",
    "        grafo[chr(65 + i)] = {}  # Usa chr(65 + i) para asignar etiquetas de nodo (por ejemplo, 'A', 'B', 'C', ...)\n",
    "    # Crea una lista de todas las posibles aristas entre los nodos\n",
    "    aristas_posibles = [(chr(65 + i), chr(65 + j)) for i in range(n) for j in range(n) if i != j]\n",
    "    # Agrega m aristas aleatorias al grafo con pesos aleatorios en el rango [1, 10]\n",
    "    for _ in range(m):\n",
    "        u, v = random.choice(aristas_posibles)  # Elige aleatoriamente una arista\n",
    "        peso = random.randint(1, 10)  # Genera un peso aleatorio para la arista en el rango [1, 10]\n",
    "        grafo[u][v] = peso  # Agrega la arista al grafo\n",
    "        grafo[v][u] = peso  # Como el grafo es no dirigido, agrega la arista en ambas direcciones\n",
    "    return grafo\n",
    "def dijkstra(grafo, inicio):\n",
    "    \"\"\"\n",
    "    Implementa el algoritmo de Dijkstra para encontrar el camino más corto desde un nodo de inicio hasta todos los demás nodos en un grafo ponderado.\n",
    "    Args:\n",
    "        grafo (dict): Grafo ponderado representado como un diccionario donde las claves son los nodos y los valores son otro diccionario que contiene los nodos vecinos y los pesos de las aristas que los conectan.\n",
    "        inicio (str): Nodo de inicio desde el cual se calcularán las distancias.\n",
    "    Returns:\n",
    "        dict: Un diccionario donde las claves son los nodos y los valores son las distancias desde el nodo de inicio hasta cada nodo en el grafo.\n",
    "    \"\"\"\n",
    "    distancia = {nodo: float('inf') for nodo in grafo}  # Inicializa todas las distancias como infinito\n",
    "    distancia[inicio] = 0  # La distancia desde el nodo de inicio hasta sí mismo es 0\n",
    "    visitados = set()  # Conjunto para mantener los nodos visitados\n",
    "    while len(visitados) < len(grafo):  # Continuar hasta que hayamos visitado todos los nodos del grafo\n",
    "        nodo_actual = min((nodo for nodo in grafo if nodo not in visitados), key=lambda n: distancia[n])  # Seleccionar el nodo no visitado más cercano\n",
    "        visitados.add(nodo_actual)  # Marcar el nodo como visitado\n",
    "        for vecino, peso in grafo[nodo_actual].items():  # Iterar sobre los vecinos del nodo actual\n",
    "            distancia_nueva = distancia[nodo_actual] + peso  # Calcular la nueva distancia desde el nodo de inicio hasta el vecino\n",
    "            if distancia_nueva < distancia[vecino]:  # Si la nueva distancia es menor que la distancia actual\n",
    "                distancia[vecino] = distancia_nueva  # Actualizar la distancia\n",
    "    return distancia\n",
    "def dijkstra_aleatorio(n, m, inicio):\n",
    "    \"\"\"\n",
    "    Genera un grafo aleatorio con n nodos y m aristas, y luego utiliza el algoritmo de Dijkstra para encontrar el camino más corto desde un nodo de inicio dado hacia todos los demás nodos en este grafo.\n",
    "    Args:\n",
    "        n (int): Número de nodos en el grafo.\n",
    "        m (int): Número de aristas en el grafo.\n",
    "        inicio (str): Nodo de inicio desde el cual se calcularán las distancias.\n",
    "    Returns:\n",
    "        dict: Un diccionario donde las claves son los nodos y los valores son las distancias desde el nodo de inicio hasta cada nodo en el grafo.\n",
    "    \"\"\"\n",
    "    grafo = generar_grafo_aleatorio(n, m)  # Genera un grafo aleatorio\n",
    "    camino_mas_corto = dijkstra(grafo, inicio)  # Encontrar el camino más corto desde el nodo de inicio\n",
    "    return camino_mas_corto\n",
    "#EJEMPLO DE USO.\n",
    "n = 5  # Número de nodos\n",
    "m = 8  # Número de aristas\n",
    "inicio = 'A'  # Nodo de inicio\n",
    "resultado = dijkstra_aleatorio(n, m, inicio)  # Encontrar el camino más corto desde el nodo de inicio en el grafo aleatorio\n",
    "print(\"Distancias desde el nodo de inicio:\", resultado)"
   ]
  },
  {
   "cell_type": "markdown",
   "metadata": {},
   "source": [
<<<<<<< HEAD
    "#30\n",
=======
    "#31\n",
>>>>>>> 8086a913e9293b9a0f75a387e841b4f9cd77ad76
    "Escribe un programa en Python que genere un grafo aleatorio con 5 nodos y 7 aristas, donde los nodos se etiqueten como 'A', 'B', 'C', 'D' y 'E'. Luego, encuentra el camino más corto desde el nodo 'A' hasta todos los demás nodos utilizando el algoritmo de Dijkstra."
   ]
  },
  {
   "cell_type": "code",
   "execution_count": 10,
   "metadata": {},
   "outputs": [
    {
     "name": "stdout",
     "output_type": "stream",
     "text": [
      "Distancias desde el nodo de inicio (A):\n",
      "Distancia hasta A: 0\n",
      "Distancia hasta B: 1\n",
      "Distancia hasta C: 4\n",
      "Distancia hasta D: 4\n",
      "Distancia hasta E: 2\n"
     ]
    }
   ],
   "source": [
    "'''Escribe un programa en Python que genere un grafo aleatorio con 5 nodos y 7 aristas, donde los nodos\n",
    "se etiqueten como 'A', 'B', 'C', 'D' y 'E'. Luego, encuentra el camino más corto desde el nodo 'A' hasta todos los demás nodos utilizando el algoritmo de Dijkstra.'''\n",
    "import random \n",
    "def generar_grafo_aleatorio(): \n",
    "    # Definición del grafo como un diccionario donde las claves son los nodos y los valores son otro diccionario que contiene los nodos vecinos y los pesos de las aristas que los conectan.\n",
    "    grafo = {\n",
    "        'A': {'B': 0, 'C': 0, 'D': 0, 'E': 0}, \n",
    "        'B': {'A': 0, 'C': 0, 'D': 0, 'E': 0},\n",
    "        'C': {'A': 0, 'B': 0, 'D': 0, 'E': 0},\n",
    "        'D': {'A': 0, 'B': 0, 'C': 0, 'E': 0},\n",
    "        'E': {'A': 0, 'B': 0, 'C': 0, 'D': 0}\n",
    "    }\n",
    "    # Asignación de pesos aleatorios a las aristas\n",
    "    for nodo in grafo:\n",
    "        for vecino in grafo[nodo]:\n",
    "            peso = random.randint(1, 10)  # Genera un peso aleatorio para la arista en el rango [1, 10]\n",
    "            grafo[nodo][vecino] = peso\n",
    "            grafo[vecino][nodo] = peso  # Agrega la arista en ambas direcciones\n",
    "    return grafo\n",
    "def dijkstra(grafo, inicio):\n",
    "    # Inicialización de distancias como infinito para todos los nodos\n",
    "    distancia = {nodo: float('inf') for nodo in grafo}\n",
    "    distancia[inicio] = 0  # La distancia desde el nodo de inicio hacia sí mismo es 0\n",
    "    visitados = set()  # Conjunto para mantener los nodos visitados\n",
    "    # Algoritmo de Dijkstra\n",
    "    while len(visitados) < len(grafo):  # Continuar hasta que hayamos visitado todos los nodos del grafo\n",
    "        nodo_actual = min((nodo for nodo in grafo if nodo not in visitados), key=lambda n: distancia[n])  # Seleccionar el nodo no visitado más cercano\n",
    "        visitados.add(nodo_actual)  # Marcar el nodo como visitado\n",
    "        for vecino, peso in grafo[nodo_actual].items():  # Iterar sobre los vecinos del nodo actual\n",
    "            distancia_nueva = distancia[nodo_actual] + peso  # Calcular la nueva distancia desde el nodo de inicio hasta el vecino\n",
    "            if distancia_nueva < distancia[vecino]:  # Si la nueva distancia es menor que la distancia actual\n",
    "                distancia[vecino] = distancia_nueva  # Actualizar la distancia\n",
    "    return distancia\n",
    "# Generar grafo aleatorio\n",
    "grafo_aleatorio = generar_grafo_aleatorio()\n",
    "# Encontrar el camino más corto desde el nodo 'A' utilizando Dijkstra\n",
    "inicio = 'A'\n",
    "resultado = dijkstra(grafo_aleatorio, inicio)\n",
    "# Imprimir resultado\n",
    "print(\"Distancias desde el nodo de inicio (\" + inicio + \"):\")\n",
    "for nodo, distancia in resultado.items(): print(\"Distancia hasta\", nodo + \":\", distancia)"
   ]
  },
  {
   "cell_type": "markdown",
   "metadata": {},
   "source": [
<<<<<<< HEAD
    "#31\n",
=======
    "#32\n",
>>>>>>> 8086a913e9293b9a0f75a387e841b4f9cd77ad76
    "Escribe una función que compruebe si un árbol binario dado es un árbol binario de búsqueda válido o no. Luego, crea algunos árboles binarios de búsqueda, algunos válidos y otros no, y utiliza esta función para verificar su validez."
   ]
  },
  {
   "cell_type": "code",
   "execution_count": null,
   "metadata": {},
   "outputs": [],
   "source": [
    "'''Escribe una función que compruebe si un árbol binario dado es un árbol binario\n",
    " de búsqueda válido o no. Luego, crea algunos árboles binarios de búsqueda, algunos válidos y otros no, y utiliza esta función para verificar su validez.'''\n",
    "class NodoArbol:\n",
    "    def __init__(self, clave):\n",
    "        self.izquierdo = None  # Hijo izquierdo, inicialmente None.\n",
    "        self.derecho = None    # Hijo derecho, inicialmente None.\n",
    "        self.valor = clave     # Valor del nodo.\n",
    "def es_arbol_busqueda(arbol):\n",
    "    \"\"\"\n",
    "    Comprueba si un árbol binario dado es un árbol binario de búsqueda válido.\n",
    "    Args:\n",
    "        arbol (NodoArbol): El árbol binario a verificar.\n",
    "    Returns:\n",
    "        bool: True si es un árbol binario de búsqueda válido, False en caso contrario.\n",
    "    \"\"\"\n",
    "    def es_bst_util(nodo, min_valor, max_valor):\n",
    "        # Función interna para verificar si un subárbol es un BST válido.\n",
    "        if nodo is None:\n",
    "            return True  # Si el nodo es None, es un BST válido.\n",
    "        if not (min_valor <= nodo.valor <= max_valor):\n",
    "            return False  # Si el valor del nodo está fuera de los límites, no es un BST válido.\n",
    "        # Verificar recursivamente los subárboles izquierdo y derecho del nodo actual.\n",
    "        # Para el subárbol izquierdo, los valores máximos permitidos son menores que el valor del nodo actual.\n",
    "        # Para el subárbol derecho, los valores mínimos permitidos son mayores que el valor del nodo actual.\n",
    "        return (es_bst_util(nodo.izquierdo, min_valor, nodo.valor - 1) and es_bst_util(nodo.derecho, nodo.valor + 1, max_valor))\n",
    "    # Llamar a la función interna con los límites mínimos y máximos para los valores del árbol completo.\n",
    "    return es_bst_util(arbol, float('-inf'), float('inf'))\n",
    "# Crear algunos árboles binarios de búsqueda válidos e inválidos\n",
    "bst_valido = NodoArbol(5)\n",
    "bst_valido.izquierdo = NodoArbol(3)\n",
    "bst_valido.derecho = NodoArbol(7)\n",
    "bst_valido.izquierdo.izquierdo = NodoArbol(2)\n",
    "bst_valido.izquierdo.derecho = NodoArbol(4)\n",
    "bst_invalido = NodoArbol(5)\n",
    "bst_invalido.izquierdo = NodoArbol(3)\n",
    "bst_invalido.derecho = NodoArbol(7)\n",
    "print(\"¿El primer árbol es un BST válido?\", es_arbol_busqueda(bst_valido))\n",
    "print(\"¿El segundo árbol es un BST válido?\", es_arbol_busqueda(bst_invalido))"
   ]
  },
  {
   "cell_type": "markdown",
   "metadata": {},
   "source": [
<<<<<<< HEAD
    "#32\n",
=======
    "#33\n",
>>>>>>> 8086a913e9293b9a0f75a387e841b4f9cd77ad76
    "¿ES UN NÚMERO DE ARMSTRONG?\n",
    "/*\n",
    " * Escribe una función que calcule si un número dado es un número de Armstrong\n",
    " * (o también llamado narcisista).\n",
    " * Si no conoces qué es un número de Armstrong, debes buscar información\n",
    " * al respecto.*/"
   ]
  },
  {
   "cell_type": "code",
   "execution_count": 17,
   "metadata": {},
   "outputs": [
    {
     "name": "stdout",
     "output_type": "stream",
     "text": [
      "True\n",
      "True\n",
      "True\n",
      "False\n"
     ]
    }
   ],
   "source": [
    "def calcular_num_Amstrong(numero):\n",
    "    numero = str(numero) #Pasamos el número a string ara poder contar los digitos que tiene.\n",
    "    total_digitos = len(numero) #Contamos la cantidad de digitos totales que tiene el número.\n",
    "    suma = 0 #Inicializamos la suma en 0.\n",
    "    for digito in numero:\n",
    "        suma = suma + int(digito) ** total_digitos  #Se realiza la suma de cada digito elevados al len del número\n",
    "    suma = str(suma) #Realizamos la conversión a 'string' para poder realizar la comparación correctamente.\n",
    "    return suma == numero\n",
    "    #EJEMPLO DE USO.\n",
    "print(calcular_num_Amstrong(153))  # True\n",
    "print(calcular_num_Amstrong(370))  # True\n",
    "print(calcular_num_Amstrong(9474))  # True\n",
    "print(calcular_num_Amstrong(123))  # False"
   ]
  },
  {
   "cell_type": "markdown",
   "metadata": {},
   "source": [
<<<<<<< HEAD
    "#33\n",
=======
    "#34\n",
>>>>>>> 8086a913e9293b9a0f75a387e841b4f9cd77ad76
    "¿CUÁNTOS DÍAS?\n",
    "/*\n",
    " * Crea una función que calcule y retorne cuántos días hay entre dos cadenas\n",
    " * de texto que representen fechas.\n",
    " * - Una cadena de texto que representa una fecha tiene el formato \"dd/MM/yyyy\".\n",
    " * - La función recibirá dos String y retornará un Int.\n",
    " * - La diferencia en días será absoluta (no importa el orden de las fechas).\n",
    " * - Si una de las dos cadenas de texto no representa una fecha correcta se\n",
    " *   lanzará una excepción.\n",
    " */"
   ]
  },
  {
   "cell_type": "code",
   "execution_count": 5,
   "metadata": {},
   "outputs": [
    {
     "name": "stdout",
     "output_type": "stream",
     "text": [
      "La diferencia absoluta de días es: 227\n"
     ]
    }
   ],
   "source": [
    "from datetime import datetime #Importamos datetime para poder realizar el problemas y manipular fechas.\n",
    "#Realizamos la función para calcular la diferencia de días de una fecha a otra.\n",
    "def calcular_dias(fecha1: str, fecha2: str) -> int:\n",
    "    formato_fecha = \"%d/%m/%Y\"\n",
    "    try: #Convertimos las cadenas de texto a fechas con la función propia de datetime (.strptime(fecha, formatoFecha))\n",
    "        fecha1_obj = datetime.strptime(fecha1, formato_fecha)\n",
    "        fecha2_obj = datetime.strptime(fecha2, formato_fecha)\n",
    "    except ValueError: #Realizamos un manejo de errores.\n",
    "        raise ValueError(\"Una de las cadenas de texto no representa una fecha correcta\")\n",
    "    return abs((fecha2_obj - fecha1_obj).days) #Usamos abs para que no de el valor absoluto.\n",
    "#EJEMPLO DE USO.\n",
    "fecha1 = \"12/05/2023\"\n",
    "fecha2 = \"25/12/2023\"\n",
    "print('La diferencia absoluta de días es:',calcular_dias(fecha1, fecha2))  # Salida: 227"
   ]
  },
  {
   "cell_type": "markdown",
   "metadata": {},
   "source": [
<<<<<<< HEAD
    "#34\n",
=======
    "#35 \n",
>>>>>>> 8086a913e9293b9a0f75a387e841b4f9cd77ad76
    "EN MAYÚSCULA\n",
    "/*\n",
    " * Crea una función que reciba un String de cualquier tipo y se encargue de\n",
    " * poner en mayúscula la primera letra de cada palabra.\n",
    " * - No se pueden utilizar operaciones del lenguaje que\n",
    " *   lo resuelvan directamente.\n",
    " */"
   ]
  },
  {
   "cell_type": "code",
   "execution_count": 1,
   "metadata": {},
   "outputs": [
    {
     "name": "stdout",
     "output_type": "stream",
     "text": [
      "Hola Mundo, Esto Es Una Prueba\n"
     ]
    }
   ],
   "source": [
    "def capitalizar_palabras(cadena: str) -> str:\n",
    "    resultado = \"\"\n",
    "    nueva_palabra = True  # Indica si el próximo carácter debe estar en mayúscula\n",
    "\n",
    "    for caracter in cadena:\n",
    "        if nueva_palabra and caracter.isalpha():\n",
    "            # Si es el inicio de una nueva palabra y el caracter es una letra, la convertimos a mayúscula\n",
    "            resultado += caracter.upper()\n",
    "            nueva_palabra = False\n",
    "        else:\n",
    "            resultado += caracter\n",
    "\n",
    "        # Si encontramos un espacio o un signo de puntuación, la siguiente letra será el inicio de una nueva palabra\n",
    "        if caracter in ' \\t\\n,.!?;:':\n",
    "            nueva_palabra = True\n",
    "\n",
    "    return resultado\n",
    "# Ejemplo de uso\n",
    "cadena = \"hola mundo, esto es una prueba\"\n",
    "print(capitalizar_palabras(cadena))  # Salida: \"Hola Mundo, Esto Es Una Prueba\""
   ]
  },
  {
   "cell_type": "markdown",
   "metadata": {},
   "source": [
<<<<<<< HEAD
    "#35\n",
=======
    "#36\n",
>>>>>>> 8086a913e9293b9a0f75a387e841b4f9cd77ad76
    "LA CARRERA DE OBSTÁCULOS\n",
    "/*\n",
    " * Crea una función que evalúe si un/a atleta ha superado correctamente una\n",
    " * carrera de obstáculos.\n",
    " * - La función recibirá dos parámetros:\n",
    " *      - Un array que sólo puede contener String con las palabras\n",
    " *        \"run\" o \"jump\"\n",
    " *      - Un String que represente la pista y sólo puede contener \"_\" (suelo)\n",
    " *        o \"|\" (valla)\n",
    " * - La función imprimirá cómo ha finalizado la carrera:\n",
    " *      - Si el/a atleta hace \"run\" en \"_\" (suelo) y \"jump\" en \"|\" (valla)\n",
    " *        será correcto y no variará el símbolo de esa parte de la pista.\n",
    " *      - Si hace \"jump\" en \"_\" (suelo), se variará la pista por \"x\".\n",
    " *      - Si hace \"run\" en \"|\" (valla), se variará la pista por \"/\".\n",
    " * - La función retornará un Boolean que indique si ha superado la carrera.\n",
    " * Para ello tiene que realizar la opción correcta en cada tramo de la pista.\n",
    " */"
   ]
  },
  {
   "cell_type": "code",
   "execution_count": 1,
   "metadata": {},
   "outputs": [
    {
     "name": "stdout",
     "output_type": "stream",
     "text": [
      "_|_|_\n",
      "Carrera superada: True\n"
     ]
    }
   ],
   "source": [
    "def evaluar_carrera(comandos, pista):\n",
    "    if len(comandos) != len(pista):\n",
    "        raise ValueError(\"El número de comandos y la longitud de la pista deben ser iguales.\")\n",
    "\n",
    "    pista_modificada = list(pista)\n",
    "    carrera_superada = True\n",
    "\n",
    "    for i in range(len(pista)):\n",
    "        if comandos[i] == \"run\" and pista[i] == \"_\":\n",
    "            # Correcto, correr en suelo\n",
    "            pista_modificada[i] = \"_\"\n",
    "        elif comandos[i] == \"jump\" and pista[i] == \"|\":\n",
    "            # Correcto, saltar la valla\n",
    "            pista_modificada[i] = \"|\"\n",
    "        elif comandos[i] == \"jump\" and pista[i] == \"_\":\n",
    "            # Incorrecto, saltar en suelo\n",
    "            pista_modificada[i] = \"x\"\n",
    "            carrera_superada = False\n",
    "        elif comandos[i] == \"run\" and pista[i] == \"|\":\n",
    "            # Incorrecto, correr en valla\n",
    "            pista_modificada[i] = \"/\"\n",
    "            carrera_superada = False\n",
    "        else:\n",
    "            # Caso inválido (aunque según el problema, esto no debería ocurrir)\n",
    "            raise ValueError(\"Comando o pista inválido.\")\n",
    "\n",
    "    pista_modificada = ''.join(pista_modificada)\n",
    "    print(pista_modificada)\n",
    "    return carrera_superada\n",
    "\n",
    "# Ejemplo de uso:\n",
    "comandos = [\"run\", \"jump\", \"run\", \"jump\", \"run\"]\n",
    "pista = \"_|_|_\"\n",
    "resultado = evaluar_carrera(comandos, pista)\n",
    "print(\"Carrera superada:\", resultado)\n"
   ]
  },
  {
   "cell_type": "markdown",
   "metadata": {},
   "source": [
<<<<<<< HEAD
    "#36\n",
=======
    "#37\n",
>>>>>>> 8086a913e9293b9a0f75a387e841b4f9cd77ad76
    "TRES EN RAYA\n",
    "/*\n",
    " * Crea una función que analice una matriz 3x3 compuesta por \"X\" y \"O\"\n",
    " * y retorne lo siguiente:\n",
    " * - \"X\" si han ganado las \"X\"\n",
    " * - \"O\" si han ganado los \"O\"\n",
    " * - \"Empate\" si ha habido un empate\n",
    " * - \"Nulo\" si la proporción de \"X\", de \"O\", o de la matriz no es correcta.\n",
    " *   O si han ganado los 2.\n",
    " * Nota: La matriz puede no estar totalmente cubierta.\n",
    " * Se podría representar con un vacío \"\", por ejemplo.\n",
    " */"
   ]
  },
  {
   "cell_type": "code",
   "execution_count": 2,
   "metadata": {},
   "outputs": [
    {
     "name": "stdout",
     "output_type": "stream",
     "text": [
      "X\n",
      "O\n",
      "Empate\n",
      "Empate\n",
      "Nulo\n"
     ]
    }
   ],
   "source": [
    "def analizar_tres_en_raya(tablero):\n",
    "    def verificar_ganador(jugador):\n",
    "        # Verificar filas y columnas\n",
    "        for i in range(3):\n",
    "            if all([tablero[i][j] == jugador for j in range(3)]) or all([tablero[j][i] == jugador for j in range(3)]):\n",
    "                return True\n",
    "        # Verificar diagonales\n",
    "        if tablero[0][0] == tablero[1][1] == tablero[2][2] == jugador or tablero[0][2] == tablero[1][1] == tablero[2][0] == jugador:\n",
    "            return True\n",
    "        return False\n",
    "\n",
    "    # Contar X y O\n",
    "    cantidad_x = sum(fila.count(\"X\") for fila in tablero)\n",
    "    cantidad_o = sum(fila.count(\"O\") for fila in tablero)\n",
    "    cantidad_vacios = sum(fila.count(\"\") for fila in tablero)\n",
    "\n",
    "    # Verificar proporción correcta\n",
    "    if abs(cantidad_x - cantidad_o) > 1:\n",
    "        return \"Nulo\"\n",
    "    \n",
    "    # Verificar ganadores\n",
    "    x_gana = verificar_ganador(\"X\")\n",
    "    o_gana = verificar_ganador(\"O\")\n",
    "\n",
    "    if x_gana and o_gana:\n",
    "        return \"Nulo\"\n",
    "    elif x_gana:\n",
    "        return \"X\"\n",
    "    elif o_gana:\n",
    "        return \"O\"\n",
    "    elif cantidad_vacios > 0:\n",
    "        return \"Empate\"\n",
    "    else:\n",
    "        return \"Empate\"\n",
    "\n",
    "# Ejemplos de uso\n",
    "tablero1 = [\n",
    "    [\"X\", \"O\", \"X\"],\n",
    "    [\"O\", \"X\", \"O\"],\n",
    "    [\"\", \"O\", \"X\"]\n",
    "]\n",
    "print(analizar_tres_en_raya(tablero1))  # Debería retornar \"X\"\n",
    "\n",
    "tablero2 = [\n",
    "    [\"X\", \"O\", \"X\"],\n",
    "    [\"O\", \"O\", \"O\"],\n",
    "    [\"\", \"X\", \"X\"]\n",
    "]\n",
    "print(analizar_tres_en_raya(tablero2))  # Debería retornar \"O\"\n",
    "\n",
    "tablero3 = [\n",
    "    [\"X\", \"O\", \"X\"],\n",
    "    [\"O\", \"X\", \"O\"],\n",
    "    [\"O\", \"X\", \"O\"]\n",
    "]\n",
    "print(analizar_tres_en_raya(tablero3))  # Debería retornar \"Empate\"\n",
    "\n",
    "tablero4 = [\n",
    "    [\"X\", \"O\", \"X\"],\n",
    "    [\"O\", \"X\", \"\"],\n",
    "    [\"\", \"\", \"O\"]\n",
    "]\n",
    "print(analizar_tres_en_raya(tablero4))  # Debería retornar \"Empate\"\n",
    "\n",
    "tablero5 = [\n",
    "    [\"X\", \"X\", \"X\"],\n",
    "    [\"O\", \"O\", \"O\"],\n",
    "    [\"\", \"\", \"\"]\n",
    "]\n",
    "print(analizar_tres_en_raya(tablero5))  # Debería retornar \"Nulo\"\n"
   ]
  },
  {
   "cell_type": "markdown",
   "metadata": {},
   "source": [
<<<<<<< HEAD
    "#37\n",
=======
    "#38\n",
>>>>>>> 8086a913e9293b9a0f75a387e841b4f9cd77ad76
    "Manipulación de Cadenas\n",
    "Ejercicio: Escribe una función que invierta una cadena y convierta todas las letras a mayúsculas.\n",
    "Ejercicio: Escribe una función que cuente la cantidad de palabras en una cadena."
   ]
  },
  {
   "cell_type": "code",
   "execution_count": 10,
   "metadata": {},
   "outputs": [
    {
     "name": "stdout",
     "output_type": "stream",
     "text": [
      "Hola Mundo! = !ODNUM ALOH\n",
      "12\n"
     ]
    }
   ],
   "source": [
    "#Ejercicio: Escribe una función que invierta una cadena y convierta todas las letras a mayúsculas.\n",
    "def invertir_cadena(cadena):\n",
    "    cadenaInvertida = cadena[::-1]\n",
    "    cadenaInvertida = cadenaInvertida.upper()\n",
    "    return cadenaInvertida\n",
    "#EJEMPLO DE USO.\n",
    "cadena = \"Hola Mundo!\" \n",
    "resultado = invertir_cadena(cadena)\n",
    "print(cadena,'=',resultado)\n",
    "\n",
    "#Ejercicio: Escribe una función que cuente la cantidad de palabras en una cadena.\n",
    "def contar_palabras(cadena):\n",
    "    # Dividir la cadena en palabras usando el espacio como separador\n",
    "    palabras = cadena.split()\n",
    "    # Contar la cantidad de palabras\n",
    "    cantidad_palabras = len(palabras)\n",
    "    return cantidad_palabras\n",
    "#EJEMPLO DE USO.\n",
    "cadena_ejemplo = \"Esta es una cadena de ejemplo para contar la cantidad de palabras.\"\n",
    "# Aplicar la función a la cadena de ejemplo\n",
    "resultado = contar_palabras(cadena_ejemplo)\n",
    "print(resultado)  # Salida esperada: 11"
   ]
  },
  {
   "cell_type": "markdown",
   "metadata": {},
   "source": [
<<<<<<< HEAD
    "#38\n",
=======
    "#39\n",
>>>>>>> 8086a913e9293b9a0f75a387e841b4f9cd77ad76
    "Estructuras de Datos\n",
    "Ejercicio: Implementa una pila (stack) utilizando una lista. La pila debe soportar operaciones de push, pop y peek.\n",
    "Ejercicio: Implementa una cola (queue) utilizando una lista. La cola debe soportar operaciones de enqueue, dequeue y peek."
   ]
  },
  {
   "cell_type": "code",
   "execution_count": 8,
   "metadata": {},
   "outputs": [
    {
     "name": "stdout",
     "output_type": "stream",
     "text": [
      "Elemento en el tope de la pila: 3\n",
      "Elemento eliminado del tope de la pila: 3\n",
      "Nuevo elemento en el tope de la pila: 2\n",
      "¿La pila está vacía? False\n",
      "Elemento al frente de la cola: 1\n",
      "Elemento eliminado del frente de la cola: 1\n",
      "Nuevo elemento al frente de la cola: 2\n",
      "¿La cola está vacía? False\n",
      "Elemento eliminado del frente de la cola: 2\n",
      "Elemento eliminado del frente de la cola: 3\n",
      "¿La cola está vacía? True\n"
     ]
    }
   ],
   "source": [
    "#Ejercicio: Implementa una pila (stack) utilizando una lista. La pila debe soportar operaciones de push, pop y peek.\n",
    "class Pila:\n",
    "    def __init__(self):\n",
    "        self.items = []\n",
    "    #Realizamos la función de push.\n",
    "    def push(self, elemento):\n",
    "        self.items.append(elemento)\n",
    "    #Realizamos la función de pop.\n",
    "    def pop(self):\n",
    "        if not self.esta_vacia():\n",
    "            return self.items.pop()\n",
    "    #Realizamos la función de peek.\n",
    "    def peek(self):\n",
    "        if not self.esta_vacia():\n",
    "            return self.items[-1]\n",
    "    #Realizamos la función para la loista en caso de que este vacía.\n",
    "    def esta_vacia(self):\n",
    "        return len(self.items) == 0\n",
    "#EJEMPLO DE USO.\n",
    "mi_pila = Pila()\n",
    "# Agregar elementos a la pila\n",
    "mi_pila.push(1)\n",
    "mi_pila.push(2)\n",
    "mi_pila.push(3)\n",
    "# Ver el elemento del tope de la pila sin eliminarlo\n",
    "print(\"Elemento en el tope de la pila:\", mi_pila.peek())  # Salida esperada: 3\n",
    "# Eliminar y devolver el elemento del tope de la pila\n",
    "print(\"Elemento eliminado del tope de la pila:\", mi_pila.pop())  # Salida esperada: 3\n",
    "# Ver el nuevo elemento del tope de la pila\n",
    "print(\"Nuevo elemento en el tope de la pila:\", mi_pila.peek())  # Salida esperada: 2\n",
    "# Verificar si la pila está vacía\n",
    "print(\"¿La pila está vacía?\", mi_pila.esta_vacia())  # Salida esperada: False\n",
    "\n",
    "#Ejercicio: Implementa una cola (queue) utilizando una lista. La cola debe soportar operaciones de enqueue, dequeue y peek.\n",
    "class Cola:\n",
    "    def __init__(self):\n",
    "        self.elementos = []\n",
    "    #Realizamos la función de enqueue.\n",
    "    def enqueue(self,elemento2):\n",
    "        self.elementos.append(elemento2)\n",
    "    #Realizamos la función de dequeue.\n",
    "    def dequeue(self):\n",
    "        if not self.is_empty():\n",
    "            return self.elementos.pop(0)\n",
    "\n",
    "    # Realizamos la función de peek.\n",
    "    def peek(self):\n",
    "        if not self.is_empty():\n",
    "            return self.elementos[0]\n",
    "\n",
    "    # Realizamos la función para verificar si la cola está vacía.\n",
    "    def is_empty(self):\n",
    "        return len(self.elementos) == 0\n",
    "# EJEMPLO DE USO.\n",
    "# Crear una nueva cola\n",
    "mi_cola = Cola()\n",
    "# Agregar elementos a la cola\n",
    "mi_cola.enqueue(1)\n",
    "mi_cola.enqueue(2)\n",
    "mi_cola.enqueue(3)\n",
    "# Ver el elemento al frente de la cola sin eliminarlo\n",
    "print(\"Elemento al frente de la cola:\", mi_cola.peek())  # Salida esperada: \n",
    "# Eliminar y devolver el elemento al frente de la cola\n",
    "print(\"Elemento eliminado del frente de la cola:\", mi_cola.dequeue())  # Salida esperada: 1\n",
    "# Ver el nuevo elemento al frente de la cola\n",
    "print(\"Nuevo elemento al frente de la cola:\", mi_cola.peek())  # Salida esperada: 2\n",
    "# Verificar si la cola está vacía\n",
    "print(\"¿La cola está vacía?\", mi_cola.is_empty())  # Salida esperada: False\n",
    "# Eliminar y devolver todos los elementos restantes\n",
    "print(\"Elemento eliminado del frente de la cola:\", mi_cola.dequeue())  # Salida esperada: 2\n",
    "print(\"Elemento eliminado del frente de la cola:\", mi_cola.dequeue())  # Salida esperada: 3\n",
    "# Verificar si la cola está vacía después de eliminar todos los elementos\n",
    "print(\"¿La cola está vacía?\", mi_cola.is_empty())  # Salida esperada: True"
   ]
  },
  {
   "cell_type": "markdown",
   "metadata": {},
   "source": [
<<<<<<< HEAD
    "#39\n",
=======
    "#40\n",
>>>>>>> 8086a913e9293b9a0f75a387e841b4f9cd77ad76
    "Algoritmos\n",
    "Ejercicio: Escribe una función que determine si una cadena es un palíndromo.\n",
    "Ejercicio: Implementa el algoritmo de ordenación rápida (quicksort).\n",
    "Ejercicio: Escribe una función que resuelva el problema de la mochila (knapsack problem) usando programación dinámica."
   ]
  },
  {
   "cell_type": "code",
   "execution_count": 16,
   "metadata": {},
   "outputs": [
    {
     "name": "stdout",
     "output_type": "stream",
     "text": [
      "True\n",
      "Lista ordenada: [1, 5, 7, 8, 9, 10]\n"
     ]
    }
   ],
   "source": [
    "#Ejercicio: Escribe una función que determine si una cadena es un palíndromo.\n",
    "def palindromo(cadenaAcomprobar):\n",
    "    cadenaAcomprobar = cadenaAcomprobar.lower().replace(\" \", \"\")\n",
    "    if cadenaAcomprobar == cadenaAcomprobar[::-1]:\n",
    "        return True\n",
    "    else:\n",
    "        return False\n",
    "#EJEMPLO DE USO.\n",
    "cadenaAcomprobar = 'A man a plan a canal Panama'\n",
    "resultado = palindromo(cadenaAcomprobar)\n",
    "print(resultado)\n",
    "\n",
    "#Ejercicio: Implementa el algoritmo de ordenación rápida (quicksort).\n",
    "def quicksort(arr):\n",
    "    # Caso base: si la longitud del arreglo es 0 o 1, el arreglo ya está ordenado\n",
    "    if len(arr) <= 1:\n",
    "        return arr\n",
    "    else:\n",
    "        # Seleccionar un pivote (en este caso, el primer elemento del arreglo)\n",
    "        pivote = arr[0]\n",
    "        # Separar los elementos menores que el pivote y los mayores que el pivote en dos listas\n",
    "        menores = []\n",
    "        mayores = []\n",
    "    for x in arr[1:]:\n",
    "        if x <= pivote:\n",
    "            menores.append(x)\n",
    "        else:\n",
    "            mayores.append(x)\n",
    "    # Aplicar recursivamente Quicksort a las listas de elementos menores y mayores\n",
    "    return quicksort(menores) + [pivote] + quicksort(mayores)\n",
    "#EJEMPLO DE USO.\n",
    "lista_desordenada = [10, 7, 8, 9, 1, 5]\n",
    "# Llamar a la función quicksort para ordenar la lista desordenada\n",
    "lista_ordenada = quicksort(lista_desordenada)\n",
    "# Imprimir la lista ordenada\n",
    "print(\"Lista ordenada:\", lista_ordenada)\n",
    "\n",
    "#Ejercicio: Escribe una función que resuelva el problema de la mochila (knapsack problem) usando programación dinámica.\n",
    "def mochila(peso_maximo, pesos, valores, n):\n",
    "    # Creamos una matriz para almacenar los resultados intermedios de la programación dinámica\n",
    "    # Inicializamos la matriz con ceros\n",
    "    dp = [[0 for _ in range(peso_maximo + 1)] for _ in range(n + 1)]\n",
    "    # Llenamos la matriz utilizando la programación dinámica\n",
    "    for i in range(n + 1):\n",
    "        for j in range(peso_maximo + 1):\n",
    "            # Si no hay elementos o el peso máximo es 0, el valor es 0\n",
    "            if i == 0 or j == 0:\n",
    "                dp[i][j] = 0\n",
    "            # Si el peso del objeto actual es menor o igual al peso máximo actual,\n",
    "            # consideramos si incluir o no el objeto actual en la mochila\n",
    "            elif pesos[i - 1] <= j:\n",
    "                dp[i][j] = max(valores[i - 1] + dp[i - 1][j - pesos[i - 1]], dp[i - 1][j])\n",
    "            # Si el peso del objeto actual es mayor que el peso máximo actual,\n",
    "            # no podemos incluirlo en la mochila\n",
    "            else:\n",
    "                dp[i][j] = dp[i - 1][j]\n",
    "    # El valor máximo que se puede obtener estará en dp[n][peso_maximo]\n",
    "    return dp[n][peso_maximo]\n",
    "#EJEMPLO DE USO.\n",
    "peso_maximo = 10\n",
    "pesos = [5, 4, 6, 3]\n",
    "valores = [10, 8, 12, 6]\n",
    "n = len(pesos)\n",
    "# Llamamos a la función mochila para obtener el valor máximo que se puede obtener\n",
    "# con el peso máximo de la mochila y la lista de objetos disponibles\n",
    "resultado = mochila(peso_maximo, pesos, valores, n)\n",
    "print(\"El valor máximo que se puede obtener es:\", resultado)\n"
   ]
  },
  {
   "cell_type": "markdown",
   "metadata": {},
   "source": [
<<<<<<< HEAD
    "#40\n",
=======
    "#41\n",
>>>>>>> 8086a913e9293b9a0f75a387e841b4f9cd77ad76
    "Programación Orientada a Objetos\n",
    "Ejercicio: Crea una clase Persona con atributos nombre y edad, y un método que imprima una presentación. Luego, crea una subclase Estudiante que herede de Persona y añade un atributo grado y un método para imprimir el grado."
   ]
  },
  {
   "cell_type": "code",
   "execution_count": 5,
   "metadata": {},
   "outputs": [
    {
     "name": "stdout",
     "output_type": "stream",
     "text": [
      "Buenas soy Carlos, y tengo 40 años.\n",
      "Buenas soy Ana, y tengo 20 años.\n",
      "Estoy cursando el grado Segundo.\n"
     ]
    }
   ],
   "source": [
    "class Persona: #Clase primaria.\n",
    "    def __init__(self, nombre, edad):\n",
    "        self.nombre = nombre\n",
    "        self.edad = edad\n",
    "    def imprimir_presentacion(self): #Función para imprimir la presentación de la persona\n",
    "        print(f'Buenas soy {self.nombre}, y tengo {self.edad} años.')\n",
    "\n",
    "class Estudiante(Persona): #Subclase de la clase persona.\n",
    "    def __init__(self, nombre, edad, grado):\n",
    "        super().__init__(nombre, edad)\n",
    "        self.grado = grado\n",
    "    def imprimir_grado(self): #Función para imprimir el grado que esta cursando el estudiante.\n",
    "         print(f'Estoy cursando el grado {self.grado}.')\n",
    "#EJEMPLO DE USO.\n",
    "#clase Persona\n",
    "persona1 = Persona(\"Carlos\", 40)\n",
    "persona1.imprimir_presentacion()\n",
    "#clase Estudiante\n",
    "estudiante1 = Estudiante(\"Ana\", 20, \"Segundo\")\n",
    "estudiante1.imprimir_presentacion()\n",
    "estudiante1.imprimir_grado()"
   ]
  },
  {
   "cell_type": "markdown",
   "metadata": {},
   "source": [
<<<<<<< HEAD
    "#41\n",
=======
    "#42\n",
>>>>>>> 8086a913e9293b9a0f75a387e841b4f9cd77ad76
    "Crea una clase Vector en 2D con métodos para sumar, restar y calcular el producto escalar con otro vector."
   ]
  },
  {
   "cell_type": "code",
   "execution_count": 8,
   "metadata": {},
   "outputs": [
    {
     "name": "stdout",
     "output_type": "stream",
     "text": [
      "v1: <__main__.Vector object at 0x000002006C838A40>\n",
      "v2: <__main__.Vector object at 0x000002006C83B740>\n",
      "Suma de v1 y v2: <__main__.Vector object at 0x000002006CBC97F0>\n",
      "Resta de v1 y v2: <__main__.Vector object at 0x000002006CBCA750>\n",
      "Producto escalar de v1 y v2: <__main__.Vector object at 0x000002006C8381A0>\n"
     ]
    }
   ],
   "source": [
    "class Vector:\n",
    "    def __init__(self, x , y):\n",
    "        self.x = x\n",
    "        self.y = y\n",
    "    def sumar(self, otro):\n",
    "        if not isinstance(otro, Vector):\n",
    "            raise TypeError(\"El objeto debe ser una instancia de Vector.\")\n",
    "        return Vector(self.x + otro.x, self.y + otro.y)\n",
    "    def restar(self, otro):\n",
    "        if not isinstance(otro, Vector):\n",
    "            raise TypeError(\"El objeto debe ser una instancia de Vector.\")\n",
    "        return Vector(self.x - otro.x, self.y - otro.y)\n",
    "    def producto_escalar(self, otro):\n",
    "        if not isinstance(otro, Vector):\n",
    "            raise TypeError(\"El objeto debe ser una instancia de Vector.\")\n",
    "        return Vector(self.x * otro.x, self.y * otro.y)\n",
    "#EJEMPLO DE USO.\n",
    "# Crear vectores\n",
    "v1 = Vector(3, 4)\n",
    "v2 = Vector(1, 2)\n",
    "# Imprimir los vectores\n",
    "print(f\"v1: {v1}\")\n",
    "print(f\"v2: {v2}\")\n",
    "# Sumar v1 y v2\n",
    "resultado_suma = v1.sumar(v2)\n",
    "print(f\"Suma de v1 y v2: {resultado_suma}\")\n",
    "# Restar v2 de v1\n",
    "resultado_resta = v1.restar(v2)\n",
    "print(f\"Resta de v1 y v2: {resultado_resta}\")\n",
    "# Producto escalar de v1 y v2\n",
    "resultado_producto_escalar = v1.producto_escalar(v2)\n",
    "print(f\"Producto escalar de v1 y v2: {resultado_producto_escalar}\")"
   ]
  },
  {
   "cell_type": "markdown",
   "metadata": {},
   "source": [
<<<<<<< HEAD
    "#42\n",
=======
    "#43\n",
>>>>>>> 8086a913e9293b9a0f75a387e841b4f9cd77ad76
    "Implementación de un Algoritmo de Ordenamiento\n",
    "Escribe una implementación en Python de un algoritmo de ordenamiento, como Quicksort o Mergesort. Asegúrate de entender cómo funciona el algoritmo elegido y luego escribe tu propia implementación en Python. Puedes probar tu algoritmo con diferentes conjuntos de datos para verificar su correcto funcionamiento."
   ]
  },
  {
   "cell_type": "code",
   "execution_count": 18,
   "metadata": {},
   "outputs": [
    {
     "name": "stdout",
     "output_type": "stream",
     "text": [
      "Lista original: [3, 6, 8, 10, 1, 2, 1]\n",
      "Lista ordenada: [1, 1, 1, 2, 3, 6, 8, 10]\n",
      "Lista original: [3, 6, 8, 10, 1, 2, 1]\n",
      "Lista ordenada: [1, 1, 2, 3, 6, 8, 10]\n"
     ]
    }
   ],
   "source": [
    "def quickshort(lista):\n",
    "    if len(lista) <=1:\n",
    "        return lista\n",
    "    else:\n",
    "        pivote = lista[0]\n",
    "        menores = [x for x in lista[1:] if x <= pivote]\n",
    "        mayores = [x for x in lista[1:] if x >= pivote]\n",
    "        return quickshort(menores) + [pivote] + quickshort(mayores)\n",
    "#EJEMPLO DE USO.\n",
    "datos = [3, 6, 8, 10, 1, 2, 1]\n",
    "print(\"Lista original:\", datos)\n",
    "print(\"Lista ordenada:\", quickshort(datos))\n",
    "\n",
    "def bubble_sort(lista):\n",
    "    n = len(lista)  # Obtener la longitud de la lista\n",
    "    for i in range(n - 1):  # Iterar sobre los elementos de la lista (excepto el último)\n",
    "        for j in range(0, n - i - 1):  # Iterar sobre los elementos no ordenados\n",
    "            if lista[j] > lista[j + 1]:  # Si el elemento actual es mayor que el siguiente\n",
    "                lista[j], lista[j + 1] = lista[j + 1], lista[j]  # Intercambiar los elementos\n",
    "    return lista  # Devolver la lista ordenada\n",
    "#EJEMPLO DE USO.\n",
    "datos = [3, 6, 8, 10, 1, 2, 1]\n",
    "print(\"Lista original:\", datos)\n",
    "print(\"Lista ordenada:\", bubble_sort(datos))\n"
   ]
  },
  {
   "cell_type": "markdown",
   "metadata": {},
   "source": [
<<<<<<< HEAD
    "#43\n",
=======
    "#44\n",
>>>>>>> 8086a913e9293b9a0f75a387e841b4f9cd77ad76
    "CONVERSOR TIEMPO\n",
    "/*\n",
    " * Crea una función que reciba días, horas, minutos y segundos (como enteros)\n",
    " * y retorne su resultado en milisegundos.\n",
    " */"
   ]
  },
  {
   "cell_type": "code",
   "execution_count": 21,
   "metadata": {},
   "outputs": [
    {
     "name": "stdout",
     "output_type": "stream",
     "text": [
      "1 días, 2 horas, 30 minutos y 45 segundos son 95445000 milisegundos.\n"
     ]
    }
   ],
   "source": [
    "def conversor_tiempo(dias, horas, minutos, segundos):\n",
    "    milisegundos = ((dias * 60 * 60 * 24 * 1000) + (horas * 60 * 60 * 1000) + (minutos * 60 * 1000) + (segundos * 1000))\n",
    "    return milisegundos\n",
    "#EJEMPLO DE USO.\n",
    "dias = 1\n",
    "horas = 2\n",
    "minutos = 30\n",
    "segundos = 45\n",
    "# Llamamos a la función con los valores proporcionados\n",
    "resultado = conversor_tiempo(dias, horas, minutos, segundos)\n",
    "# Imprimimos el resultado\n",
    "print(f\"{dias} días, {horas} horas, {minutos} minutos y {segundos} segundos son {resultado} milisegundos.\")"
   ]
  },
  {
   "cell_type": "markdown",
   "metadata": {},
   "source": [
<<<<<<< HEAD
    "#44\n",
=======
    "#45\n",
>>>>>>> 8086a913e9293b9a0f75a387e841b4f9cd77ad76
    "Manipulación de Archivos\n",
    "Ejercicio: Escribe un programa que lea un archivo de texto y cuente la frecuencia de cada palabra."
   ]
  },
  {
   "cell_type": "code",
   "execution_count": null,
   "metadata": {},
   "outputs": [],
   "source": [
    "#Importo el módulo string.\n",
    "import string\n",
    "def contar_frecuencia(archivo):\n",
    "   #Abrir el archivo y dar permisos de lectura.\n",
    "   with open('r', archivo) as file:\n",
    "      #leer el contenido del archivo\n",
    "      texto = file.read()\n",
    "   #Para poder contar cada palabra antes debo de poner todo en minúsculas y quitar los signos de puntuación.\n",
    "   texto = texto.lower()\n",
    "   texto = str.translate(str.maketrans('','',string.puntuation))\n",
    "   #Divido el texto en palabras.\n",
    "   palabras = texto.split()\n",
    "   #Cuento la frecuencia de palabras en el texto.\n",
    "   frecuencia_palabras = {}\n",
    "   for palabra in palabras:\n",
    "      if palabra in palabras:\n",
    "         frecuencia_palabras += 1\n",
    "      else:\n",
    "         frecuencia_palabras = 1\n",
    "    # Mostrar los resultados\n",
    "   for palabra, frecuencia in frecuencia_palabras.items():\n",
    "        print(f'{palabra}: {frecuencia}')\n",
    "# Nombre del archivo de texto (debes cambiarlo por el nombre de tu archivo)\n",
    "archivo = 'archivo_de_texto.txt'\n",
    "# Llamar a la función\n",
    "contar_frecuencia(archivo)"
   ]
  },
  {
   "cell_type": "markdown",
   "metadata": {},
   "source": [
<<<<<<< HEAD
    "#45\n",
=======
    "#47\n",
>>>>>>> 8086a913e9293b9a0f75a387e841b4f9cd77ad76
    "Ejercicio: Escribe un programa que lea un archivo CSV y lo convierta en una lista de diccionarios."
   ]
  },
  {
   "cell_type": "code",
   "execution_count": null,
   "metadata": {},
   "outputs": [],
   "source": [
    "import csv\n",
    "def csv_a_lista_de_diccionarios(archivo_csv):\n",
    "    lista_de_diccionarios = []\n",
    "    with open(archivo_csv, mode='r', encoding='utf-8') as archivo:\n",
    "        lector_csv = csv.DictReader(archivo)\n",
    "        for fila in lector_csv:\n",
    "            lista_de_diccionarios.append(fila)\n",
    "    return lista_de_diccionarios\n",
    "\n",
    "# Nombre del archivo CSV (debes cambiarlo por el nombre de tu archivo)\n",
    "archivo_csv = 'archivo.csv'\n",
    "# Llamar a la función y guardar el resultado en una variable\n",
    "lista_de_diccionarios = csv_a_lista_de_diccionarios(archivo_csv)\n",
    "# Imprimir la lista de diccionarios\n",
    "for diccionario in lista_de_diccionarios:\n",
    "    print(diccionario)"
   ]
  },
  {
   "cell_type": "markdown",
   "metadata": {},
   "source": [
<<<<<<< HEAD
    "#46\n",
=======
    "#47\n",
>>>>>>> 8086a913e9293b9a0f75a387e841b4f9cd77ad76
    "Decoradores y Generadores\n",
    "Ejercicio: Escribe un decorador que registre el tiempo de ejecución de una función.\n",
    "Ejercicio: Implementa un generador que devuelva los números de la secuencia de Fibonacci."
   ]
  },
  {
   "cell_type": "code",
   "execution_count": 3,
   "metadata": {},
   "outputs": [
    {
     "name": "stdout",
     "output_type": "stream",
     "text": [
      "Función ejecutada\n",
      "Tiempo de ejecución de ejemplo: 2.0011 segundos\n"
     ]
    }
   ],
   "source": [
    "#Ejercicio: Escribe un decorador que registre el tiempo de ejecución de una función.\n",
    "import time\n",
    "def tiempo_ejecucion(func):\n",
    "    def wrapper(*args, **kwargs):\n",
    "        # Registro del tiempo inicial\n",
    "        inicio = time.time()\n",
    "        resultado = func(*args, **kwargs)\n",
    "        # Registro del tiempo final\n",
    "        fin = time.time()\n",
    "        # Calculo del tiempo de ejecución\n",
    "        duracion = fin - inicio\n",
    "        print(f\"Tiempo de ejecución de {func.__name__}: {duracion:.4f} segundos\")\n",
    "        return resultado\n",
    "    return wrapper\n",
    "@tiempo_ejecucion\n",
    "def ejemplo():\n",
    "    # Simula alguna tarea que toma tiempo\n",
    "    time.sleep(2)\n",
    "    print(\"Función ejecutada\")\n",
    "# Llama a la función decorada\n",
    "ejemplo()\n",
    "\n",
    "#Ejercicio: Implementa un generador que devuelva los números de la secuencia de Fibonacci.\n",
    "def decorador_generador_fibonacci(funcion):\n",
    "    def wrapper():\n",
    "        generador = funcion()\n",
    "        while True:\n",
    "            yield next(generador)\n",
    "    return wrapper\n",
    "@decorador_generador_fibonacci\n",
    "def generador_fibonacci():\n",
    "    a, b = 0, 1\n",
    "    while True:\n",
    "        yield a\n",
    "        a, b = b, a + b\n",
    "# Ejemplo de uso\n",
    "fibonacci = generador_fibonacci()\n",
    "for _ in range(10):\n",
    "    print(next(fibonacci))"
   ]
  },
  {
   "cell_type": "markdown",
   "metadata": {},
   "source": [
<<<<<<< HEAD
    "#47\n",
=======
    "#48\n",
>>>>>>> 8086a913e9293b9a0f75a387e841b4f9cd77ad76
    "Concurrencia y Paralelismo\n",
    "Ejercicio: Usa threading para crear un programa que calcule el factorial de un número en un hilo separado."
   ]
  },
  {
   "cell_type": "code",
   "execution_count": null,
   "metadata": {},
   "outputs": [],
   "source": [
    "#Ejercicio: Usa threading para crear un programa que calcule el factorial de un número en un hilo separado.\n",
    "import threading\n",
    "import time\n",
    "def factorial(numero):\n",
    "    # Inicializamos el resultado del factorial como 1\n",
    "    resultado = 1\n",
    "    # Calculamos el factorial del número\n",
    "    for i in range(1, numero + 1):\n",
    "        resultado *= i\n",
    "    # Imprimimos el resultado del factorial\n",
    "    print(f\"El factorial de {numero} es {resultado}\")\n",
    "def calcular_factorial_en_hilo(numero):\n",
    "    # Creamos un hilo para calcular el factorial\n",
    "    hilo = threading.Thread(target=factorial, args=(numero,))\n",
    "    # Iniciamos el hilo\n",
    "    hilo.start()\n",
    "    # Esperamos a que el hilo termine su ejecución\n",
    "    hilo.join()\n",
    "    print(\"El cálculo del factorial ha terminado\")\n",
    "    \n",
    "if __name__ == \"__main__\":\n",
    "    # Solicitamos al usuario que ingrese un número para calcular su factorial\n",
    "    numero = int(input(\"Ingrese un número para calcular su factorial: \"))\n",
    "    # Llamamos a la función para calcular el factorial en un hilo separado\n",
    "    calcular_factorial_en_hilo(numero)\n",
    "    # Mensaje final\n",
    "    print(\"Programa principal terminado\")\n"
   ]
  },
  {
   "cell_type": "markdown",
   "metadata": {},
   "source": [
<<<<<<< HEAD
    "#48\n",
    "Ejercicio: Usa numpy para crear un array de números aleatorios y calcular la media, la mediana y la desviación estándar."
=======
    "#49 Ejercicio: Usa numpy para crear un array de números aleatorios y calcular la media, la mediana y la desviación estándar."
>>>>>>> 8086a913e9293b9a0f75a387e841b4f9cd77ad76
   ]
  },
  {
   "cell_type": "code",
   "execution_count": 7,
   "metadata": {},
   "outputs": [
    {
     "name": "stdout",
     "output_type": "stream",
     "text": [
      "Media: 49.28222143973463\n",
      "Mediana: 46.45177352327512\n",
      "Desviación estándar: 29.845174255764896\n"
     ]
    }
   ],
   "source": [
    "import numpy as np\n",
    "#Creamos el array de números aleatorios\n",
    "array_aleatorio = 100 * np.random.rand(100)\n",
    "#Función para calcular la media del array.\n",
    "def calcular_media(array_aleatorio):\n",
    "    media = np.mean(array_aleatorio)\n",
    "    return media\n",
    "#Función para calcular la mediana del array.\n",
    "def calcular_mediana(array_aleatorio):\n",
    "    mediana = np.median(array_aleatorio)\n",
    "    return mediana\n",
    "#Función para calcular la desviación estándar.\n",
    "def calcular_desviacionEstandar(array_aleatorio):\n",
    "    desviacionEstandar = np.std(array_aleatorio)\n",
    "    return desviacionEstandar\n",
    "# Imprimimos los resultados llamando a las funciones\n",
    "print(\"Media:\", calcular_media(array_aleatorio))\n",
    "print(\"Mediana:\", calcular_mediana(array_aleatorio))\n",
    "print(\"Desviación estándar:\", calcular_desviacionEstandar(array_aleatorio))"
   ]
  },
  {
   "cell_type": "markdown",
   "metadata": {},
   "source": [
<<<<<<< HEAD
    "#49\n",
    "Inversión de una cadena: Escribe un programa que pida al usuario una cadena de texto y la muestre invertida."
   ]
  },
  {
   "cell_type": "code",
   "execution_count": 2,
   "metadata": {},
   "outputs": [
    {
     "name": "stdout",
     "output_type": "stream",
     "text": [
      "La cadena invertida es: aloh\n"
     ]
    }
   ],
   "source": [
    "cadena = input(\"Porfavor Introduzca una cadena de texto: \")\n",
    "cadena_inversa = cadena[::-1] \n",
    "print(f\"La cadena invertida es: {cadena_inversa}\")"
   ]
  },
  {
   "cell_type": "markdown",
   "metadata": {},
   "source": [
    "#50\n",
=======
>>>>>>> 8086a913e9293b9a0f75a387e841b4f9cd77ad76
    "Contador de palabras: Desarrolla un programa que pida al usuario introducir un texto y luego muestre cuántas veces aparece cada palabra en el texto."
   ]
  },
  {
   "cell_type": "code",
<<<<<<< HEAD
   "execution_count": 3,
   "metadata": {},
   "outputs": [
    {
     "name": "stdout",
     "output_type": "stream",
     "text": [
      "hola: 1\n",
      "a: 1\n",
      "todos: 1\n",
      "que: 1\n",
      "tal: 1\n",
      "estaus,: 1\n",
      "soydaniel: 1\n"
     ]
    }
   ],
   "source": [
    "# Solicitar al usuario que introduzca un texto\n",
    "texto = input(\"Introduce un texto: \")\n",
    "\n",
    "# Separar el texto en palabras\n",
    "palabras = texto.split()\n",
    "\n",
    "# Crear un diccionario para contar las palabras\n",
    "contador_palabras = {}\n",
    "\n",
    "# Contar cuántas veces aparece cada palabra\n",
    "for palabra in palabras:\n",
    "    if palabra in contador_palabras:\n",
    "        contador_palabras[palabra] += 1\n",
    "    else:\n",
    "        contador_palabras[palabra] = 1\n",
    "\n",
    "# Mostrar el conteo de cada palabra\n",
    "for palabra, conteo in contador_palabras.items():\n",
    "    print(f\"{palabra}: {conteo}\")\n"
   ]
=======
   "execution_count": null,
   "metadata": {},
   "outputs": [],
   "source": []
>>>>>>> 8086a913e9293b9a0f75a387e841b4f9cd77ad76
  },
  {
   "cell_type": "markdown",
   "metadata": {},
   "source": [
<<<<<<< HEAD
    "#51\n",
    "Desarrollo Web\n",
=======
    "Calculadora de factorial: Crea un programa que le pida al usuario un número entero y calcule el factorial de ese número."
   ]
  },
  {
   "cell_type": "code",
   "execution_count": null,
   "metadata": {},
   "outputs": [],
   "source": []
  },
  {
   "cell_type": "markdown",
   "metadata": {},
   "source": [
    "Ejercicio: Utiliza la librería requests para hacer una petición a una API pública y mostrar los resultados."
   ]
  },
  {
   "cell_type": "code",
   "execution_count": null,
   "metadata": {},
   "outputs": [],
   "source": []
  },
  {
   "cell_type": "markdown",
   "metadata": {},
   "source": [
    "7. Desarrollo Web\n",
>>>>>>> 8086a913e9293b9a0f75a387e841b4f9cd77ad76
    "Ejercicio: Crea una pequeña API REST usando Flask que permita realizar operaciones CRUD (Create, Read, Update, Delete) sobre una lista de tareas (To-Do list)."
   ]
  },
  {
   "cell_type": "code",
   "execution_count": null,
   "metadata": {},
   "outputs": [],
   "source": []
  },
  {
   "cell_type": "markdown",
   "metadata": {},
   "source": [
<<<<<<< HEAD
    "#52\n",
=======
>>>>>>> 8086a913e9293b9a0f75a387e841b4f9cd77ad76
    "Manejo de Archivos\n",
    "Ejercicio 1: Análisis de Log de Servidor\n",
    "Objetivo: Crear un script que analice un archivo de log de servidor y genere un reporte.\n",
    "\n",
    "Requisitos:\n",
    "\n",
    "Leer un archivo de log en formato texto.\n",
    "Contar la cantidad de errores y advertencias.\n",
    "Listar las direcciones IP más frecuentes que realizaron peticiones"
   ]
  },
  {
   "cell_type": "code",
   "execution_count": null,
   "metadata": {},
   "outputs": [],
   "source": []
  },
  {
   "cell_type": "markdown",
   "metadata": {},
   "source": [
<<<<<<< HEAD
    "#53\n",
=======
>>>>>>> 8086a913e9293b9a0f75a387e841b4f9cd77ad76
    "Conversión de Archivos CSV a JSON\n",
    "Objetivo: Convertir un archivo CSV en un archivo JSON.\n",
    "\n",
    "Requisitos:\n",
    "\n",
    "Leer un archivo CSV.\n",
    "Convertir cada fila del CSV a un diccionario.\n",
    "Guardar los diccionarios en un archivo JSON."
   ]
  },
  {
   "cell_type": "code",
   "execution_count": null,
   "metadata": {},
   "outputs": [],
   "source": []
  },
  {
   "cell_type": "markdown",
   "metadata": {},
   "source": [
<<<<<<< HEAD
    "#54\n",
=======
>>>>>>> 8086a913e9293b9a0f75a387e841b4f9cd77ad76
    "Programación Orientada a Objetos\n",
    "Ejercicio 3: Sistema de Gestión de Bibliotecas\n",
    "Objetivo: Crear un sistema básico para la gestión de una biblioteca.\n",
    "\n",
    "Requisitos:\n",
    "\n",
    "Crear clases para Libro, Usuario y Biblioteca.\n",
    "Implementar métodos para agregar libros, registrar usuarios, prestar y devolver libros."
   ]
  },
  {
   "cell_type": "code",
   "execution_count": 10,
   "metadata": {},
   "outputs": [
    {
     "name": "stdout",
     "output_type": "stream",
     "text": [
      "Libro '1984' agregado a la biblioteca.\n",
      "Libro 'El señor de los anillos' agregado a la biblioteca.\n",
      "Usuario 'Juan Pérez' registrado en la biblioteca.\n",
      "Usuario 'María López' registrado en la biblioteca.\n",
      "Libro '1984' prestado a 'Juan Pérez'.\n",
      "Libro 'El señor de los anillos' prestado a 'María López'.\n",
      "Libro '1984' devuelto por 'Juan Pérez'.\n",
      "Libro 'El señor de los anillos' devuelto por 'María López'.\n"
     ]
    }
   ],
   "source": [
    "class Libro:  # Clase de los libros, de la cual se toma el título, autor y su IBN.\n",
    "    def __init__(self, titulo, autor, ibn):\n",
    "        self.titulo = titulo\n",
    "        self.autor = autor\n",
    "        self.ibn = ibn\n",
    "        self.prestado = False  # Atributo para el estado del libro\n",
    "class Usuario:  # Clase de los usuarios, de la cual se toma el nombre, los apellidos y el DNI.\n",
    "    def __init__(self, nombre, apellidos, DNI):\n",
    "        self.nombre = nombre\n",
    "        self.apellidos = apellidos\n",
    "        self.DNI = DNI\n",
    "        self.libros_prestados = []  # Lista para almacenar los libros prestados\n",
    "class Biblioteca:  # Clase de la biblioteca.\n",
    "    def __init__(self):\n",
    "        self.libros = {}  # Libros que tiene la biblioteca clasificados por su 'ibn'.\n",
    "        self.usuarios = {}  # Usuarios que tiene la biblioteca clasificados por su 'DNI'.\n",
    "    def agregar_libros(self, libro):  # Función para agregar libros, si ya están agregados, hacerlo saber.\n",
    "        if libro.ibn in self.libros:\n",
    "            print(f\"El libro con IBN {libro.ibn} ya existe en la biblioteca.\")\n",
    "        else:\n",
    "            self.libros[libro.ibn] = libro\n",
    "            print(f\"Libro '{libro.titulo}' agregado a la biblioteca.\")\n",
    "    def registrar_usuarios(self, usuario):  # Función para registrar usuarios, si ya están registrados, hacerlo saber.\n",
    "        if usuario.DNI in self.usuarios:\n",
    "            print(f\"El usuario con DNI {usuario.DNI} ya está registrado.\")\n",
    "        else:\n",
    "            self.usuarios[usuario.DNI] = usuario\n",
    "            print(f\"Usuario '{usuario.nombre} {usuario.apellidos}' registrado en la biblioteca.\")\n",
    "    def prestar_libros(self, dni, ibn):  # Función para prestar libros.\n",
    "        if dni not in self.usuarios:\n",
    "            print(\"Usuario no registrado.\")\n",
    "        elif ibn not in self.libros:\n",
    "            print(\"Libro no disponible en la biblioteca.\")\n",
    "        elif self.libros[ibn].prestado:\n",
    "            print(\"El libro ya está prestado.\")\n",
    "        else:\n",
    "            libro = self.libros[ibn]\n",
    "            usuario = self.usuarios[dni]\n",
    "            libro.prestado = True\n",
    "            usuario.libros_prestados.append(ibn)\n",
    "            print(f\"Libro '{libro.titulo}' prestado a '{usuario.nombre} {usuario.apellidos}'.\")\n",
    "    def devolver_libros_a_inventario(self, dni, ibn):  # Función para devolver libros a la biblioteca.\n",
    "        if dni not in self.usuarios:\n",
    "            print(\"Usuario no registrado.\")\n",
    "        elif ibn not in self.libros:\n",
    "            print(\"Libro no pertenece a la biblioteca.\")\n",
    "        elif ibn not in self.usuarios[dni].libros_prestados:\n",
    "            print(\"El usuario no tiene este libro prestado.\")\n",
    "        else:\n",
    "            libro = self.libros[ibn]\n",
    "            usuario = self.usuarios[dni]\n",
    "            libro.prestado = False\n",
    "            usuario.libros_prestados.remove(ibn)\n",
    "            print(f\"Libro '{libro.titulo}' devuelto por '{usuario.nombre} {usuario.apellidos}'.\")\n",
    "\n",
    "# Ejemplo de uso:\n",
    "# Crear la biblioteca\n",
    "biblioteca = Biblioteca()\n",
    "# Crear libros\n",
    "libro1 = Libro(\"1984\", \"George Orwell\", \"1234567890\")\n",
    "libro2 = Libro(\"El señor de los anillos\", \"J.R.R. Tolkien\", \"0987654321\")\n",
    "# Crear usuarios\n",
    "usuario1 = Usuario(\"Juan\", \"Pérez\", \"12345678A\")\n",
    "usuario2 = Usuario(\"María\", \"López\", \"87654321B\")\n",
    "# Agregar libros a la biblioteca\n",
    "biblioteca.agregar_libros(libro1)\n",
    "biblioteca.agregar_libros(libro2)\n",
    "# Registrar usuarios\n",
    "biblioteca.registrar_usuarios(usuario1)\n",
    "biblioteca.registrar_usuarios(usuario2)\n",
    "# Prestar libros\n",
    "biblioteca.prestar_libros(\"12345678A\", \"1234567890\")  # Presta \"1984\" a Juan Pérez\n",
    "biblioteca.prestar_libros(\"87654321B\", \"0987654321\")  # Presta \"El señor de los anillos\" a María López\n",
    "# Devolver libros\n",
    "biblioteca.devolver_libros_a_inventario(\"12345678A\", \"1234567890\")  # Juan Pérez devuelve \"1984\"\n",
    "biblioteca.devolver_libros_a_inventario(\"87654321B\", \"0987654321\")  # María López devuelve \"El señor de los anillos\""
   ]
  },
  {
   "cell_type": "markdown",
   "metadata": {},
   "source": [
<<<<<<< HEAD
    "#55\n",
=======
>>>>>>> 8086a913e9293b9a0f75a387e841b4f9cd77ad76
    "Sistema de Facturación\n",
    "Objetivo: Implementar un sistema de facturación.\n",
    "\n",
    "Requisitos:\n",
    "\n",
    "Crear clases para Producto, Factura y Cliente.\n",
    "Implementar métodos para agregar productos a una factura, calcular el total, y generar un resumen de la factura."
   ]
  },
  {
   "cell_type": "code",
   "execution_count": 13,
   "metadata": {},
   "outputs": [
    {
     "name": "stdout",
     "output_type": "stream",
     "text": [
      "El producto 'Laptop' ha sido agregado a la factura exitosamente.\n",
      "El producto 'Mouse' ha sido agregado a la factura exitosamente.\n",
      "El producto 'Teclado' ha sido agregado a la factura exitosamente.\n",
      "Factura para Juan Pérez (DNI: 12345678A):\n",
      "\n",
      "----------------------------------------\n",
      "Laptop (ID: 1) - 1000€ x 4\n",
      "Mouse (ID: 2) - 50€ x 3\n",
      "Teclado (ID: 3) - 75€ x 4\n",
      "----------------------------------------\n",
      "Total a pagar: 4450€\n"
     ]
    }
   ],
   "source": [
    "class Cliente:  # Clase Cliente\n",
    "    def __init__(self, nombre, apellidos, DNI):\n",
    "        self.nombre = nombre\n",
    "        self.apellidos = apellidos\n",
    "        self.DNI = DNI\n",
    "    def __str__(self):\n",
    "        return f\"{self.nombre} {self.apellidos} (DNI: {self.DNI})\"\n",
    "\n",
    "class Producto:  # Clase Producto\n",
    "    def __init__(self, nombre, ID, precio):\n",
    "        self.nombre = nombre\n",
    "        self.ID = ID\n",
    "        self.precio = precio\n",
    "        self.cantidad = 0  # Inicializar cantidad en 0\n",
    "\n",
    "    def __str__(self):\n",
    "        return f\"{self.nombre} (ID: {self.ID}) - {self.precio}€ x {self.cantidad}\"\n",
    "\n",
    "class Factura:  # Clase Factura\n",
    "    def __init__(self, cliente):\n",
    "        self.cliente = cliente\n",
    "        self.productos = {}  # Diccionario vacío para productos\n",
    "    def agregar_productos(self, producto):  # Función para agregar productos\n",
    "        if producto.ID in self.productos:\n",
    "            print(f\"El producto '{producto.nombre}' ya está añadido a la factura.\")\n",
    "        else:\n",
    "            try:\n",
    "                cantidad = int(input(f\"¿Qué cantidad de unidades del producto '{producto.nombre}' quieres introducir en la factura?: \"))\n",
    "                if cantidad <= 0:\n",
    "                    print(f\"Error: La cantidad debe ser mayor a cero.\")\n",
    "                    return\n",
    "                producto.cantidad = cantidad\n",
    "                self.productos[producto.ID] = producto\n",
    "                print(f\"El producto '{producto.nombre}' ha sido agregado a la factura exitosamente.\")\n",
    "            except ValueError:\n",
    "                print(\"Error: La cantidad debe ser un número entero.\")\n",
    "    def calcular_total(self):  # Función para calcular el total de la factura\n",
    "        total_final = 0\n",
    "        for producto in self.productos.values():\n",
    "            total_final += producto.cantidad * producto.precio\n",
    "        return total_final\n",
    "    def imprimir_factura(self):  # Función para imprimir la factura\n",
    "        print(f\"Factura para {self.cliente}:\\n\")\n",
    "        print(f\"{'-'*40}\")\n",
    "        for producto in self.productos.values():\n",
    "            print(f\"{producto}\")\n",
    "        print(f\"{'-'*40}\")\n",
    "        total_final = self.calcular_total()\n",
    "        print(f\"Total a pagar: {total_final}€\")\n",
    "\n",
    "# Ejemplo de uso:\n",
    "# Crear cliente\n",
    "cliente = Cliente(\"Juan\", \"Pérez\", \"12345678A\")\n",
    "# Crear factura\n",
    "factura = Factura(cliente)\n",
    "# Crear productos\n",
    "producto1 = Producto(\"Laptop\", 1, 1000)\n",
    "producto2 = Producto(\"Mouse\", 2, 50)\n",
    "producto3 = Producto(\"Teclado\", 3, 75)\n",
    "# Agregar productos a la factura\n",
    "factura.agregar_productos(producto1)\n",
    "factura.agregar_productos(producto2)\n",
    "factura.agregar_productos(producto3)\n",
    "# Imprimir la factura\n",
    "factura.imprimir_factura()"
   ]
  },
  {
   "cell_type": "markdown",
   "metadata": {},
   "source": [
<<<<<<< HEAD
    "#56\n",
=======
>>>>>>> 8086a913e9293b9a0f75a387e841b4f9cd77ad76
    "Funciones Avanzadas y Decoradores\n",
    "Ejercicio 5: Decoradores para Control de Acceso\n",
    "Objetivo: Crear un decorador que controle el acceso a una función basada en roles de usuario.\n",
    "\n",
    "Requisitos:\n",
    "\n",
    "Implementar un decorador que verifique si el usuario tiene el rol adecuado antes de ejecutar la función.\n",
    "Utilizar funciones de orden superior para definir el decorador."
   ]
  },
  {
   "cell_type": "code",
   "execution_count": 14,
   "metadata": {},
   "outputs": [
    {
     "name": "stdout",
     "output_type": "stream",
     "text": [
      "--- Intentos de ejecución de funciones con diferentes usuarios ---\n",
      "Perfil de usuario 'Admin' modificado. Nuevo nombre: NuevoAdmin\n",
      "Perfil de usuario 'Editor' modificado. Nuevo nombre: NuevoEditor\n",
      "Acceso denegado para usuario con rol 'usuario'\n",
      "---\n",
      "Usuario 'UsuarioEliminar' eliminado del sistema\n",
      "Acceso denegado para usuario con rol 'editor'\n",
      "---\n",
      "Información del usuario 'Admin'\n",
      "Información del usuario 'Editor'\n",
      "Información del usuario 'Usuario'\n",
      "Acceso denegado para usuario con rol 'invitado'\n"
     ]
    }
   ],
   "source": [
    "# Definimos un decorador para verificar roles de usuario\n",
    "def verificar_rol(roles_permitidos):\n",
    "    def decorator(func):\n",
    "        def wrapper(usuario, *args, **kwargs):\n",
    "            if usuario.get('rol') in roles_permitidos:\n",
    "                return func(usuario, *args, **kwargs)\n",
    "            else:\n",
    "                raise PermissionError(f\"Acceso denegado para usuario con rol '{usuario.get('rol')}'\")\n",
    "        return wrapper\n",
    "    return decorator\n",
    "# Definimos funciones que serán protegidas por el decorador\n",
    "@verificar_rol(['admin', 'editor'])\n",
    "def modificar_perfil(usuario, nuevo_nombre):\n",
    "    print(f\"Perfil de usuario '{usuario.get('nombre')}' modificado. Nuevo nombre: {nuevo_nombre}\")\n",
    "@verificar_rol(['admin'])\n",
    "def eliminar_usuario(usuario, usuario_a_eliminar):\n",
    "    print(f\"Usuario '{usuario_a_eliminar}' eliminado del sistema\")\n",
    "@verificar_rol(['admin', 'editor', 'usuario'])\n",
    "def ver_informacion(usuario):\n",
    "    print(f\"Información del usuario '{usuario.get('nombre')}'\")\n",
    "# Simulación de usuarios\n",
    "usuario_admin = {'nombre': 'Admin', 'rol': 'admin'}\n",
    "usuario_editor = {'nombre': 'Editor', 'rol': 'editor'}\n",
    "usuario_usuario = {'nombre': 'Usuario', 'rol': 'usuario'}\n",
    "usuario_invitado = {'nombre': 'Invitado', 'rol': 'invitado'}\n",
    "# Ejecución de las funciones decoradas con diferentes usuarios\n",
    "print(\"--- Intentos de ejecución de funciones con diferentes usuarios ---\")\n",
    "try:\n",
    "    modificar_perfil(usuario_admin, 'NuevoAdmin')\n",
    "    modificar_perfil(usuario_editor, 'NuevoEditor')\n",
    "    modificar_perfil(usuario_usuario, 'NuevoUsuario')\n",
    "    modificar_perfil(usuario_invitado, 'NuevoInvitado')\n",
    "except PermissionError as e:\n",
    "    print(e)\n",
    "\n",
    "print(\"---\")\n",
    "try:\n",
    "    eliminar_usuario(usuario_admin, 'UsuarioEliminar')\n",
    "    eliminar_usuario(usuario_editor, 'UsuarioEliminar')\n",
    "    eliminar_usuario(usuario_usuario, 'UsuarioEliminar')\n",
    "    eliminar_usuario(usuario_invitado, 'UsuarioEliminar')\n",
    "except PermissionError as e:\n",
    "    print(e)\n",
    "\n",
    "print(\"---\")\n",
    "try:\n",
    "    ver_informacion(usuario_admin)\n",
    "    ver_informacion(usuario_editor)\n",
    "    ver_informacion(usuario_usuario)\n",
    "    ver_informacion(usuario_invitado)\n",
    "except PermissionError as e:\n",
    "    print(e)"
   ]
  },
  {
   "cell_type": "markdown",
   "metadata": {},
   "source": [
<<<<<<< HEAD
    "#57\n",
=======
>>>>>>> 8086a913e9293b9a0f75a387e841b4f9cd77ad76
    "Funciones Recursivas para Estructuras de Datos\n",
    "Objetivo: Implementar una función recursiva que navegue a través de una estructura de datos anidada.\n",
    "\n",
    "Requisitos:\n",
    "\n",
    "Crear una estructura de datos anidada.\n",
    "Implementar una función recursiva para buscar un valor en la estructura."
   ]
  },
  {
   "cell_type": "code",
   "execution_count": 1,
   "metadata": {},
   "outputs": [
    {
     "name": "stdout",
     "output_type": "stream",
     "text": [
      "True\n",
      "False\n",
      "True\n"
     ]
    }
   ],
   "source": [
    "#ESTRUCTURA DE DATOS ANIDADA:\n",
    "empresa = {\n",
    "    'nombre': 'CEO',\n",
    "    'subordinados': [\n",
    "        {\n",
    "            'nombre': 'Gerente 1',\n",
    "            'subordinados': [\n",
    "                {'nombre': 'Empleado A', 'subordinados': []},\n",
    "                {'nombre': 'Empleado B', 'subordinados': []}\n",
    "            ]\n",
    "        },\n",
    "        {\n",
    "            'nombre': 'Gerente 2',\n",
    "            'subordinados': [\n",
    "                {'nombre': 'Empleado C', 'subordinados': []},\n",
    "                {'nombre': 'Empleado D', 'subordinados': [\n",
    "                    {'nombre': 'Practicante 1', 'subordinados': []}\n",
    "                ]}\n",
    "            ]\n",
    "        }\n",
    "    ]\n",
    "}\n",
    "def buscar_empleado(estructura, nombre_a_buscar):\n",
    "    # Verificamos si el nombre actual coincide con el buscado\n",
    "    if estructura['nombre'] == nombre_a_buscar:\n",
    "        return True\n",
    "    # Si no, buscamos recursivamente en los subordinados\n",
    "    for subordinado in estructura.get('subordinados', []):\n",
    "        if buscar_empleado(subordinado, nombre_a_buscar):\n",
    "            return True\n",
    "    return False\n",
    "print(buscar_empleado(empresa, 'Empleado A'))  # Devuelve True\n",
    "print(buscar_empleado(empresa, 'Gerente 3'))   # Devuelve False\n",
    "print(buscar_empleado(empresa, 'Practicante 1')) # Devuelve True"
   ]
  },
  {
   "cell_type": "markdown",
   "metadata": {},
   "source": [
<<<<<<< HEAD
    "#58\n",
=======
    "Manejo de Datos y Conexión con Bases de Datos\n",
    "Ejercicio 7: Conexión a una Base de Datos SQL\n",
    "Objetivo: Escribir un script que se conecte a una base de datos SQL y realice consultas básicas.\n",
    "\n",
    "Requisitos:\n",
    "\n",
    "Conectarse a una base de datos SQLite.\n",
    "Crear una tabla, insertar datos, y realizar una consulta."
   ]
  },
  {
   "cell_type": "code",
   "execution_count": null,
   "metadata": {},
   "outputs": [],
   "source": []
  },
  {
   "cell_type": "markdown",
   "metadata": {},
   "source": [
>>>>>>> 8086a913e9293b9a0f75a387e841b4f9cd77ad76
    "Generadores y Corrutinas:\n",
    "Crea un generador que produzca los números primos hasta un límite dado.\n",
    "Implementa una corrutina que consuma valores y calcule su media acumulativa."
   ]
  },
  {
   "cell_type": "code",
   "execution_count": null,
   "metadata": {},
   "outputs": [],
   "source": [
    "def es_primo(n):\n",
    "    \"\"\"Determina si un número es primo.\"\"\"\n",
    "    if n < 2:\n",
    "        return False\n",
    "    for i in range(2, int(n**0.5) + 1):\n",
    "        if n % i == 0:\n",
    "            return False\n",
    "    return True\n",
    "\n",
    "def generador_primos(limite):\n",
    "    \"\"\"Genera números primos hasta un límite.\"\"\"\n",
    "    n = 2\n",
    "    while n <= limite:\n",
    "        if es_primo(n):\n",
    "            yield n\n",
    "        n += 1\n",
    "# Crear el generador de números primos\n",
    "gen_primos = generador_primos(50)\n",
    "# Imprimir los números primos hasta el límite\n",
    "for primo in gen_primos:\n",
    "    print(primo)"
   ]
  },
  {
   "cell_type": "markdown",
   "metadata": {},
   "source": [
<<<<<<< HEAD
    "#59\n",
=======
>>>>>>> 8086a913e9293b9a0f75a387e841b4f9cd77ad76
    "Ejercicio: Sistema de Gestión de Tareas\n",
    "Descripción:\n",
    "Vas a crear un sistema de gestión de tareas que permita a los usuarios realizar las siguientes acciones:\n",
    "\n",
    "Añadir tareas con detalles como título, descripción, fecha de vencimiento y prioridad.\n",
    "Marcar tareas como completadas.\n",
    "Eliminar tareas.\n",
    "Listar tareas por diferentes criterios (fecha de vencimiento, prioridad, estado)."
   ]
  },
  {
   "cell_type": "code",
   "execution_count": 21,
   "metadata": {},
   "outputs": [
    {
     "name": "stdout",
     "output_type": "stream",
     "text": [
      "Hacer ejercicio - 2024-09-04 00:00:00\n",
      "Comprar leche - 2024-09-05 00:00:00\n",
      "Tarea completada: True\n",
      "Comprar leche - Prioridad: 1\n",
      "Hacer ejercicio - Prioridad: 2\n"
     ]
    }
   ],
   "source": [
    "from datetime import datetime\n",
    "\n",
    "class Tarea:\n",
    "    def __init__(self, titulo, descripcion, fecha_vencimiento, prioridad):\n",
    "        self.titulo = titulo\n",
    "        self.descripcion = descripcion\n",
    "        self.fecha_vencimiento = datetime.strptime(fecha_vencimiento, \"%Y-%m-%d\")\n",
    "        self.prioridad = prioridad\n",
    "        self.completada = False\n",
    "\n",
    "    def completar(self):\n",
    "        self.completada = True\n",
    "\n",
    "class Usuario:\n",
    "    def __init__(self, nombre, apellidos, dni):\n",
    "        self.nombre = nombre\n",
    "        self.apellidos = apellidos\n",
    "        self.dni = dni\n",
    "        self.tareas = []  # Inicializar la lista de tareas\n",
    "\n",
    "    def añadir_tarea(self, tarea):\n",
    "        self.tareas.append(tarea)\n",
    "\n",
    "    def eliminar_tarea(self, tarea):\n",
    "        if tarea in self.tareas:\n",
    "            self.tareas.remove(tarea)\n",
    "\n",
    "class GestorDeTareas:\n",
    "    def __init__(self):\n",
    "        self.tareas = []\n",
    "\n",
    "    def añadir_tarea(self, tarea):\n",
    "        self.tareas.append(tarea)\n",
    "\n",
    "    def marcar_completada(self, tarea):\n",
    "        if tarea in self.tareas:\n",
    "            tarea.completar()  # Llamar al método completar de la tarea\n",
    "\n",
    "    def eliminar_tarea(self, tarea):\n",
    "        if tarea in self.tareas:\n",
    "            self.tareas.remove(tarea)\n",
    "\n",
    "    def listar_tareas(self, criterio=None):\n",
    "        if criterio == \"fecha\":\n",
    "            return sorted(self.tareas, key=lambda x: x.fecha_vencimiento)\n",
    "        elif criterio == \"prioridad\":\n",
    "            return sorted(self.tareas, key=lambda x: x.prioridad)\n",
    "        elif criterio == \"estado\":\n",
    "            return sorted(self.tareas, key=lambda x: x.completada)\n",
    "        return self.tareas\n",
    "\n",
    "# Ejemplo de uso\n",
    "gestor = GestorDeTareas()\n",
    "tarea1 = Tarea(\"Comprar leche\", \"Comprar leche en el supermercado\", \"2024-09-05\", 1)\n",
    "tarea2 = Tarea(\"Hacer ejercicio\", \"Ir al gimnasio por la tarde\", \"2024-09-04\", 2)\n",
    "usuario = Usuario(\"Ana\", \"Gomez Martín\", \"70904569j\")\n",
    "\n",
    "# Añadir tareas al gestor\n",
    "gestor.añadir_tarea(tarea1)\n",
    "gestor.añadir_tarea(tarea2)\n",
    "\n",
    "# Añadir tareas al usuario\n",
    "usuario.añadir_tarea(tarea1)\n",
    "\n",
    "# Listar tareas por fecha\n",
    "for tarea in gestor.listar_tareas(\"fecha\"):\n",
    "    print(f\"{tarea.titulo} - {tarea.fecha_vencimiento}\")\n",
    "\n",
    "# Marcar tarea como completada\n",
    "gestor.marcar_completada(tarea1)\n",
    "print(\"Tarea completada:\",tarea1.completada)\n",
    "\n",
    "# Eliminar tarea del usuario\n",
    "usuario.eliminar_tarea(tarea1)\n",
    "\n",
    "# Listar tareas por prioridad\n",
    "for tarea in gestor.listar_tareas(\"prioridad\"):\n",
    "    print(f\"{tarea.titulo} - Prioridad: {tarea.prioridad}\")\n",
    "\n",
    "\n"
   ]
  },
  {
   "cell_type": "markdown",
   "metadata": {},
   "source": [
<<<<<<< HEAD
    "#60\n",
=======
>>>>>>> 8086a913e9293b9a0f75a387e841b4f9cd77ad76
    "Decoradores:\n",
    "Escribe un decorador que registre en un archivo la hora de ejecución de cualquier función.\n",
    "Desarrolla un decorador que cache los resultados de una función costosa en términos de tiempo."
   ]
  },
  {
   "cell_type": "code",
   "execution_count": null,
   "metadata": {},
   "outputs": [],
   "source": []
  },
  {
   "cell_type": "markdown",
   "metadata": {},
   "source": [
<<<<<<< HEAD
    "#61\n",
=======
>>>>>>> 8086a913e9293b9a0f75a387e841b4f9cd77ad76
    "Expresiones Regulares:\n",
    "Utiliza expresiones regulares para validar un formato de correo electrónico.\n",
    "Escribe un script que encuentre todas las fechas en un texto y las reemplace por otro formato."
   ]
  },
  {
   "cell_type": "code",
   "execution_count": null,
   "metadata": {},
   "outputs": [],
   "source": []
  },
  {
   "cell_type": "markdown",
   "metadata": {},
   "source": [
<<<<<<< HEAD
    "#62\n",
=======
>>>>>>> 8086a913e9293b9a0f75a387e841b4f9cd77ad76
    "Programación Orientada a Objetos:\n",
    "Diseña una clase Polígono con subclases para diferentes tipos de polígonos y métodos para calcular el área y el perímetro.\n",
    "Implementa el patrón de diseño “Singleton” en Python."
   ]
  },
  {
   "cell_type": "code",
   "execution_count": null,
   "metadata": {},
   "outputs": [],
   "source": []
  },
  {
   "cell_type": "markdown",
   "metadata": {},
   "source": [
<<<<<<< HEAD
    "#63\n",
=======
>>>>>>> 8086a913e9293b9a0f75a387e841b4f9cd77ad76
    "Manejo de Excepciones:\n",
    "Crea una función que maneje diferentes tipos de excepciones al abrir y escribir en un archivo.\n",
    "Escribe un contexto de manejo de recursos que registre un mensaje cada vez que se produce una excepción."
   ]
  },
  {
   "cell_type": "code",
   "execution_count": null,
   "metadata": {},
   "outputs": [],
   "source": []
  },
  {
   "cell_type": "markdown",
   "metadata": {},
   "source": [
<<<<<<< HEAD
    "#64\n",
=======
>>>>>>> 8086a913e9293b9a0f75a387e841b4f9cd77ad76
    "Multihilo y Multiproceso:\n",
    "Desarrolla un programa que use multihilo para acelerar la descarga de archivos.\n",
    "Implementa un algoritmo de ordenación que utilice multiproceso para mejorar su rendimiento."
   ]
  },
  {
   "cell_type": "code",
   "execution_count": null,
   "metadata": {},
   "outputs": [],
   "source": []
  },
  {
   "cell_type": "markdown",
   "metadata": {},
   "source": [
<<<<<<< HEAD
    "#65\n",
=======
>>>>>>> 8086a913e9293b9a0f75a387e841b4f9cd77ad76
    "Manejo de Datos con Pandas\n",
    "Objetivo: Utilizar la biblioteca Pandas para manipular datos de un archivo CSV.\n",
    "\n",
    "Requisitos:\n",
    "\n",
    "Leer un archivo CSV.\n",
    "Realizar operaciones de limpieza y análisis de datos.\n",
    "Guardar los resultados en un nuevo archivo CSV."
   ]
  },
  {
   "cell_type": "code",
   "execution_count": null,
   "metadata": {},
   "outputs": [],
   "source": []
  },
  {
   "cell_type": "markdown",
   "metadata": {},
   "source": [
<<<<<<< HEAD
    "#66\n",
=======
>>>>>>> 8086a913e9293b9a0f75a387e841b4f9cd77ad76
    "Generación de Informes a Partir de Datos\n",
    "Objetivo: Crear un script que lea datos de una base de datos SQL, realice un análisis y genere un informe en formato PDF.\n",
    "\n",
    "Requisitos:\n",
    "\n",
    "Conectar a una base de datos SQLite y leer datos.\n",
    "Realizar análisis de los datos.\n",
    "Generar un informe en PDF que contenga tablas y gráficos."
   ]
  },
  {
   "cell_type": "code",
   "execution_count": null,
   "metadata": {},
   "outputs": [],
   "source": []
  },
  {
   "cell_type": "markdown",
   "metadata": {},
   "source": [
<<<<<<< HEAD
    "#67\n",
=======
>>>>>>> 8086a913e9293b9a0f75a387e841b4f9cd77ad76
    "Creación de un Servidor Web Básico con Flask\n",
    "Objetivo: Crear un servidor web básico utilizando Flask que permita gestionar un CRUD (Create, Read, Update, Delete) para una entidad.\n",
    "\n",
    "Requisitos:\n",
    "\n",
    "Implementar un servidor web con Flask.\n",
    "Crear rutas para agregar, leer, actualizar y eliminar elementos de una lista.\n",
    "Utilizar sqlite3 para almacenamiento de datos."
   ]
  },
  {
   "cell_type": "code",
   "execution_count": null,
   "metadata": {},
   "outputs": [],
   "source": []
  },
  {
   "cell_type": "markdown",
   "metadata": {},
   "source": [
<<<<<<< HEAD
    "#68\n",
=======
>>>>>>> 8086a913e9293b9a0f75a387e841b4f9cd77ad76
    "Integración con APIs Externas\n",
    "Objetivo: Crear un script que consuma una API externa para obtener datos, procesarlos y almacenarlos en una base de datos.\n",
    "\n",
    "Requisitos:\n",
    "\n",
    "Utilizar la biblioteca requests para hacer solicitudes HTTP a una API.\n",
    "Procesar los datos obtenidos y almacenarlos en una base de datos SQLite.\n",
    "Implementar un mecanismo para actualizar los datos de manera periódica."
   ]
  },
  {
   "cell_type": "code",
   "execution_count": null,
   "metadata": {},
   "outputs": [],
   "source": []
  },
  {
   "cell_type": "markdown",
   "metadata": {},
   "source": [
<<<<<<< HEAD
    "#69\n",
=======
>>>>>>> 8086a913e9293b9a0f75a387e841b4f9cd77ad76
    "Creación de un Servicio RESTful con Flask y JWT\n",
    "Objetivo: Implementar un servicio RESTful que permita la autenticación de usuarios y la gestión de recursos utilizando JSON Web Tokens (JWT).\n",
    "\n",
    "Requisitos:\n",
    "\n",
    "Utilizar Flask para crear el servicio RESTful.\n",
    "Implementar autenticación de usuarios con JWT.\n",
    "Crear rutas protegidas que solo usuarios autenticados puedan acceder."
   ]
  },
  {
   "cell_type": "code",
   "execution_count": null,
   "metadata": {},
   "outputs": [],
   "source": []
  }
 ],
 "metadata": {
  "kernelspec": {
   "display_name": "ejercicios",
   "language": "python",
   "name": "python3"
  },
  "language_info": {
   "codemirror_mode": {
    "name": "ipython",
    "version": 3
   },
   "file_extension": ".py",
   "mimetype": "text/x-python",
   "name": "python",
   "nbconvert_exporter": "python",
   "pygments_lexer": "ipython3",
   "version": "3.12.1"
  }
 },
 "nbformat": 4,
 "nbformat_minor": 2
}
