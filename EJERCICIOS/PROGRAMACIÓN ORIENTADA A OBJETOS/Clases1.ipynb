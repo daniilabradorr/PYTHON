{
 "cells": [
  {
   "cell_type": "markdown",
   "metadata": {},
   "source": [
    "Define una clase Tarea con atributos como titulo, descripcion, estado (pendiente/completada), y fecha_limite.\n",
    "Implementa métodos para:\n",
    "Marcar una tarea como completada.\n",
    "Editar los detalles de una tarea.\n",
    "Mostrar las tareas pendientes y las completadas.\n",
    "Crea una clase GestorDeTareas para manejar una lista de tareas, con opciones para agregar, eliminar y listar tareas.\n",
    "Extensión: Guarda y carga las tareas desde un archivo JSON para persistencia de datos."
   ]
  },
  {
   "cell_type": "code",
   "execution_count": 1,
   "metadata": {},
   "outputs": [],
   "source": [
    "import json\n",
    "from datetime import datetime\n",
    "\n",
    "# Clase Tarea\n",
    "class Tarea:\n",
    "    def __init__(self, titulo, descripcion, fecha_limite, estado=\"pendiente\"):\n",
    "        self.titulo = titulo\n",
    "        self.descripcion = descripcion\n",
    "        self.estado = estado  # 'pendiente' o 'completada'\n",
    "        self.fecha_limite = datetime.strptime(fecha_limite, \"%Y-%m-%d\")\n",
    "\n",
    "    def completar(self):\n",
    "        self.estado = \"completada\"\n",
    "\n",
    "    def editar(self, titulo=None, descripcion=None, fecha_limite=None):\n",
    "        if titulo:\n",
    "            self.titulo = titulo\n",
    "        if descripcion:\n",
    "            self.descripcion = descripcion\n",
    "        if fecha_limite:\n",
    "            self.fecha_limite = datetime.strptime(fecha_limite, \"%Y-%m-%d\")\n",
    "\n",
    "    def to_dict(self):\n",
    "        \"\"\"\n",
    "        Convierte una instancia de Tarea a un diccionario.\n",
    "        Este diccionario puede ser serializado en JSON.\n",
    "        \"\"\"\n",
    "        return {\n",
    "            \"titulo\": self.titulo,\n",
    "            \"descripcion\": self.descripcion,\n",
    "            \"estado\": self.estado,\n",
    "            \"fecha_limite\": self.fecha_limite.strftime(\"%Y-%m-%d\"),\n",
    "        }\n",
    "\n",
    "    @staticmethod\n",
    "    def from_dict(data):\n",
    "        \"\"\"\n",
    "        Convierte un diccionario de JSON en una instancia de Tarea.\n",
    "        \"\"\"\n",
    "        return Tarea(data[\"titulo\"], data[\"descripcion\"], data[\"fecha_limite\"], data[\"estado\"])\n",
    "\n",
    "    def __str__(self):\n",
    "        fecha = self.fecha_limite.strftime(\"%Y-%m-%d\")\n",
    "        return f\"[{'X' if self.estado == 'completada' else ' '}] {self.titulo} - {self.descripcion} (Límite: {fecha})\"\n",
    "\n",
    "\n",
    "# Clase GestorDeTareas\n",
    "class GestorDeTareas:\n",
    "    def __init__(self):\n",
    "        self.tareas = []\n",
    "\n",
    "    def agregar_tarea(self, tarea):\n",
    "        self.tareas.append(tarea)\n",
    "\n",
    "    def eliminar_tarea(self, titulo):\n",
    "        self.tareas = [tarea for tarea in self.tareas if tarea.titulo != titulo]\n",
    "\n",
    "    def mostrar_tareas(self, estado=None):\n",
    "        \"\"\"\n",
    "        Muestra todas las tareas. Si se especifica un estado, filtra por estado.\n",
    "        \"\"\"\n",
    "        for tarea in self.tareas:\n",
    "            if estado is None or tarea.estado == estado:\n",
    "                print(tarea)\n",
    "\n",
    "    def guardar_en_archivo(self, archivo):\n",
    "        \"\"\"\n",
    "        Guarda todas las tareas en un archivo JSON.\n",
    "        \"\"\"\n",
    "        with open(archivo, \"w\") as f:\n",
    "            # Convierte cada tarea a diccionario y las serializa en JSON\n",
    "            json.dump([tarea.to_dict() for tarea in self.tareas], f, indent=4)\n",
    "\n",
    "    def cargar_desde_archivo(self, archivo):\n",
    "        \"\"\"\n",
    "        Carga las tareas desde un archivo JSON.\n",
    "        \"\"\"\n",
    "        try:\n",
    "            with open(archivo, \"r\") as f:\n",
    "                tareas_dict = json.load(f)  # Carga la lista de diccionarios\n",
    "                self.tareas = [Tarea.from_dict(tarea) for tarea in tareas_dict]\n",
    "        except FileNotFoundError:\n",
    "            print(f\"Archivo {archivo} no encontrado. Se empezará con una lista vacía.\")\n",
    "        except json.JSONDecodeError:\n",
    "            print(f\"El archivo {archivo} no tiene un formato válido de JSON.\")"
   ]
  },
  {
   "cell_type": "markdown",
   "metadata": {},
   "source": [
    "CLASE PERSONA\n",
    "Define una clase Persona con atributos como nombre, edad y profesión. Luego, crea varios objetos de esta clase y muestra su información."
   ]
  },
  {
   "cell_type": "code",
   "execution_count": 5,
   "metadata": {},
   "outputs": [
    {
     "name": "stdout",
     "output_type": "stream",
     "text": [
      "30 Juan Abogado\n",
      "25 María Ingeniera\n"
     ]
    }
   ],
   "source": [
    "class Persona:\n",
    "    def __init__ (self, edad, nombre, profesion):\n",
    "        self.edad = edad\n",
    "        self.nombre = nombre\n",
    "        self.profresion = profesion\n",
    "\n",
    "persona1 = Persona(30, \"Juan\", \"Abogado\")\n",
    "persona2 = Persona(25, \"María\", \"Ingeniera\")\n",
    "\n",
    "print(persona1.edad, persona1.nombre, persona1.profresion)\n",
    "print(persona2.edad, persona2.nombre, persona2.profresion)"
   ]
  },
  {
   "cell_type": "markdown",
   "metadata": {},
   "source": [
    "LIBRO\n",
    "Crea una clase “Libro” con atributos como título, autor y año de publicación. Luego, crea varios objetos Libro y muestra su información."
   ]
  },
  {
   "cell_type": "code",
   "execution_count": 12,
   "metadata": {},
   "outputs": [
    {
     "name": "stdout",
     "output_type": "stream",
     "text": [
      "Pyhton papapapazp Mi Nepe 3738\n"
     ]
    }
   ],
   "source": [
    "class Libro:\n",
    "    def __init__(self, título, autor, año_publicación):\n",
    "        self.título = título\n",
    "        self.autor = autor\n",
    "        self.año_publicación = año_publicación\n",
    "\n",
    "Libro1 = Libro(\"Pyhton papapapazp\", \"Mi Nepe\", 3738)\n",
    "Libro2 = Libro(\"holabebebe\", \" aurelio\", 1287)\n",
    "\n",
    "print(Libro1.título, Libro1.autor, Libro1.año_publicación)"
   ]
  },
  {
   "cell_type": "markdown",
   "metadata": {},
   "source": [
    "CALCULADORA BÁSICA\n",
    "Crea una clase llamada “Calculadora” con métodos para sumar, restar, multiplicar y dividir. Crea objetos de esta clase y realiza algunas operaciones básicas."
   ]
  },
  {
   "cell_type": "code",
   "execution_count": 8,
   "metadata": {},
   "outputs": [
    {
     "name": "stdout",
     "output_type": "stream",
     "text": [
      "8\n",
      "2\n",
      "15\n",
      "1.6666666666666667\n"
     ]
    }
   ],
   "source": [
    "class Calculadora:\n",
    "    def sumar(self, a, b):\n",
    "        return a + b\n",
    "    def restar(self, a, b):\n",
    "        return a - b\n",
    "    def multiplicar(self, a, b):\n",
    "        return a * b\n",
    "    def dividir(self, a, b):\n",
    "        return a / b\n",
    "    \n",
    "calculadora = Calculadora()\n",
    "print(calculadora.sumar(5,3))\n",
    "print(calculadora.restar(5,3))\n",
    "print(calculadora.multiplicar(5,3))\n",
    "print(calculadora.dividir(5,3))\n",
    "        "
   ]
  },
  {
   "cell_type": "markdown",
   "metadata": {},
   "source": [
    "RECTÁNGULO\n",
    "Crea una clase “Rectangulo” con atributos de longitud y ancho. Implementa un método para calcular el área y el perímetro del rectángulo."
   ]
  },
  {
   "cell_type": "code",
   "execution_count": 17,
   "metadata": {},
   "outputs": [
    {
     "name": "stdout",
     "output_type": "stream",
     "text": [
      "El área del rectángulo es: 15\n",
      "El perímetro del rectángulo es: 16\n"
     ]
    }
   ],
   "source": [
    "class Rectangulo:\n",
    "    def __init__(self, longitud, ancho):\n",
    "        self.longitud = longitud\n",
    "        self.ancho = ancho\n",
    "    def calcular_area(self):\n",
    "        area = self.longitud * self.ancho\n",
    "        return area\n",
    "    def calcular_perimetro(self):\n",
    "        return 2 * (self.longitud + self.ancho)\n",
    "    \n",
    "rectangulo1 = Rectangulo(5,3)\n",
    "print(\"El área del rectángulo es:\", rectangulo1.calcular_area())\n",
    "print(\"El perímetro del rectángulo es:\", rectangulo1.calcular_perimetro())"
   ]
  },
  {
   "cell_type": "markdown",
   "metadata": {},
   "source": [
    "DADO\n",
    "Crea una clase “Dado” que simule el lanzamiento de un dado de 6 caras. Implementa un método para lanzar el dado y mostrar el resultado (quizás te convenga usar el modulo random)."
   ]
  },
  {
   "cell_type": "code",
   "execution_count": 19,
   "metadata": {},
   "outputs": [
    {
     "name": "stdout",
     "output_type": "stream",
     "text": [
      "El resultado de lanzar aleatriamente el dado es: 6\n"
     ]
    }
   ],
   "source": [
    "#Importamos el módulo random.\n",
    "import random \n",
    "class Dado:\n",
    "    def lanzar_dado(self):\n",
    "        lanzamiento = random.randint(1,6)\n",
    "        return lanzamiento\n",
    "    \n",
    "dado = Dado()\n",
    "resultado = dado.lanzar_dado()\n",
    "print(\"El resultado de lanzar aleatriamente el dado es:\", resultado)"
   ]
  },
  {
   "cell_type": "markdown",
   "metadata": {},
   "source": [
    "COCHE\n",
    "Crea una clase “Coche” con atributos como marca, modelo y año. Implementa un método para encender el coche y otro para apagarlo (puedes simulae el encendido y apagado con una variable booleana)."
   ]
  },
  {
   "cell_type": "code",
   "execution_count": 23,
   "metadata": {},
   "outputs": [
    {
     "name": "stdout",
     "output_type": "stream",
     "text": [
      "El coche está encendido: True\n",
      "El coche está encendido: False\n"
     ]
    }
   ],
   "source": [
    "class Coche:\n",
    "    def __init__(self, marca, modelo, año):\n",
    "        self.marca = marca\n",
    "        self.modelo = modelo\n",
    "        self.año = año\n",
    "        self.encendido = False\n",
    "    def encender_coche(self):\n",
    "        self.encendido = True\n",
    "    def apagar_coche(self):\n",
    "        self.encendido = False\n",
    "\n",
    "mi_coche = Coche(\"Toyota\", \"Corolla\", 2015)\n",
    "mi_coche.encender_coche()\n",
    "print(\"El coche está encendido:\", mi_coche.encendido )\n",
    "mi_coche.apagar_coche()\n",
    "print(\"El coche está encendido:\", mi_coche.encendido )"
   ]
  }
 ],
 "metadata": {
  "kernelspec": {
   "display_name": "ejercicios",
   "language": "python",
   "name": "python3"
  },
  "language_info": {
   "codemirror_mode": {
    "name": "ipython",
    "version": 3
   },
   "file_extension": ".py",
   "mimetype": "text/x-python",
   "name": "python",
   "nbconvert_exporter": "python",
   "pygments_lexer": "ipython3",
   "version": "3.12.1"
  }
 },
 "nbformat": 4,
 "nbformat_minor": 2
}
