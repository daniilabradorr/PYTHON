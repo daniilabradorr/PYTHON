{
 "cells": [
  {
   "cell_type": "markdown",
   "metadata": {},
   "source": [
    "CUENTA BANCARIA \n",
    "Crea una clase \"CuentaBancaria\" con atributos como número de cuenta y \n",
    "saldo. Implementa métodos para depositar y retirar dinero, y muestra el \n",
    "saldo actual."
   ]
  },
  {
   "cell_type": "code",
   "execution_count": 8,
   "metadata": {},
   "outputs": [
    {
     "name": "stdout",
     "output_type": "stream",
     "text": [
      "El saldo actual después de haber realizado el ingreso de 540.0 es 540.0 EU\n",
      "El saldo actual de su cuenta bancaria es: 540.0\n",
      "El saldo actual de su cuenta bancaria es: 540.0\n",
      "Gracias por utilizar nuestros servicios.\n"
     ]
    }
   ],
   "source": [
    "#Creamos clase \"CuentaBancaria\" en la cual vamos a poner sus atributos.\n",
    "class CuentaBancaria:\n",
    "    def __init__(self, numero_de_cuenta, saldo = 0):\n",
    "        self.numero_de_cuenta = numero_de_cuenta\n",
    "        self.saldo = saldo\n",
    "    #Ponemos los metodos requeridos.\n",
    "    def despositarDinero(self,IngresoDinero):\n",
    "        self.IngresoDinero = IngresoDinero\n",
    "        self.saldo += IngresoDinero\n",
    "        print(f\"El saldo actual después de haber realizado el ingreso de {IngresoDinero} es {self.saldo} EU\")\n",
    "    def retirarDinero(self,RetirarDinero):\n",
    "        self.RetirarDinero = RetirarDinero\n",
    "        if self.saldo >= RetirarDinero:\n",
    "            self.saldo -= RetirarDinero\n",
    "            print(f\"El saldo actual después de haber realizado el retiro de {RetirarDinero} es {self.saldo} EU\")\n",
    "\n",
    "        else:\n",
    "            print(\"Saldo insuficiente\")\n",
    "    def mostrarSaldoActual(self):\n",
    "        print(\"El saldo actual de su cuenta bancaria es:\", self.saldo)\n",
    "\n",
    "    \n",
    "#Pedimos al usuario que introduzca su número de cuenta.\n",
    "numeroDeCuenta = input(\"Introduzca su número de cuenta por favor: \")\n",
    "Cuenta = CuentaBancaria(numeroDeCuenta)\n",
    "\n",
    "# Solicitar ingreso y retiro\n",
    "while True:\n",
    "    opcion = input(\"\\nSeleccione una opción:\\n1. Depositar dinero\\n2. Retirar dinero\\n3. Mostrar saldo actual\\n4. Salir\\n\")\n",
    "\n",
    "    if opcion == '1':\n",
    "        ingreso = float(input(\"Ingrese la cantidad a depositar: \"))\n",
    "        Cuenta.despositarDinero(ingreso)\n",
    "    elif opcion == '2':\n",
    "        retiro = float(input(\"Ingrese la cantidad a retirar: \"))\n",
    "        Cuenta.retirarDinero(retiro)\n",
    "    elif opcion == '3':\n",
    "        Cuenta.mostrarSaldoActual()\n",
    "    elif opcion == '4':\n",
    "        print(\"Gracias por utilizar nuestros servicios.\")\n",
    "        break\n",
    "    else:\n",
    "        print(\"Opción no válida. Por favor, seleccione una opción válida.\")"
   ]
  },
  {
   "cell_type": "markdown",
   "metadata": {},
   "source": [
    "LISTA DE TAREAS \n",
    "Crea una clase \"ListaTareas\" que contenga una lista de tareas pendientes. \n",
    "Implementa métodos para agregar una tarea, marcar una tarea como \n",
    "completada y mostrar todas las tareas"
   ]
  },
  {
   "cell_type": "code",
   "execution_count": null,
   "metadata": {},
   "outputs": [],
   "source": [
    "class ListaTareas:\n",
    "    def __init__(self):\n",
    "        self.tareas = []\n",
    "    #Implementamos los módulos necesarios.\n",
    "    def AgregarTarea(self, tarea):\n",
    "        self.tareas.append({\"Tarea:\", tarea, \"Completada\":False})\n",
    "        \n",
    "    def MarcarTarea(self, indice):\n",
    "        if 0 >= indice < len(self.tareas):\n",
    "            self.tareas[indice][\"Completada\"] = True\n",
    "    def MostrarTareas(self):\n",
    "        print(self.tareas)\n"
   ]
  },
  {
   "cell_type": "markdown",
   "metadata": {},
   "source": [
    " TIENDA ONLINE \n",
    "Crea una clase \"Producto\" con atributos como nombre, precio y cantidad en \n",
    "stock. Luego, crea una clase \"Tienda\" que contenga una lista de productos \n",
    "disponibles y métodos para agregar productos, mostrar el inventario y \n",
    "realizar una compra."
   ]
  },
  {
   "cell_type": "code",
   "execution_count": 23,
   "metadata": {},
   "outputs": [
    {
     "name": "stdout",
     "output_type": "stream",
     "text": [
      "Camiseta - Precio: 20€ - Stock: 50\n",
      "Pantalón - Precio: 30€ - Stock: 30\n",
      "ERROR: No hay suficiente stock\n"
     ]
    }
   ],
   "source": [
    "class Producto:\n",
    "    def __init__(self, nombre, precio, stock):\n",
    "        self.nombre = nombre\n",
    "        self.precio = precio\n",
    "        self.stock = stock\n",
    "    #Agregamos los métodos necesarios o requeridos.\n",
    "    \n",
    "#Creamos la clase Tienda.\n",
    "class Tienda:\n",
    "    def __init__(self):\n",
    "        self.productos = []\n",
    "\n",
    "    #Agregamos los métodos necesarios.\n",
    "    def AgregarProductos(self, producto):\n",
    "        #Agregamos a la lista cada producto.\n",
    "        self.productos.append(producto)\n",
    "        pass\n",
    "    def MostrarInventario(self):\n",
    "        for producto in  self.productos:\n",
    "            print(f\"{producto.nombre} - Precio: {producto.precio}€ - Stock: {producto.stock}\")\n",
    "        pass\n",
    "    def RealizarCompra(self, nombre, cantidad):\n",
    "        for producto in self.productos:\n",
    "            if producto.nombre == nombre:\n",
    "                if producto.stock >= cantidad:\n",
    "                    producto.stock -= cantidad\n",
    "                    print(\"Compra exitosa, precio total:\", producto.precio * cantidad,\"EU\")\n",
    "                else:\n",
    "                    print(\"ERROR: No hay suficiente stock\")\n",
    "                return\n",
    "            else:\n",
    "                print(\"ERROR: producto no encontrado\")\n",
    "\n",
    "\n",
    "#EJEMPLO DE USO.\n",
    "\n",
    "tienda = Tienda()\n",
    "producto1 = Producto(\"Camiseta\", 20, 50)\n",
    "producto2 = Producto(\"Pantalón\", 30, 30)\n",
    "#Agregamos los productos a la tienda.\n",
    "tienda.AgregarProductos(producto1)\n",
    "tienda.AgregarProductos(producto2)\n",
    "tienda.MostrarInventario()\n",
    "\n",
    "#Realizamos la compra que queremos hacer.\n",
    "tienda.RealizarCompra(\"Camiseta\", 55)"
   ]
  },
  {
   "cell_type": "markdown",
   "metadata": {},
   "source": [
    " PILA (STACK) BÁSICA \n",
    "En programación, un \"stack\" es una estructura de datos que sigue el \n",
    "principio de LIFO (Last In, First Out), lo que significa que el último elemento \n",
    "agregado a la pila es el primero en ser retirado. Imagina una pila de platos: \n",
    "cuando apilas un nuevo plato, este se coloca en la parte superior de la pila, \n",
    "y cuando retiras un plato, siempre tomas el de arriba primero.\n",
    " En Python, puedes implementar un stack utilizando una lista. Puedes \n",
    "agregar elementos a la pila utilizando el método `append()`, y puedes retirar \n",
    "elementos de la pila utilizando el método `pop()` sin ningún índice \n",
    "especificado, ya que `pop()` por defecto elimina y devuelve el último \n",
    "elemento de la lista.\n",
    "Los stacks son útiles en muchas situaciones, como algoritmos de búsqueda \n",
    "y recorrido, manejo de llamadas a funciones (con la pila de llamadas), \n",
    "manejos de historial y navegación y más.\n",
    " Crea una clase \"Pila\" que represente una pila (stack) básica. Implementa \n",
    "métodos para agregar elementos a la pila, quitar elementos y mostrar el \n",
    "contenido actual.\n",
    " Por supuesto, estaré encantado de explicarte qué es un \"stack\" en el \n",
    "contexto de la programación y cómo se utiliza en Python."
   ]
  },
  {
   "cell_type": "code",
   "execution_count": 27,
   "metadata": {},
   "outputs": [
    {
     "name": "stdout",
     "output_type": "stream",
     "text": [
      "Contenido de la pila: [5, 10]\n",
      "Contenido de la pila: [5]\n"
     ]
    }
   ],
   "source": [
    "class Pila:\n",
    "    def __init__(self):\n",
    "        self.items = []\n",
    "        \n",
    "    def Agregar(self, elemento):\n",
    "        self.items.append(elemento)\n",
    "        \n",
    "    def Quitar(self):\n",
    "        if not self.esta_vacia():\n",
    "            return self.items.pop()\n",
    "        else:\n",
    "            print(\"LA PILA ESTA VACÍA\")\n",
    "            \n",
    "    def esta_vacia(self):\n",
    "        return len(self.items) == 0\n",
    "    \n",
    "    def MostrarContenidoActual(self):\n",
    "        print(\"Contenido de la pila:\", self.items)\n",
    "\n",
    "# Ejemplo de uso.\n",
    "pila = Pila()\n",
    "pila.Agregar(5)\n",
    "pila.Agregar(10)\n",
    "pila.MostrarContenidoActual()\n",
    "pila.Quitar()\n",
    "pila.MostrarContenidoActual()\n"
   ]
  },
  {
   "cell_type": "markdown",
   "metadata": {},
   "source": [
    " SISTEMA DE GESTION DE BIBLIOTECA \n",
    "Crea un sistema de gestión de una biblioteca utilizando clases en Python. \n",
    "Debes implementar las siguientes clases:\n",
    " 1. “Libro”: Representa un libro con atributos como título, autor y número de \n",
    "ejemplares disponibles.\n",
    " 2. “Usuario”: Representa a un usuario de la biblioteca con atributos como \n",
    "nombre, número de identificación y lista de libros prestados.\n",
    " 3. “Biblioteca”: Representa la biblioteca en sí, con métodos para agregar \n",
    "libros, prestar libros a usuarios, devolver libros y mostrar el inventario."
   ]
  },
  {
   "cell_type": "code",
   "execution_count": null,
   "metadata": {},
   "outputs": [],
   "source": [
    "class Libro:\n",
    "    def __init__(self, título, autor, ejemplares_disponibles):\n",
    "        self.título = título\n",
    "        self.autor = autor\n",
    "        self.ejemplares_disponibles = ejemplares_disponibles\n",
    "\n",
    "class Usuario:\n",
    "    def __init__(self, nombre, numero_identificacion, libros_prestados):\n",
    "        self.nombre = nombre\n",
    "        self.numero_identificacion = numero_identificacion\n",
    "        self.libros_prestados = []\n",
    "\n",
    "class Biblioteca:\n",
    "    def __init__(self):\n",
    "        pass\n",
    "    #Agregamos los métodos necesarios o requeridos.\n"
   ]
  }
 ],
 "metadata": {
  "kernelspec": {
   "display_name": "ejercicios",
   "language": "python",
   "name": "python3"
  },
  "language_info": {
   "codemirror_mode": {
    "name": "ipython",
    "version": 3
   },
   "file_extension": ".py",
   "mimetype": "text/x-python",
   "name": "python",
   "nbconvert_exporter": "python",
   "pygments_lexer": "ipython3",
   "version": "3.12.1"
  }
 },
 "nbformat": 4,
 "nbformat_minor": 2
}
