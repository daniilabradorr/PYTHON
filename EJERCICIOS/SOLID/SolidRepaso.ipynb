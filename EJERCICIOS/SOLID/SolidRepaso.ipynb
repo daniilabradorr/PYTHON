{
 "cells": [
  {
   "cell_type": "markdown",
   "metadata": {},
   "source": [
    "Crea un programa que valide un formulario de registro. Crea una función\n",
    "llamada validar_formulario que reciba diferentes campos de un formulario\n",
    "(nombre, correo electrónico y número de teléfono) y verifique si los valores\n",
    "ingresados cumplen con los requisitos especificados, siendo estos:\n",
    "1. Que el nombre tenga una longitud minima de 3 caracteres\n",
    "2. Que el teléfono este conformado por dígitos y tenga una longitud de 9\n",
    "caracteres\n",
    "3. Que el email contenga un “@“ y un “.”"
   ]
  },
  {
   "cell_type": "code",
   "execution_count": 10,
   "metadata": {},
   "outputs": [
    {
     "name": "stdout",
     "output_type": "stream",
     "text": [
      "El formulario no es válido\n"
     ]
    }
   ],
   "source": [
    "#Realizamos la funcion de validar formulario con el nombre correo electronico y numero de telefono.\n",
    "def validar_formulario(nombre, correo_electronico, numtelefono):\n",
    "    #Realizamos la comprobación de que la longitud del nombre no puede ser menor de 3.\n",
    "    #Si es menor nos dara de retorno un False.\n",
    "    if len(nombre) < 3:\n",
    "        return False\n",
    "        \n",
    "    #Realizamos la comprobación de que el telefono esta conformado por digitos y tenga una longitud de 9 caracteres.\n",
    "    if len(numtelefono) != 9 or not numtelefono.isdigit():\n",
    "        return False\n",
    "        \n",
    "    #Realizamos la comprobacion si no tiene en el correo la @ y el . nos retornara falso\n",
    "    if \"@\" not in correo_electronico or \".\" not in correo_electronico:\n",
    "        return False\n",
    "    \n",
    "    return True\n",
    "\n",
    "while True:\n",
    "    try:\n",
    "        #Introduzca el usuario los datos.\n",
    "        nombre = input(\"Introduzca el nombre deseado porfavor: \")\n",
    "        correo_electronico = input(\"Introduzca su correo electrónico: \")\n",
    "        numtelefono = input(\"Introduzca el número de teléfono deseado: \")\n",
    "\n",
    "        #Llamamos a la función.\n",
    "        valido = validar_formulario(nombre, correo_electronico, numtelefono)\n",
    "\n",
    "        #Realizamos la validación de la función.\n",
    "        if valido:\n",
    "            print(\"El formulario es válido\")\n",
    "        else:\n",
    "            print(\"El formulario no es válido\")\n",
    "        break\n",
    "    except ValueError:\n",
    "        print(\"Número de teléfono incorrecto, vuelva a intentarlo por favor.\")"
   ]
  },
  {
   "cell_type": "code",
   "execution_count": 2,
   "metadata": {},
   "outputs": [
    {
     "name": "stdout",
     "output_type": "stream",
     "text": [
      "Mueve el disco 1 desde, A hasta C\n",
      "Mueve el disco, 2 desde, A hasta, B\n",
      "Mueve el disco 1 desde, C hasta B\n",
      "Mueve el disco, 3 desde, A hasta, C\n",
      "Mueve el disco 1 desde, B hasta A\n",
      "Mueve el disco, 2 desde, B hasta, C\n",
      "Mueve el disco 1 desde, A hasta C\n"
     ]
    }
   ],
   "source": [
    "def torres_de_hanoi(numDiscos, origen,destino,auxiliar):\n",
    "    if numDiscos == 1:\n",
    "        print(\"Mueve el disco 1 desde,\", origen, \"hasta\", destino)\n",
    "        return\n",
    "    torres_de_hanoi(numDiscos - 1, origen, auxiliar, destino)\n",
    "    print(\"Mueve el disco,\", numDiscos, \"desde,\", origen, \"hasta,\", destino)\n",
    "    torres_de_hanoi(numDiscos - 1, auxiliar, destino, origen)\n",
    "\n",
    "#ejemplo de uso.\n",
    "numDiscos = 3\n",
    "torres_de_hanoi(numDiscos, \"A\",\"C\",\"B\")"
   ]
  },
  {
   "cell_type": "code",
   "execution_count": 5,
   "metadata": {},
   "outputs": [
    {
     "name": "stdout",
     "output_type": "stream",
     "text": [
      "Formulario valido\n"
     ]
    }
   ],
   "source": [
    "def validar_formulario(nombre, correo_electronico, numero_de_telefono):\n",
    "    if len(nombre) < 3:\n",
    "        return False\n",
    "    \n",
    "    if \"@\" not in email or \".\" not in email:\n",
    "        return False\n",
    "    \n",
    "    if len(numero_de_telefono) == 9 and not numero_de_telefono.isdigit():\n",
    "        return False\n",
    "\n",
    "    return True\n",
    "#Pedir información al usuario.\n",
    "nombre = input(\"Introduzca el nombre: \")\n",
    "email = input(\"Introduzca el email:\")\n",
    "numero_de_telefono = input(\"Introduzca el número de teléfono: \")\n",
    "\n",
    "valido = validar_formulario(nombre, email, numero_de_telefono)\n",
    "if valido:\n",
    "    print(\"Formulario valido\")\n",
    "else:\n",
    "    print(\"Formulario no valido\")\n",
    "#Validar formulario\n",
    "    ##Si la validacion es TRue formulario valido.\n",
    "    #False formulario no valido."
   ]
  },
  {
   "cell_type": "markdown",
   "metadata": {},
   "source": [
    "Crea un programa que permita gestionar las ventas de una tienda. Utiliza una\n",
    "estructura de datos adecuada para almacenar la información de las ventas\n",
    "(por ejemplo, una lista de diccionarios). Implementa dos funciones, una para\n",
    "agregar el producto vendido con su precio y otro para mostrar las ventas de\n",
    "productos con sus respectivos precios.\n",
    "(La base de datos puede tener la forma [{“Producto”: producto1, “Precio”:\n",
    "precio1}, {“Producto”: producto2, “Precio”: precio2}…])"
   ]
  },
  {
   "cell_type": "code",
   "execution_count": 11,
   "metadata": {},
   "outputs": [],
   "source": [
    "ventas= []\n",
    "\n",
    "def agregar_venta(producto, precio):\n",
    "    \"\"\"agregar nuestras ventas a la base de datos\"\"\"\n",
    "    #Producto: nombre del producto vendido\n",
    "    #Precio: precio del producto vendido.\n",
    "    venta = {\n",
    "        \"producto\": producto,\n",
    "        \"precio\": precio\n",
    "    }\n",
    "    \n",
    "    ventas.append(venta)\n",
    "\n",
    "def mostrar_ventas():\n",
    "    for venta in ventas:\n",
    "        print(\"Productos\", venta[\"producto\"])\n",
    "        print(\"Precio\", venta[\"precio\"])\n",
    "        print(\"-----\")\n",
    "\n",
    "#Ejemplo de uso\n",
    "agregar_venta(\"Camisa\", 25.99)\n",
    "agregar_venta(\"Pantalon\", 39)\n",
    "agregar_venta(\"Zapatos\", 39.95)\n"
   ]
  }
 ],
 "metadata": {
  "kernelspec": {
   "display_name": "ejercicios",
   "language": "python",
   "name": "python3"
  },
  "language_info": {
   "codemirror_mode": {
    "name": "ipython",
    "version": 3
   },
   "file_extension": ".py",
   "mimetype": "text/x-python",
   "name": "python",
   "nbconvert_exporter": "python",
   "pygments_lexer": "ipython3",
   "version": "3.12.1"
  }
 },
 "nbformat": 4,
 "nbformat_minor": 2
}
