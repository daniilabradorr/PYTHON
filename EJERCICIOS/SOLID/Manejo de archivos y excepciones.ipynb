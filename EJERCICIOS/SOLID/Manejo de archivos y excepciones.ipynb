{
 "cells": [
  {
   "cell_type": "markdown",
   "metadata": {},
   "source": [
    "Un problema común al solicitar una entrada numérica ocurre cuando las\n",
    "personas ingresan texto en lugar de números. Cuando intentas convertir la\n",
    "entrada a un entero (int), obtendrás un ValueError. Escribe un programa que\n",
    "solicite dos números. Suma los números y muestra el resultado. Captura el\n",
    "ValueError si alguno de los valores de entrada no es un número e imprime un\n",
    "mensaje de error amigable. Prueba tu programa ingresando dos números y\n",
    "luego ingresando texto en lugar de un número. Envuelve tu código del en un\n",
    "bucle while para que el usuario pueda continuar ingresando números incluso\n",
    "si comete un error ingresando texto en lugar de un número."
   ]
  },
  {
   "cell_type": "code",
   "execution_count": 8,
   "metadata": {},
   "outputs": [
    {
     "name": "stdout",
     "output_type": "stream",
     "text": [
      "Error, introduzca solo números enteros porfavor.\n",
      "Error, introduzca solo números enteros porfavor.\n",
      "El resultado de la suma es: 8\n"
     ]
    }
   ],
   "source": [
    "while True:\n",
    "    #Comprobamos si los números son enteros\n",
    "    #Si lo son saldra del while con el break\n",
    "    try:\n",
    "        num1 = int(input(\"Introduzca el primer número: \"))\n",
    "        num2 = int(input(\"Introduzca el segundo número: \"))\n",
    "\n",
    "        sumanumeros = num1 + num2\n",
    "        print(\"El resultado de la suma es:\", sumanumeros)\n",
    "        break\n",
    "    except ValueError:\n",
    "        #Al no ser números enteros se repite.\n",
    "        print(\"Error, introduzca solo números enteros porfavor.\")"
   ]
  }
 ],
 "metadata": {
  "kernelspec": {
   "display_name": "ejercicios",
   "language": "python",
   "name": "python3"
  },
  "language_info": {
   "codemirror_mode": {
    "name": "ipython",
    "version": 3
   },
   "file_extension": ".py",
   "mimetype": "text/x-python",
   "name": "python",
   "nbconvert_exporter": "python",
   "pygments_lexer": "ipython3",
   "version": "3.12.1"
  }
 },
 "nbformat": 4,
 "nbformat_minor": 2
}
